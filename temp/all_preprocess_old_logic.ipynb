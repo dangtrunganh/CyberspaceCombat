{
 "cells": [
  {
   "cell_type": "code",
   "execution_count": 137,
   "metadata": {},
   "outputs": [],
   "source": [
    "import pandas as pd\n",
    "import numpy as np\n",
    "import os\n",
    "import time\n",
    "import re\n",
    "import csv\n",
    "import pickle\n",
    "from collections import Counter\n",
    "import matplotlib.pyplot as plt\n",
    "from hdfs import InsecureClient\n",
    "from sklearn.feature_extraction.text import CountVectorizer\n",
    "%matplotlib inline\n",
    "from chardet.universaldetector import UniversalDetector\n",
    "client = InsecureClient('http://bat354.cbs.vn:50070')"
   ]
  },
  {
   "cell_type": "code",
   "execution_count": 138,
   "metadata": {},
   "outputs": [],
   "source": [
    "current_root = '/home/polynote/notebooks/anhdt157/classify-use-ml/end-to-end-final-predict/'\n",
    "root_dir = '/home/polynote/notebooks/anhdt157/'"
   ]
  },
  {
   "cell_type": "code",
   "execution_count": 139,
   "metadata": {},
   "outputs": [],
   "source": [
    "MONTH = '202001' # MODIFY"
   ]
  },
  {
   "cell_type": "code",
   "execution_count": 140,
   "metadata": {},
   "outputs": [],
   "source": [
    "TREE_VERSION = '8' #MODIFY"
   ]
  },
  {
   "cell_type": "code",
   "execution_count": 141,
   "metadata": {},
   "outputs": [],
   "source": [
    "###### PATH_INTEREST_TREE = \"/data-product/user-profile/settings/interest_keywords_v7.csv\"\n",
    "PATH_INTEREST_TREE = current_root + 'old_logic/tree/Interest_tree_v8_20200220.xlsx'\n",
    "PATH_DINFO = root_dir + 'crawl_data/output_dinfo_each_month/dinfo_' + MONTH + '.csv'\n",
    "PATH_MODEL = current_root + 'old_logic/model_bow/model_' + MONTH\n",
    "\n",
    "# RESULT\n",
    "PATH_RESULT_OLD_LOGIC = current_root + 'old_logic/result/result_' + MONTH + '.csv' \n",
    "\n",
    "# path này có thể thay đổi, nên không thể sử dụng MODE được\n",
    "PATH_DATA_EN = current_root + 'input_data/en-data-test-' + MONTH + '.csv'\n",
    "PATH_DATA_VI = current_root + 'input_data/vi-data-test-' + MONTH + '.csv'"
   ]
  },
  {
   "cell_type": "code",
   "execution_count": 142,
   "metadata": {},
   "outputs": [],
   "source": [
    "# RESULT\n",
    "output_test_cant_parsing = current_root + 'train_test_data/test/dinfo-data-test-cant-parsing-' + MONTH + '.csv'\n",
    "output_test_spam = current_root + 'train_test_data/test/data-test-spam-' + MONTH + '.csv'\n",
    "output_test_not_spam = current_root + 'train_test_data/test/data-test-not-spam-' + MONTH + '.csv'"
   ]
  },
  {
   "cell_type": "code",
   "execution_count": null,
   "metadata": {},
   "outputs": [],
   "source": []
  },
  {
   "cell_type": "code",
   "execution_count": 143,
   "metadata": {
    "scrolled": true
   },
   "outputs": [],
   "source": [
    "# path = \"/home/datamon/anhns3/data/from_hdfs/crawl_all_20190518/\"\n",
    "# df = pd.read_parquet(path)"
   ]
  },
  {
   "cell_type": "code",
   "execution_count": 144,
   "metadata": {},
   "outputs": [],
   "source": [
    "# df"
   ]
  },
  {
   "cell_type": "code",
   "execution_count": 145,
   "metadata": {},
   "outputs": [],
   "source": [
    "# #preprocess functions\n",
    "# from pyvi.ViTokenizer import tokenize\n",
    "# import string\n",
    "# import re\n",
    "# import langdetect\n",
    "\n",
    "# from nltk.corpus import stopwords\n",
    "# from nltk.tokenize import word_tokenize\n",
    "# from nltk.stem import WordNetLemmatizer\n",
    "# lm = WordNetLemmatizer()\n",
    "\n",
    "# #read vietnamese stopwords\n",
    "# with open(\"/home/datamon/anhns3/stopwords.txt\") as f:\n",
    "#     sw_vn = [line.strip() for line in f.readlines()]\n",
    "\n",
    "# def process_sentence_vn(sentence):\n",
    "#     \"\"\"\n",
    "#     process sentence, including:\n",
    "#         remove any domain appeared\n",
    "#         remove punctuations\n",
    "#         Vietnamese word segmentation\n",
    "#         remove VN stopwords\n",
    "#     \"\"\"\n",
    "#     nd = ' '.join([word for word in sentence.split() if not re.search('[\\w\\d]+\\.[\\w\\d]+', word) and len(word)<30])\n",
    "#     npc = ''.join([s for s in nd if s not in string.punctuation])\n",
    "#     tok = tokenize(npc)\n",
    "#     res = ' '.join([word for word in tok.split() if (word not in sw_vn) & len(word) < 30])\n",
    "#     return res\n",
    "\n",
    "# def process_sentence_others(sentence):\n",
    "#     nd = ' '.join([word for word in sentence.split() if not re.search('[\\w\\d]+\\.[\\w\\d]+', word)])\n",
    "#     tok = word_tokenize(nd)\n",
    "#     nsw = ' '.join([w for w in tok if w not in stopwords.words(\"english\")])\n",
    "#     lemma = ' '.join([lm.lemmatize(w) for w in nsw.split()])\n",
    "#     res = ''.join([c for c in lemma if c not in string.punctuation])\n",
    "#     res = re.sub(' +', ' ', res)\n",
    "#     return res\n",
    "\n",
    "# def process_tit_desc(sent):    \n",
    "#     try:\n",
    "#         lang = langdetect.detect(sent)\n",
    "#     except:\n",
    "#         lang = \"undef\"\n",
    "#     if lang == \"vi\":\n",
    "#         res = process_sentence_vn(sent.lower())\n",
    "#     else:\n",
    "#         res = process_sentence_others(sent.lower())\n",
    "#     return lang, res"
   ]
  },
  {
   "cell_type": "code",
   "execution_count": 146,
   "metadata": {
    "scrolled": true
   },
   "outputs": [],
   "source": [
    "# %%time\n",
    "# df.iloc[:10000][\"tit_des\"].apply(process_tit_desc)"
   ]
  },
  {
   "cell_type": "code",
   "execution_count": 147,
   "metadata": {},
   "outputs": [],
   "source": [
    "#  print(\"currently at batch {} over {}, processing time for this batch: {}s, total {}s\"\n",
    "#           .format(i, total_iters, round(time.time()-tic, 2), round(time.time()-toc, 2)))"
   ]
  },
  {
   "cell_type": "code",
   "execution_count": 148,
   "metadata": {},
   "outputs": [],
   "source": [
    "# #preprocess:\n",
    "# batch_size = 20000\n",
    "# #df = df.drop_duplicates(subset=\"domain_clean\")\n",
    "# total_iters = int(len(df)/batch_size)\n",
    "# tic = time.time()\n",
    "# toc = time.time()\n",
    "# for i in range(total_iters+1):\n",
    "#     start_idx = batch_size*i\n",
    "#     stop_idx = min(batch_size*(i+1), len(df))\n",
    "#     tmp = df.iloc[start_idx:stop_idx]\n",
    "#     tmp[\"lang\"], tmp[\"desc\"] = zip(*tmp[\"tit_des\"].map(process_tit_desc))\n",
    "#     fname = \"preprocess_\"+str(start_idx)+\"_\"+str(stop_idx) \n",
    "#     tmp.to_csv(\"/home/datamon/anhns3/result/20190518_domains_preprocess/\"+fname, \n",
    "#                columns=[\"domain\", \"domain_clean\", \"lang\", \"desc\"])\n",
    "#     print(\"currently at batch {} over {}, processing time for this batch: {}s, total {}s\"\n",
    "#           .format(i, total_iters, round(time.time()-tic, 2), round(time.time()-toc, 2)))\n",
    "#     tic = time.time()"
   ]
  },
  {
   "cell_type": "code",
   "execution_count": 149,
   "metadata": {
    "scrolled": true
   },
   "outputs": [],
   "source": [
    "# %%time\n",
    "# path = \"/home/datamon/anhns3/result/20190518_domains_preprocess/\"\n",
    "# list_dirs = os.listdir(path)\n",
    "# list_dirs = [f for f in list_dirs if re.search(\"^preprocess\", f)]\n",
    "# cnt = []\n",
    "# for fname in list_dirs:\n",
    "#     content = pd.read_csv(os.path.join(path, fname), index_col=0)#, header=True)\n",
    "#     cnt.append(content)\n",
    "# data = pd.concat(cnt, axis=0).sort_index()"
   ]
  },
  {
   "cell_type": "code",
   "execution_count": 150,
   "metadata": {},
   "outputs": [],
   "source": [
    "# data"
   ]
  },
  {
   "cell_type": "code",
   "execution_count": 151,
   "metadata": {},
   "outputs": [],
   "source": [
    "# #detect blocked domains\n",
    "# blocked = [\"phim03.blogspot.com\", \"freedomfightersforamerica.com\", \"cap3phim.blogspot.com\", \"phimtamtinhtruoitre.blogspot.com\", \n",
    "#  \"tlnk.io\", \"mobileapptracking.com\", \"measure.mobileapptracking.com\", \"cutestat.com\",\"websiteoutlook.com\"]\n",
    "# def check_blocked(desc):\n",
    "#     if type(desc)==str:\n",
    "#         for word in blocked:\n",
    "#             if word in desc:\n",
    "#                 return True\n",
    "#     return False"
   ]
  },
  {
   "cell_type": "code",
   "execution_count": 152,
   "metadata": {},
   "outputs": [],
   "source": [
    "# %%time\n",
    "# data[\"blocked\"] = data[\"domain\"].apply(check_blocked)"
   ]
  },
  {
   "cell_type": "code",
   "execution_count": 153,
   "metadata": {
    "scrolled": true
   },
   "outputs": [],
   "source": [
    "# data[data[\"blocked\"]==True]"
   ]
  },
  {
   "cell_type": "code",
   "execution_count": 154,
   "metadata": {},
   "outputs": [],
   "source": [
    "# %%time\n",
    "# df_res = pd.merge(data, df[[\"tit_des\", \"domain\"]], left_on=[\"domain\"], right_on=[\"domain\"])\n",
    "# df_res"
   ]
  },
  {
   "cell_type": "code",
   "execution_count": 155,
   "metadata": {},
   "outputs": [],
   "source": [
    "# df_res.columns = ['domain', 'domain_clean', 'lang', 'title_desc_preprocess', 'blocked', 'title_des_raw']\n",
    "# df_res[\"domain_ID\"]=df_res.index\n",
    "# df_res = df_res[['domain_ID', 'domain', 'domain_clean', 'title_des_raw', 'title_desc_preprocess', 'lang', 'blocked']]\n",
    "# df_res"
   ]
  },
  {
   "cell_type": "code",
   "execution_count": 156,
   "metadata": {},
   "outputs": [],
   "source": [
    "# output_date = \"05182019\"\n",
    "# output_len = str(len(df_res))\n",
    "# org_path = \"/home/datamon/anhns3/result/domain_info/\"\n",
    "# output_path = os.path.join(org_path, output_date+\"_\"+output_len+\".csv\")\n",
    "# df_res.to_csv(output_path, sep=\"|\", index=False)"
   ]
  },
  {
   "cell_type": "code",
   "execution_count": 157,
   "metadata": {},
   "outputs": [],
   "source": [
    "# df_data = pd.read_csv(\"/home/datamon/anhns3/result/domain_info/domain_info_05182019_5096082.csv\", \n",
    "#                       delimiter=\"|\")"
   ]
  },
  {
   "cell_type": "code",
   "execution_count": 158,
   "metadata": {},
   "outputs": [],
   "source": [
    "# df_data.columns"
   ]
  },
  {
   "cell_type": "code",
   "execution_count": 159,
   "metadata": {},
   "outputs": [],
   "source": [
    "# df_unique = df_data[df_data[\"blocked\"]==False].drop_duplicates(subset=\"domain_clean\")[[\"domain_ID\", \"domain_clean\", \"title_desc_preprocess\"]].dropna()"
   ]
  },
  {
   "cell_type": "code",
   "execution_count": 160,
   "metadata": {
    "scrolled": true
   },
   "outputs": [],
   "source": [
    "# df_unique"
   ]
  },
  {
   "cell_type": "code",
   "execution_count": null,
   "metadata": {},
   "outputs": [],
   "source": []
  },
  {
   "cell_type": "code",
   "execution_count": null,
   "metadata": {},
   "outputs": [],
   "source": []
  },
  {
   "cell_type": "markdown",
   "metadata": {},
   "source": [
    "# DATA"
   ]
  },
  {
   "cell_type": "code",
   "execution_count": 161,
   "metadata": {},
   "outputs": [],
   "source": [
    "# df_unique\n",
    "# data vi và en đã được tách và xử lý\n",
    "df_input_data_vi = pd.read_csv(PATH_DATA_VI, delimiter='|')\n",
    "# Những trường NaN thay bằng ''\n",
    "df_input_data_vi = df_input_data_vi.fillna('')\n",
    "df_input_data_vi['lang'] = df_input_data_vi.apply(lambda row: 'vi', axis=1)\n",
    "\n",
    "df_input_data_en = pd.read_csv(PATH_DATA_EN, delimiter='|')\n",
    "# Những trường NaN thay bằng ''\n",
    "df_input_data_en = df_input_data_en.fillna('')\n",
    "df_input_data_en['lang'] = df_input_data_en.apply(lambda row: 'en', axis=1)\n",
    "\n",
    "#merge\n",
    "df_unique = df_input_data_vi.append(df_input_data_en, ignore_index=True)"
   ]
  },
  {
   "cell_type": "code",
   "execution_count": 162,
   "metadata": {},
   "outputs": [
    {
     "data": {
      "text/plain": [
       "150266"
      ]
     },
     "execution_count": 162,
     "metadata": {},
     "output_type": "execute_result"
    }
   ],
   "source": [
    "len(df_input_data_vi)"
   ]
  },
  {
   "cell_type": "code",
   "execution_count": 163,
   "metadata": {},
   "outputs": [
    {
     "data": {
      "text/plain": [
       "257454"
      ]
     },
     "execution_count": 163,
     "metadata": {},
     "output_type": "execute_result"
    }
   ],
   "source": [
    "len(df_input_data_en)"
   ]
  },
  {
   "cell_type": "code",
   "execution_count": 164,
   "metadata": {},
   "outputs": [],
   "source": [
    "df_info = pd.read_csv(PATH_DINFO, delimiter='\\t')"
   ]
  },
  {
   "cell_type": "code",
   "execution_count": 165,
   "metadata": {},
   "outputs": [
    {
     "data": {
      "text/plain": [
       "407720"
      ]
     },
     "execution_count": 165,
     "metadata": {},
     "output_type": "execute_result"
    }
   ],
   "source": [
    "len(df_unique)"
   ]
  },
  {
   "cell_type": "code",
   "execution_count": 166,
   "metadata": {},
   "outputs": [
    {
     "data": {
      "text/html": [
       "<div>\n",
       "<style scoped>\n",
       "    .dataframe tbody tr th:only-of-type {\n",
       "        vertical-align: middle;\n",
       "    }\n",
       "\n",
       "    .dataframe tbody tr th {\n",
       "        vertical-align: top;\n",
       "    }\n",
       "\n",
       "    .dataframe thead th {\n",
       "        text-align: right;\n",
       "    }\n",
       "</style>\n",
       "<table border=\"1\" class=\"dataframe\">\n",
       "  <thead>\n",
       "    <tr style=\"text-align: right;\">\n",
       "      <th></th>\n",
       "      <th>domain_clean</th>\n",
       "      <th>title_desc_preprocess</th>\n",
       "      <th>lang</th>\n",
       "    </tr>\n",
       "  </thead>\n",
       "  <tbody>\n",
       "    <tr>\n",
       "      <th>365</th>\n",
       "      <td>balotuixach.bizz.vn</td>\n",
       "      <td>công_ty_tnhh homy việt nam chuyên may balo túi...</td>\n",
       "      <td>vi</td>\n",
       "    </tr>\n",
       "    <tr>\n",
       "      <th>1113</th>\n",
       "      <td>nppngoctrai.bizz.vn</td>\n",
       "      <td>nhà phân_phối trần_đình ngọc_trai chuyên cung_...</td>\n",
       "      <td>vi</td>\n",
       "    </tr>\n",
       "    <tr>\n",
       "      <th>1264</th>\n",
       "      <td>hungphat.bizz.vn</td>\n",
       "      <td>công_ty cổ_phần sản_xuất và thương_mại hùng ph...</td>\n",
       "      <td>vi</td>\n",
       "    </tr>\n",
       "    <tr>\n",
       "      <th>2063</th>\n",
       "      <td>onggioanhminh.bizz.vn</td>\n",
       "      <td>công_ty_tnhh dịch_vụ cơ_khí xây_dựng anh_minh ...</td>\n",
       "      <td>vi</td>\n",
       "    </tr>\n",
       "    <tr>\n",
       "      <th>2085</th>\n",
       "      <td>ketcautheptnp.bizz.vn</td>\n",
       "      <td>công_ty_tnhh mtv cơ_khí thương_mại tuấn nam_ph...</td>\n",
       "      <td>vi</td>\n",
       "    </tr>\n",
       "  </tbody>\n",
       "</table>\n",
       "</div>"
      ],
      "text/plain": [
       "               domain_clean  \\\n",
       "365     balotuixach.bizz.vn   \n",
       "1113    nppngoctrai.bizz.vn   \n",
       "1264       hungphat.bizz.vn   \n",
       "2063  onggioanhminh.bizz.vn   \n",
       "2085  ketcautheptnp.bizz.vn   \n",
       "\n",
       "                                  title_desc_preprocess lang  \n",
       "365   công_ty_tnhh homy việt nam chuyên may balo túi...   vi  \n",
       "1113  nhà phân_phối trần_đình ngọc_trai chuyên cung_...   vi  \n",
       "1264  công_ty cổ_phần sản_xuất và thương_mại hùng ph...   vi  \n",
       "2063  công_ty_tnhh dịch_vụ cơ_khí xây_dựng anh_minh ...   vi  \n",
       "2085  công_ty_tnhh mtv cơ_khí thương_mại tuấn nam_ph...   vi  "
      ]
     },
     "execution_count": 166,
     "metadata": {},
     "output_type": "execute_result"
    }
   ],
   "source": [
    "# bizz.vn\n",
    "# df_unique\n",
    "df_unique[df_unique['domain_clean'].astype(str).str.contains('bizz.vn')].head(5)"
   ]
  },
  {
   "cell_type": "code",
   "execution_count": 167,
   "metadata": {},
   "outputs": [
    {
     "data": {
      "text/plain": [
       "285"
      ]
     },
     "execution_count": 167,
     "metadata": {},
     "output_type": "execute_result"
    }
   ],
   "source": [
    "len(df_unique[df_unique['domain_clean'].astype(str).str.contains('bizz.vn')])"
   ]
  },
  {
   "cell_type": "code",
   "execution_count": 168,
   "metadata": {},
   "outputs": [
    {
     "data": {
      "text/html": [
       "<div>\n",
       "<style scoped>\n",
       "    .dataframe tbody tr th:only-of-type {\n",
       "        vertical-align: middle;\n",
       "    }\n",
       "\n",
       "    .dataframe tbody tr th {\n",
       "        vertical-align: top;\n",
       "    }\n",
       "\n",
       "    .dataframe thead th {\n",
       "        text-align: right;\n",
       "    }\n",
       "</style>\n",
       "<table border=\"1\" class=\"dataframe\">\n",
       "  <thead>\n",
       "    <tr style=\"text-align: right;\">\n",
       "      <th></th>\n",
       "      <th>domain</th>\n",
       "      <th>domain_redirect</th>\n",
       "      <th>domain_clean</th>\n",
       "      <th>redirected</th>\n",
       "      <th>title_des_raw</th>\n",
       "      <th>title_desc_preprocess</th>\n",
       "      <th>lang</th>\n",
       "      <th>date</th>\n",
       "    </tr>\n",
       "  </thead>\n",
       "  <tbody>\n",
       "    <tr>\n",
       "      <th>8251</th>\n",
       "      <td>balotuixach.bizz.vn</td>\n",
       "      <td>balotuixach.bizz.vn</td>\n",
       "      <td>balotuixach.bizz.vn</td>\n",
       "      <td>1</td>\n",
       "      <td>CÔNG TY TNHH HOMY VIỆT NAM Chuyên may balo, tú...</td>\n",
       "      <td>công_ty_tnhh homy việt nam chuyên may balo túi...</td>\n",
       "      <td>vi</td>\n",
       "      <td>202001</td>\n",
       "    </tr>\n",
       "    <tr>\n",
       "      <th>25897</th>\n",
       "      <td>nppngoctrai.bizz.vn</td>\n",
       "      <td>nppngoctrai.bizz.vn</td>\n",
       "      <td>nppngoctrai.bizz.vn</td>\n",
       "      <td>1</td>\n",
       "      <td>Nhà Phân Phối Trần Đình Ngọc Trai Chuyên cung ...</td>\n",
       "      <td>nhà phân_phối trần_đình ngọc_trai chuyên cung_...</td>\n",
       "      <td>vi</td>\n",
       "      <td>202001</td>\n",
       "    </tr>\n",
       "    <tr>\n",
       "      <th>28757</th>\n",
       "      <td>hungphat.bizz.vn</td>\n",
       "      <td>hungphat.bizz.vn</td>\n",
       "      <td>hungphat.bizz.vn</td>\n",
       "      <td>1</td>\n",
       "      <td>Công Ty Cổ Phần Sản Xuất Và Thương Mại Hùng Ph...</td>\n",
       "      <td>công_ty cổ_phần sản_xuất và thương_mại hùng ph...</td>\n",
       "      <td>vi</td>\n",
       "      <td>202001</td>\n",
       "    </tr>\n",
       "    <tr>\n",
       "      <th>46088</th>\n",
       "      <td>onggioanhminh.bizz.vn</td>\n",
       "      <td>onggioanhminh.bizz.vn</td>\n",
       "      <td>onggioanhminh.bizz.vn</td>\n",
       "      <td>1</td>\n",
       "      <td>Công Ty TNHH Dịch Vụ Cơ Khí Xây Dựng Anh Minh ...</td>\n",
       "      <td>công_ty_tnhh dịch_vụ cơ_khí xây_dựng anh_minh ...</td>\n",
       "      <td>vi</td>\n",
       "      <td>202001</td>\n",
       "    </tr>\n",
       "    <tr>\n",
       "      <th>46586</th>\n",
       "      <td>ketcautheptnp.bizz.vn</td>\n",
       "      <td>ketcautheptnp.bizz.vn</td>\n",
       "      <td>ketcautheptnp.bizz.vn</td>\n",
       "      <td>1</td>\n",
       "      <td>Công Ty TNHH MTV Cơ Khí Thương Mại Tuấn Nam Ph...</td>\n",
       "      <td>công_ty_tnhh mtv cơ_khí thương_mại tuấn nam_ph...</td>\n",
       "      <td>vi</td>\n",
       "      <td>202001</td>\n",
       "    </tr>\n",
       "    <tr>\n",
       "      <th>...</th>\n",
       "      <td>...</td>\n",
       "      <td>...</td>\n",
       "      <td>...</td>\n",
       "      <td>...</td>\n",
       "      <td>...</td>\n",
       "      <td>...</td>\n",
       "      <td>...</td>\n",
       "      <td>...</td>\n",
       "    </tr>\n",
       "    <tr>\n",
       "      <th>3408088</th>\n",
       "      <td>thanhvuong.bizz.vn</td>\n",
       "      <td>thanhvuong.bizz.vn</td>\n",
       "      <td>thanhvuong.bizz.vn</td>\n",
       "      <td>1</td>\n",
       "      <td>CÔNG TY TNHH DỆT MAY THÀNH VƯỢNG</td>\n",
       "      <td>công_ty_tnhh dệt_may thành vượng</td>\n",
       "      <td>vi</td>\n",
       "      <td>202001</td>\n",
       "    </tr>\n",
       "    <tr>\n",
       "      <th>3408424</th>\n",
       "      <td>www.khanhlinh.bizz.vn</td>\n",
       "      <td>www.khanhlinh.bizz.vn</td>\n",
       "      <td>www.khanhlinh.bizz.vn</td>\n",
       "      <td>1</td>\n",
       "      <td>CÔNG TY CỔ PHẦN DỊCH VỤ THƯƠNG MẠI VÀ SẢN XUẤT...</td>\n",
       "      <td>công_ty cổ_phần dịch_vụ thương_mại và sản_xuất...</td>\n",
       "      <td>vi</td>\n",
       "      <td>202001</td>\n",
       "    </tr>\n",
       "    <tr>\n",
       "      <th>3413745</th>\n",
       "      <td>thienthuanthao.bizz.vn</td>\n",
       "      <td>thienthuanthao.bizz.vn</td>\n",
       "      <td>thienthuanthao.bizz.vn</td>\n",
       "      <td>1</td>\n",
       "      <td>CÔNG TY TNHH TƯ VẤN THIẾT KẾ &amp; XÂY DỰNG THIÊN ...</td>\n",
       "      <td>công_ty_tnhh tư_vấn thiết_kế xây_dựng thiên_th...</td>\n",
       "      <td>vi</td>\n",
       "      <td>202001</td>\n",
       "    </tr>\n",
       "    <tr>\n",
       "      <th>3426157</th>\n",
       "      <td>anhduongjsc.bizz.vn</td>\n",
       "      <td>anhduongjsc.bizz.vn</td>\n",
       "      <td>anhduongjsc.bizz.vn</td>\n",
       "      <td>1</td>\n",
       "      <td>Công Ty Cổ Phần Dịch Vụ Ánh Dương VỚI ÁNH DƯƠN...</td>\n",
       "      <td>công_ty cổ_phần dịch_vụ ánh dương với ánh dươn...</td>\n",
       "      <td>vi</td>\n",
       "      <td>202001</td>\n",
       "    </tr>\n",
       "    <tr>\n",
       "      <th>3426173</th>\n",
       "      <td>daydainhua.bizz.vn</td>\n",
       "      <td>daydainhua.bizz.vn</td>\n",
       "      <td>daydainhua.bizz.vn</td>\n",
       "      <td>1</td>\n",
       "      <td>CƠ SỞ HỒNG QUÂN Cơ Sở Hồng Quân chuyên sản xuấ...</td>\n",
       "      <td>cơ_sở hồng_quân cơ_sở hồng_quân chuyên sản_xuấ...</td>\n",
       "      <td>vi</td>\n",
       "      <td>202001</td>\n",
       "    </tr>\n",
       "  </tbody>\n",
       "</table>\n",
       "<p>289 rows × 8 columns</p>\n",
       "</div>"
      ],
      "text/plain": [
       "                         domain         domain_redirect  \\\n",
       "8251        balotuixach.bizz.vn     balotuixach.bizz.vn   \n",
       "25897       nppngoctrai.bizz.vn     nppngoctrai.bizz.vn   \n",
       "28757          hungphat.bizz.vn        hungphat.bizz.vn   \n",
       "46088     onggioanhminh.bizz.vn   onggioanhminh.bizz.vn   \n",
       "46586     ketcautheptnp.bizz.vn   ketcautheptnp.bizz.vn   \n",
       "...                         ...                     ...   \n",
       "3408088      thanhvuong.bizz.vn      thanhvuong.bizz.vn   \n",
       "3408424   www.khanhlinh.bizz.vn   www.khanhlinh.bizz.vn   \n",
       "3413745  thienthuanthao.bizz.vn  thienthuanthao.bizz.vn   \n",
       "3426157     anhduongjsc.bizz.vn     anhduongjsc.bizz.vn   \n",
       "3426173      daydainhua.bizz.vn      daydainhua.bizz.vn   \n",
       "\n",
       "                   domain_clean  redirected  \\\n",
       "8251        balotuixach.bizz.vn           1   \n",
       "25897       nppngoctrai.bizz.vn           1   \n",
       "28757          hungphat.bizz.vn           1   \n",
       "46088     onggioanhminh.bizz.vn           1   \n",
       "46586     ketcautheptnp.bizz.vn           1   \n",
       "...                         ...         ...   \n",
       "3408088      thanhvuong.bizz.vn           1   \n",
       "3408424   www.khanhlinh.bizz.vn           1   \n",
       "3413745  thienthuanthao.bizz.vn           1   \n",
       "3426157     anhduongjsc.bizz.vn           1   \n",
       "3426173      daydainhua.bizz.vn           1   \n",
       "\n",
       "                                             title_des_raw  \\\n",
       "8251     CÔNG TY TNHH HOMY VIỆT NAM Chuyên may balo, tú...   \n",
       "25897    Nhà Phân Phối Trần Đình Ngọc Trai Chuyên cung ...   \n",
       "28757    Công Ty Cổ Phần Sản Xuất Và Thương Mại Hùng Ph...   \n",
       "46088    Công Ty TNHH Dịch Vụ Cơ Khí Xây Dựng Anh Minh ...   \n",
       "46586    Công Ty TNHH MTV Cơ Khí Thương Mại Tuấn Nam Ph...   \n",
       "...                                                    ...   \n",
       "3408088                   CÔNG TY TNHH DỆT MAY THÀNH VƯỢNG   \n",
       "3408424  CÔNG TY CỔ PHẦN DỊCH VỤ THƯƠNG MẠI VÀ SẢN XUẤT...   \n",
       "3413745  CÔNG TY TNHH TƯ VẤN THIẾT KẾ & XÂY DỰNG THIÊN ...   \n",
       "3426157  Công Ty Cổ Phần Dịch Vụ Ánh Dương VỚI ÁNH DƯƠN...   \n",
       "3426173  CƠ SỞ HỒNG QUÂN Cơ Sở Hồng Quân chuyên sản xuấ...   \n",
       "\n",
       "                                     title_desc_preprocess lang    date  \n",
       "8251     công_ty_tnhh homy việt nam chuyên may balo túi...   vi  202001  \n",
       "25897    nhà phân_phối trần_đình ngọc_trai chuyên cung_...   vi  202001  \n",
       "28757    công_ty cổ_phần sản_xuất và thương_mại hùng ph...   vi  202001  \n",
       "46088    công_ty_tnhh dịch_vụ cơ_khí xây_dựng anh_minh ...   vi  202001  \n",
       "46586    công_ty_tnhh mtv cơ_khí thương_mại tuấn nam_ph...   vi  202001  \n",
       "...                                                    ...  ...     ...  \n",
       "3408088                   công_ty_tnhh dệt_may thành vượng   vi  202001  \n",
       "3408424  công_ty cổ_phần dịch_vụ thương_mại và sản_xuất...   vi  202001  \n",
       "3413745  công_ty_tnhh tư_vấn thiết_kế xây_dựng thiên_th...   vi  202001  \n",
       "3426157  công_ty cổ_phần dịch_vụ ánh dương với ánh dươn...   vi  202001  \n",
       "3426173  cơ_sở hồng_quân cơ_sở hồng_quân chuyên sản_xuấ...   vi  202001  \n",
       "\n",
       "[289 rows x 8 columns]"
      ]
     },
     "execution_count": 168,
     "metadata": {},
     "output_type": "execute_result"
    }
   ],
   "source": [
    "df_bizz = df_info[df_info['domain_clean'].astype(str).str.contains('bizz.vn')]\n",
    "df_bizz"
   ]
  },
  {
   "cell_type": "code",
   "execution_count": 169,
   "metadata": {},
   "outputs": [],
   "source": [
    "# df_input_data_vi_1 = df_unique.drop_duplicates(subset=['domain_clean', 'title_desc_preprocess', 'lang'], keep=False)"
   ]
  },
  {
   "cell_type": "code",
   "execution_count": 170,
   "metadata": {},
   "outputs": [],
   "source": [
    "# len(df_input_data_vi_1)"
   ]
  },
  {
   "cell_type": "code",
   "execution_count": 171,
   "metadata": {},
   "outputs": [
    {
     "data": {
      "text/html": [
       "<div>\n",
       "<style scoped>\n",
       "    .dataframe tbody tr th:only-of-type {\n",
       "        vertical-align: middle;\n",
       "    }\n",
       "\n",
       "    .dataframe tbody tr th {\n",
       "        vertical-align: top;\n",
       "    }\n",
       "\n",
       "    .dataframe thead th {\n",
       "        text-align: right;\n",
       "    }\n",
       "</style>\n",
       "<table border=\"1\" class=\"dataframe\">\n",
       "  <thead>\n",
       "    <tr style=\"text-align: right;\">\n",
       "      <th></th>\n",
       "      <th>domain_clean</th>\n",
       "      <th>title_desc_preprocess</th>\n",
       "      <th>lang</th>\n",
       "    </tr>\n",
       "  </thead>\n",
       "  <tbody>\n",
       "    <tr>\n",
       "      <th>0</th>\n",
       "      <td>ketoanthuecanthobantin.blogspot.com</td>\n",
       "      <td>bản tin thuế công_ty_tnhh tây nam dịch_vụ báo_...</td>\n",
       "      <td>vi</td>\n",
       "    </tr>\n",
       "    <tr>\n",
       "      <th>1</th>\n",
       "      <td>raovattiengiang247.com</td>\n",
       "      <td>rao vat tien_giang mua ban tien_giang rao vat ...</td>\n",
       "      <td>vi</td>\n",
       "    </tr>\n",
       "    <tr>\n",
       "      <th>2</th>\n",
       "      <td>onthi.net.vn</td>\n",
       "      <td>cung_cấp kiến_thức lịch_sử việt nam và thế_giớ...</td>\n",
       "      <td>vi</td>\n",
       "    </tr>\n",
       "    <tr>\n",
       "      <th>3</th>\n",
       "      <td>xiudunvietnam.net.vn</td>\n",
       "      <td>máy đếm tiền xiudun việt nam giá rẻ trung_tâm ...</td>\n",
       "      <td>vi</td>\n",
       "    </tr>\n",
       "    <tr>\n",
       "      <th>4</th>\n",
       "      <td>phukienototanphu.com</td>\n",
       "      <td>đồ_chơi xe_hơi tân phú_ngọc sang chuyên đồ_chơ...</td>\n",
       "      <td>vi</td>\n",
       "    </tr>\n",
       "  </tbody>\n",
       "</table>\n",
       "</div>"
      ],
      "text/plain": [
       "                          domain_clean  \\\n",
       "0  ketoanthuecanthobantin.blogspot.com   \n",
       "1               raovattiengiang247.com   \n",
       "2                         onthi.net.vn   \n",
       "3                 xiudunvietnam.net.vn   \n",
       "4                 phukienototanphu.com   \n",
       "\n",
       "                               title_desc_preprocess lang  \n",
       "0  bản tin thuế công_ty_tnhh tây nam dịch_vụ báo_...   vi  \n",
       "1  rao vat tien_giang mua ban tien_giang rao vat ...   vi  \n",
       "2  cung_cấp kiến_thức lịch_sử việt nam và thế_giớ...   vi  \n",
       "3  máy đếm tiền xiudun việt nam giá rẻ trung_tâm ...   vi  \n",
       "4  đồ_chơi xe_hơi tân phú_ngọc sang chuyên đồ_chơ...   vi  "
      ]
     },
     "execution_count": 171,
     "metadata": {},
     "output_type": "execute_result"
    }
   ],
   "source": [
    "df_unique.head(5)"
   ]
  },
  {
   "cell_type": "code",
   "execution_count": 172,
   "metadata": {},
   "outputs": [
    {
     "data": {
      "text/plain": [
       "407720"
      ]
     },
     "execution_count": 172,
     "metadata": {},
     "output_type": "execute_result"
    }
   ],
   "source": [
    "len(df_unique)"
   ]
  },
  {
   "cell_type": "code",
   "execution_count": 173,
   "metadata": {},
   "outputs": [],
   "source": [
    "df_unique = df_unique.drop_duplicates(subset=['domain_clean', 'title_desc_preprocess', 'lang'])"
   ]
  },
  {
   "cell_type": "code",
   "execution_count": 174,
   "metadata": {},
   "outputs": [
    {
     "data": {
      "text/plain": [
       "407720"
      ]
     },
     "execution_count": 174,
     "metadata": {},
     "output_type": "execute_result"
    }
   ],
   "source": [
    "len(df_unique)"
   ]
  },
  {
   "cell_type": "code",
   "execution_count": 175,
   "metadata": {},
   "outputs": [
    {
     "name": "stdout",
     "output_type": "stream",
     "text": [
      "CPU times: user 50.1 s, sys: 1.61 s, total: 51.7 s\n",
      "Wall time: 54 s\n"
     ]
    },
    {
     "data": {
      "text/plain": [
       "CountVectorizer(analyzer='word', binary=False, decode_error='strict',\n",
       "                dtype=<class 'numpy.int64'>, encoding='utf-8', input='content',\n",
       "                lowercase=True, max_df=1.0, max_features=None, min_df=10,\n",
       "                ngram_range=(1, 2), preprocessor=None, stop_words=None,\n",
       "                strip_accents=None, token_pattern='(?u)\\\\b\\\\w\\\\w+\\\\b',\n",
       "                tokenizer=None, vocabulary=None)"
      ]
     },
     "execution_count": 175,
     "metadata": {},
     "output_type": "execute_result"
    }
   ],
   "source": [
    "%%time\n",
    "vectorizer = CountVectorizer(ngram_range=(1,2), min_df=10)\n",
    "vectorizer.fit(df_unique[\"title_desc_preprocess\"])"
   ]
  },
  {
   "cell_type": "code",
   "execution_count": 176,
   "metadata": {},
   "outputs": [
    {
     "name": "stdout",
     "output_type": "stream",
     "text": [
      "shape: (407720, 85257)\n",
      "CPU times: user 30.2 s, sys: 582 ms, total: 30.8 s\n",
      "Wall time: 32 s\n"
     ]
    }
   ],
   "source": [
    "%%time\n",
    "bow_origin = vectorizer.transform(df_unique[\"title_desc_preprocess\"])\n",
    "print(\"shape:\", bow_origin.shape)"
   ]
  },
  {
   "cell_type": "code",
   "execution_count": 177,
   "metadata": {},
   "outputs": [],
   "source": [
    "# model_file_name = \"/home/datamon/anhns3/models/BOW/0518_all_bigram_10/model\"\n",
    "# model_file_name = PATH_MODEL\n",
    "pickle.dump(vectorizer, open(PATH_MODEL, \"wb\"))"
   ]
  },
  {
   "cell_type": "code",
   "execution_count": 178,
   "metadata": {},
   "outputs": [],
   "source": [
    "import time"
   ]
  },
  {
   "cell_type": "code",
   "execution_count": 179,
   "metadata": {},
   "outputs": [
    {
     "name": "stdout",
     "output_type": "stream",
     "text": [
      "start reading domains info ...\n",
      "reading domain info successfully, processing time 0.0s\n",
      "start reading vocabulary model ...\n",
      "reading model successful, number of words: 85257, processing time: 2.31s\n",
      "transforming domain descriptions ...\n",
      "transformation success, processing time: 30.92s\n"
     ]
    }
   ],
   "source": [
    "# model_file_path = \"/home/datamon/anhns3/models/BOW/0514_all_bigram_10/model\"\n",
    "# domain_info_path = \"/home/datamon/anhns3/result/domain_info/domain_info_05182019_5096082.csv\"\n",
    "\n",
    "tic = time.time()\n",
    "print(\"start reading domains info ...\")\n",
    "# df_data = pd.read_csv(domain_info_path, \n",
    "#                       delimiter=\"|\",\n",
    "#                      usecols = [\"domain_ID\", \"domain_clean\", \"title_desc_preprocess\", \"blocked\"])\n",
    "# df_unique = df_data[df_data[\"blocked\"]==False].drop_duplicates(subset=\"domain_clean\")[[\"domain_ID\", \"domain_clean\", \"title_desc_preprocess\"]].dropna()\n",
    "data = df_unique[\"title_desc_preprocess\"]\n",
    "print(\"reading domain info successfully, processing time {}s\".format(round(time.time()-tic, 2)))\n",
    "tic = time.time()\n",
    "\n",
    "print(\"start reading vocabulary model ...\")\n",
    "tic = time.time()\n",
    "vectorizer = pickle.load(open(PATH_MODEL, \"rb\"))\n",
    "dictionary = vectorizer.vocabulary_\n",
    "print(\"reading model successful, number of words: {}, processing time: {}s\"\n",
    "      .format(len(dictionary), round(time.time()-tic,2)))\n",
    "tic = time.time()\n",
    "\n",
    "print(\"transforming domain descriptions ...\")\n",
    "bow = vectorizer.transform(data)\n",
    "print(\"transformation success, processing time: {}s\"\n",
    "      .format(round(time.time()-tic,2)))\n"
   ]
  },
  {
   "cell_type": "code",
   "execution_count": 180,
   "metadata": {},
   "outputs": [],
   "source": [
    "# dictionary\n",
    "# bow"
   ]
  },
  {
   "cell_type": "code",
   "execution_count": 181,
   "metadata": {},
   "outputs": [],
   "source": [
    "def filter_except(except_keywords, dictionary, bow, domains, lang):\n",
    "    word_idx = []\n",
    "    for word in except_keywords:\n",
    "        try:\n",
    "            word_idx.append(dictionary[word])\n",
    "        except:\n",
    "            pass\n",
    "    keyword_matched = bow[:,word_idx]\n",
    "    number_of_matches = np.sum(keyword_matched.todense(), axis=1)\n",
    "    mask = np.array(number_of_matches>=1).squeeze()\n",
    "    res = domains[~mask], bow[~mask], lang[~mask]\n",
    "    return res\n",
    "\n",
    "def filtering(keywords, dictionary, bow, domains, lang, threshold=2, except_keywords=[]):\n",
    "    word_idx = []\n",
    "    if len(except_keywords)>0:\n",
    "        domains, bow, lang = filter_except(except_keywords, dictionary, bow, domains, lang)\n",
    "    for word in keywords:\n",
    "        try:\n",
    "            word_idx.append(dictionary[word])\n",
    "        except:\n",
    "            pass\n",
    "    keyword_matched = bow[:,word_idx]\n",
    "    number_of_matches = np.sum(keyword_matched.todense(), axis=1)\n",
    "    mask = np.array(number_of_matches>=threshold).squeeze()\n",
    "    res = domains[mask], bow[mask], lang[mask]\n",
    "    return res\n",
    "\n",
    "# start_idx = 10000\n",
    "# stop_idx = 20000\n",
    "# tmp_domains = df_unique[start_idx:stop_idx][\"domain_clean\"]\n",
    "# tmp_bow = bow[start_idx:stop_idx]\n",
    "# except_keywords = [\"bách_khoa\"]\n",
    "# filter_except(except_keywords, dictionary, tmp_bow, tmp_domains)"
   ]
  },
  {
   "cell_type": "code",
   "execution_count": 182,
   "metadata": {},
   "outputs": [
    {
     "data": {
      "text/plain": [
       "(Series([], Name: domain_clean, dtype: object),\n",
       " <0x85257 sparse matrix of type '<class 'numpy.float64'>'\n",
       " \twith 0 stored elements in Compressed Sparse Row format>,\n",
       " Series([], Name: lang, dtype: object))"
      ]
     },
     "execution_count": 182,
     "metadata": {},
     "output_type": "execute_result"
    }
   ],
   "source": [
    "filtering([], dictionary, bow, df_unique[\"domain_clean\"], df_unique[\"lang\"])"
   ]
  },
  {
   "cell_type": "markdown",
   "metadata": {},
   "source": [
    "# PREDICT"
   ]
  },
  {
   "cell_type": "code",
   "execution_count": 183,
   "metadata": {},
   "outputs": [],
   "source": [
    "# def predict_encoding(file_path_name):\n",
    "#     detector = UniversalDetector()\n",
    "#     with open(file_path_name, 'rb') as f:\n",
    "#         for line in f:\n",
    "#             detector.feed(line)\n",
    "#             if detector.done:\n",
    "#                 break\n",
    "#         detector.close()\n",
    "#     r = detector.result\n",
    "#     return \"Decoding encoding %s with confidence %s\" % (r['encoding'], r['confidence'])"
   ]
  },
  {
   "cell_type": "code",
   "execution_count": 184,
   "metadata": {},
   "outputs": [],
   "source": [
    "# x = predict_encoding(PATH_INTEREST_TREE)\n",
    "# print(x)"
   ]
  },
  {
   "cell_type": "code",
   "execution_count": 185,
   "metadata": {},
   "outputs": [],
   "source": [
    "# df1 = pd.read_excel(PATH_INTEREST_TREE_1, skiprows=5)\n",
    "# df1.head(1)"
   ]
  },
  {
   "cell_type": "code",
   "execution_count": 186,
   "metadata": {},
   "outputs": [],
   "source": [
    "# len(df1)"
   ]
  },
  {
   "cell_type": "code",
   "execution_count": 187,
   "metadata": {},
   "outputs": [
    {
     "data": {
      "text/html": [
       "<div>\n",
       "<style scoped>\n",
       "    .dataframe tbody tr th:only-of-type {\n",
       "        vertical-align: middle;\n",
       "    }\n",
       "\n",
       "    .dataframe tbody tr th {\n",
       "        vertical-align: top;\n",
       "    }\n",
       "\n",
       "    .dataframe thead th {\n",
       "        text-align: right;\n",
       "    }\n",
       "</style>\n",
       "<table border=\"1\" class=\"dataframe\">\n",
       "  <thead>\n",
       "    <tr style=\"text-align: right;\">\n",
       "      <th></th>\n",
       "      <th>IID</th>\n",
       "      <th>Level 1</th>\n",
       "      <th>Unnamed: 2</th>\n",
       "      <th>Level 2</th>\n",
       "      <th>Unnamed: 4</th>\n",
       "      <th>Level 3</th>\n",
       "      <th>Unnamed: 6</th>\n",
       "      <th>Status</th>\n",
       "      <th>Level 4</th>\n",
       "      <th>Unnamed: 9</th>\n",
       "      <th>Status.1</th>\n",
       "      <th>Inference heuristics</th>\n",
       "      <th>Has_child</th>\n",
       "      <th>Logic</th>\n",
       "      <th>threshold</th>\n",
       "      <th>Revised_keywords</th>\n",
       "      <th>Except</th>\n",
       "      <th>Notes</th>\n",
       "    </tr>\n",
       "  </thead>\n",
       "  <tbody>\n",
       "    <tr>\n",
       "      <th>0</th>\n",
       "      <td>A000000</td>\n",
       "      <td>Business &amp; Industry</td>\n",
       "      <td>Kinh doanh &amp; Các ngành nghề</td>\n",
       "      <td>NaN</td>\n",
       "      <td>NaN</td>\n",
       "      <td>NaN</td>\n",
       "      <td>NaN</td>\n",
       "      <td>NaN</td>\n",
       "      <td>NaN</td>\n",
       "      <td>NaN</td>\n",
       "      <td>NaN</td>\n",
       "      <td>NaN</td>\n",
       "      <td>1</td>\n",
       "      <td>any</td>\n",
       "      <td>1.0</td>\n",
       "      <td>in_ấn, băng_rôn, neonsign, standee, phướn, tờ_...</td>\n",
       "      <td>phim, sex</td>\n",
       "      <td>NaN</td>\n",
       "    </tr>\n",
       "  </tbody>\n",
       "</table>\n",
       "</div>"
      ],
      "text/plain": [
       "       IID              Level 1                   Unnamed: 2 Level 2  \\\n",
       "0  A000000  Business & Industry  Kinh doanh & Các ngành nghề     NaN   \n",
       "\n",
       "  Unnamed: 4 Level 3 Unnamed: 6 Status Level 4 Unnamed: 9 Status.1  \\\n",
       "0        NaN     NaN        NaN    NaN     NaN        NaN      NaN   \n",
       "\n",
       "  Inference heuristics  Has_child Logic  threshold  \\\n",
       "0                  NaN          1   any        1.0   \n",
       "\n",
       "                                    Revised_keywords     Except Notes  \n",
       "0  in_ấn, băng_rôn, neonsign, standee, phướn, tờ_...  phim, sex   NaN  "
      ]
     },
     "execution_count": 187,
     "metadata": {},
     "output_type": "execute_result"
    }
   ],
   "source": [
    "# df = pd.read_csv(\"tree/Interests_tree_v7_05272019.csv\", skiprows=5, delimiter=\"|\")\n",
    "# df = pd.read_csv(PATH_INTEREST_TREE, skiprows=5, delimiter=\"|\")\n",
    "df = pd.read_excel(PATH_INTEREST_TREE, skiprows=5)\n",
    "df.head(1)"
   ]
  },
  {
   "cell_type": "code",
   "execution_count": 188,
   "metadata": {},
   "outputs": [
    {
     "data": {
      "text/plain": [
       "330"
      ]
     },
     "execution_count": 188,
     "metadata": {},
     "output_type": "execute_result"
    }
   ],
   "source": [
    "len(df)"
   ]
  },
  {
   "cell_type": "code",
   "execution_count": 189,
   "metadata": {},
   "outputs": [],
   "source": [
    "# df[df[\"IID\"]==\"A060199\"]"
   ]
  },
  {
   "cell_type": "code",
   "execution_count": 190,
   "metadata": {},
   "outputs": [],
   "source": [
    "import re\n",
    "def deslash(word):\n",
    "    return re.sub(\"/\", \"-\", word)\n",
    "#dictionary = {}\n",
    "#bow = np.zeros((1,1))\n",
    "domain_params = [dictionary, bow]\n",
    "class interest():\n",
    "    def __init__(self, IID, keywords, inference_heuristics, level_1, level_1_vn, level_2=None, level_2_vn=None,\n",
    "                 level_3=None, level_3_vn=None, level_4=None, level_4_vn=None, checked=False, has_child=0, \n",
    "                 logic = \"any\", except_keywords=[], passed_threshold=0, params=domain_params, lang=None):\n",
    "        self.IID = IID\n",
    "        self.keywords = keywords\n",
    "        self.inference_heuristics = inference_heuristics\n",
    "        self.level_1 = level_1\n",
    "        self.level_2 = level_2\n",
    "        self.level_3 = level_3\n",
    "        self.level_4 = level_4\n",
    "        self.level_1_vn = level_1_vn\n",
    "        self.level_2_vn = level_2_vn\n",
    "        self.level_3_vn = level_3_vn\n",
    "        self.level_4_vn = level_4_vn\n",
    "        self.checked = checked\n",
    "        self.has_child = has_child\n",
    "        self.domains = None\n",
    "#         self.lang = None\n",
    "        self.params = params\n",
    "        self.set_max_level()\n",
    "        self.create_path()\n",
    "        self.logic = logic.strip()\n",
    "        self.except_keywords = except_keywords\n",
    "        self.set_threshold(passed_threshold)\n",
    "    \n",
    "    def set_threshold(self, passed_threshold):\n",
    "        if passed_threshold==0:\n",
    "            if self.level==1:\n",
    "                self.threshold = 3\n",
    "            else:\n",
    "                self.threshold = 2\n",
    "        else:\n",
    "            self.threshold = passed_threshold\n",
    "            #print(self.threshold)\n",
    "    \n",
    "    def set_max_level(self):\n",
    "        if self.level_4==None:\n",
    "            if self.level_3==None:\n",
    "                if self.level_2==None:\n",
    "                    self.level=1\n",
    "                else:\n",
    "                    self.level=2\n",
    "            else:\n",
    "                self.level=3\n",
    "        else:\n",
    "            self.level=4\n",
    "    \n",
    "    def __str__(self):\n",
    "        d = {\"IID\":self.IID,\n",
    "            \"keywords\":self.keywords,\n",
    "             \"level\":self.level,\n",
    "            \"level_1\":self.level_1,\n",
    "            \"level_2\":self.level_2,\n",
    "            \"level_3\":self.level_3,\n",
    "            \"level_4\":self.level_4,\n",
    "            \"level_1_vn\":self.level_1_vn,\n",
    "            \"level_2_vn\":self.level_2_vn,\n",
    "            \"level_3_vn\":self.level_3_vn,\n",
    "            \"level_4_vn\":self.level_4_vn,\n",
    "            #\"Inference_heuristics\":self.inference_heuristics,\n",
    "             \"has_child\":self.has_child,\n",
    "            # \"checked\":self.checked,\n",
    "             \"logic\": self.logic,\n",
    "             \"except\": self.except_keywords,\n",
    "             \"threshold\": self.threshold\n",
    "            }\n",
    "        return str(d)\n",
    "    \n",
    "    def __repr__(self):\n",
    "        return self.__str__()\n",
    "    \n",
    "    def create_path(self):\n",
    "        list_level = [deslash(l) for l in [self.level_1, self.level_2, self.level_3, self.level_4] if type(l)==str]\n",
    "        list_dirs = list_level[:(self.level-1)]\n",
    "        self.path = \"/\".join([d for d in list_dirs if type(d)==str])\n",
    "        self.file_name = list_level[self.level-1]\n",
    "        \n",
    "    \n",
    "    def write_result(self, root_dir, sampling=False):\n",
    "        dir_path = os.path.join(root_dir, self.path)\n",
    "        os.makedirs(dir_path, exist_ok=True)\n",
    "        full_path = os.path.join(dir_path, self.file_name+\"_domains\")\n",
    "        kw_path = os.path.join(dir_path, self.file_name+\"_keywords\")\n",
    "        with open(full_path, \"a\") as f:\n",
    "            f.write(\"\\n\".join([d for d in self.domains.values]))    \n",
    "        with open(kw_path, \"a\") as f:\n",
    "            f.write(\"ID:\"+str(self.IID)+\"\\n\")\n",
    "            f.write(\"level\"+str(self.level)+\"\\n\")\n",
    "            f.write(\"length:\"+str(len(self.domains))+\"\\n\")\n",
    "            f.write(\"keywords:\"+\", \".join(self.keywords))\n",
    "        if sampling:\n",
    "            if len(self.domains)>=100:\n",
    "                sample = [self.domains.values[i] for i in np.random.randint(0, len(self.domains.values), 100)]\n",
    "                with open(full_path+\"_sample\", \"a\") as f:\n",
    "                    f.write(\"\\n\".join([d for d in sample])) \n",
    "        print(\"result saved to {}\".format(full_path))\n",
    "        \n",
    "    def find_parent(self):\n",
    "        if self.level ==4:\n",
    "            return self.IID[:-2]+\"00\"\n",
    "        if self.level == 3:\n",
    "            return self.IID[:-4]+\"00\"+self.IID[-2:]\n",
    "        if self.level ==2:\n",
    "            return self.IID[:-6]+\"00\"+self.IID[-4:]\n",
    "        return \"NONE\"\n",
    "       \n",
    "    def set_parent_domains_bow_lang(self, parent_domains, bow, lang):\n",
    "        self.parent_domains = parent_domains\n",
    "        self.parent_lang = lang\n",
    "        self.parent_bow = bow\n",
    "        print(\"set parent domain for {}, length {}\".format(self.IID, len(self.parent_domains)))\n",
    "    \n",
    "    def filter_domains(self):\n",
    "        dictionary, bow = self.params\n",
    "        if len(self.except_keywords)>0:\n",
    "            print(\"{} has except keywords {}\".format(self.IID, self.except_keywords))\n",
    "        if self.keywords == []:\n",
    "            self.domains, self.bow, self.lang = self.parent_domains, self.parent_bow, self.parent_lang\n",
    "        else:\n",
    "            self.domains, self.bow, self.lang = filtering(keywords=self.keywords, \n",
    "                                    dictionary=dictionary, \n",
    "                                    bow = self.parent_bow, \n",
    "                                    domains = self.parent_domains, \n",
    "                                    lang = self.parent_lang,\n",
    "                                    threshold = self.threshold,\n",
    "                                    except_keywords = self.except_keywords)\n",
    "        print(\"Done filtering for {}, domains found: {}\".format(self.IID, len(self.lang) ))\n",
    "        #return get_domains, bow_domains"
   ]
  },
  {
   "cell_type": "code",
   "execution_count": 191,
   "metadata": {},
   "outputs": [],
   "source": [
    "#parse_df\n",
    "def read_tree(df):\n",
    "    level_1 = None\n",
    "    level_2 = None\n",
    "    level_3 = None\n",
    "    level_4 = None\n",
    "    level_1_vn = None\n",
    "    level_2_vn = None\n",
    "    level_3_vn = None\n",
    "    level_4_vn = None\n",
    "    inference_heuristics = None\n",
    "    IID = None\n",
    "    has_child = 0\n",
    "    checked = False\n",
    "    all_interest = []\n",
    "    #tic = time.time()\n",
    "    for i,row in df.iterrows():\n",
    "        if type(row[\"Level 1\"])==str:\n",
    "            level_1 = row[\"Level 1\"]\n",
    "            level_1_vn = row[\"Unnamed: 2\"]\n",
    "            level_2, level_3, level_4 = None, None, None\n",
    "            level_2_vn, level_3_vn, level_4_vn = None, None, None\n",
    "        if type(row[\"Level 2\"])==str:\n",
    "            level_2 = row[\"Level 2\"]\n",
    "            level_2_vn = row[\"Unnamed: 4\"]\n",
    "            level_3, level_4 = None, None\n",
    "            level_3_vn, level_4_vn = None, None\n",
    "        if type(row[\"Level 3\"])==str:\n",
    "            level_3 = row[\"Level 3\"]\n",
    "            level_3_vn = row[\"Unnamed: 6\"]\n",
    "            level_4 = None\n",
    "            level_4_vn = None\n",
    "        if type(row[\"Level 4\"])==str:\n",
    "            level_4 = row[\"Level 4\"]\n",
    "            level_4_vn = row[\"Unnamed: 9\"]\n",
    "        if str(row[\"threshold\"])=='nan':\n",
    "            threshold = 0\n",
    "        else:\n",
    "            threshold = int(row[\"threshold\"])\n",
    "        if has_child in [0,1]:\n",
    "            if type(row[\"Revised_keywords\"])==str:\n",
    "                keywords = [word.strip() for word in row[\"Revised_keywords\"].split(\",\")]\n",
    "            elif type(row[\"Revised_keywords\"])==float:\n",
    "                keywords = []                \n",
    "            if type(row[\"Except\"])==str:\n",
    "                except_keywords = [word.strip() for word in row[\"Except\"].split(\",\")]\n",
    "            elif type(row[\"Except\"])==float:\n",
    "                except_keywords = []\n",
    "            itr = interest(inference_heuristics=row[\"Inference heuristics\"],\n",
    "                           checked=row[\"Status\"],\n",
    "                           has_child=row[\"Has_child\"],                     \n",
    "                           passed_threshold=threshold,\n",
    "                           keywords=keywords,\n",
    "                           IID=row[\"IID\"],\n",
    "                           level_1=level_1,\n",
    "                           level_2=level_2,\n",
    "                           level_3=level_3,\n",
    "                           level_4=level_4,\n",
    "                           level_1_vn=level_1_vn,\n",
    "                           level_2_vn=level_2_vn,\n",
    "                           level_3_vn=level_3_vn,\n",
    "                           level_4_vn=level_4_vn, \n",
    "                           logic=str(row[\"Logic\"]),   \n",
    "                           except_keywords=except_keywords,\n",
    "#                            lang=str(row[\"lang\"])\n",
    "                          )\n",
    "            all_interest.append(itr)\n",
    "            print(\"{}, nb of keywords: {}, threshold: {}\". format(itr.IID, len(itr.keywords), itr.threshold))\n",
    "        #tic = time.time()\n",
    "    print(\"DONE, total number of interests read: {}\". format(len(all_interest)))\n",
    "    return all_interest"
   ]
  },
  {
   "cell_type": "code",
   "execution_count": 192,
   "metadata": {},
   "outputs": [
    {
     "name": "stdout",
     "output_type": "stream",
     "text": [
      "A000000, nb of keywords: 208, threshold: 1\n",
      "A010000, nb of keywords: 27, threshold: 1\n",
      "A010100, nb of keywords: 8, threshold: 1\n",
      "A010199, nb of keywords: 0, threshold: 2\n",
      "A010200, nb of keywords: 19, threshold: 1\n",
      "A010299, nb of keywords: 0, threshold: 2\n",
      "A019900, nb of keywords: 0, threshold: 2\n",
      "A019999, nb of keywords: 0, threshold: 2\n",
      "A020000, nb of keywords: 35, threshold: 1\n",
      "A020100, nb of keywords: 28, threshold: 1\n",
      "A020199, nb of keywords: 0, threshold: 2\n",
      "A020200, nb of keywords: 5, threshold: 1\n",
      "A020299, nb of keywords: 0, threshold: 2\n",
      "A020300, nb of keywords: 3, threshold: 1\n",
      "A020399, nb of keywords: 0, threshold: 2\n",
      "A029900, nb of keywords: 0, threshold: 2\n",
      "A029999, nb of keywords: 0, threshold: 2\n",
      "A030000, nb of keywords: 1, threshold: 2\n",
      "A039900, nb of keywords: 0, threshold: 2\n",
      "A039999, nb of keywords: 0, threshold: 2\n",
      "A040000, nb of keywords: 2, threshold: 1\n",
      "A049900, nb of keywords: 0, threshold: 2\n",
      "A049999, nb of keywords: 0, threshold: 2\n",
      "A050000, nb of keywords: 2, threshold: 1\n",
      "A050100, nb of keywords: 11, threshold: 1\n",
      "A050199, nb of keywords: 0, threshold: 2\n",
      "A050200, nb of keywords: 3, threshold: 1\n",
      "A050299, nb of keywords: 0, threshold: 2\n",
      "A059900, nb of keywords: 0, threshold: 2\n",
      "A059999, nb of keywords: 0, threshold: 2\n",
      "A060000, nb of keywords: 45, threshold: 2\n",
      "A060100, nb of keywords: 30, threshold: 1\n",
      "A060101, nb of keywords: 11, threshold: 1\n",
      "A060102, nb of keywords: 4, threshold: 1\n",
      "A060103, nb of keywords: 8, threshold: 1\n",
      "A060104, nb of keywords: 2, threshold: 1\n",
      "A060105, nb of keywords: 7, threshold: 1\n",
      "A060106, nb of keywords: 2, threshold: 1\n",
      "A060107, nb of keywords: 1, threshold: 2\n",
      "A060199, nb of keywords: 0, threshold: 2\n",
      "A060200, nb of keywords: 11, threshold: 1\n",
      "A060201, nb of keywords: 4, threshold: 1\n",
      "A060202, nb of keywords: 7, threshold: 1\n",
      "A060299, nb of keywords: 0, threshold: 2\n",
      "A060300, nb of keywords: 3, threshold: 2\n",
      "A060301, nb of keywords: 10, threshold: 2\n",
      "A060399, nb of keywords: 0, threshold: 2\n",
      "A069900, nb of keywords: 0, threshold: 2\n",
      "A069999, nb of keywords: 0, threshold: 2\n",
      "A070000, nb of keywords: 18, threshold: 1\n",
      "A070100, nb of keywords: 2, threshold: 1\n",
      "A070101, nb of keywords: 3, threshold: 1\n",
      "A070102, nb of keywords: 3, threshold: 1\n",
      "A070103, nb of keywords: 2, threshold: 1\n",
      "A070104, nb of keywords: 7, threshold: 1\n",
      "A070105, nb of keywords: 0, threshold: 2\n",
      "A070200, nb of keywords: 4, threshold: 1\n",
      "A070299, nb of keywords: 0, threshold: 2\n",
      "A070300, nb of keywords: 6, threshold: 2\n",
      "A070301, nb of keywords: 2, threshold: 1\n",
      "A070302, nb of keywords: 1, threshold: 1\n",
      "A070399, nb of keywords: 0, threshold: 2\n",
      "A070400, nb of keywords: 5, threshold: 1\n",
      "A070401, nb of keywords: 5, threshold: 1\n",
      "A079900, nb of keywords: 0, threshold: 2\n",
      "A079999, nb of keywords: 0, threshold: 2\n",
      "A080000, nb of keywords: 5, threshold: 1\n",
      "A089900, nb of keywords: 0, threshold: 2\n",
      "A089999, nb of keywords: 0, threshold: 2\n",
      "A090000, nb of keywords: 12, threshold: 1\n",
      "A090100, nb of keywords: 7, threshold: 1\n",
      "A090199, nb of keywords: 0, threshold: 2\n",
      "A090200, nb of keywords: 1, threshold: 2\n",
      "A090299, nb of keywords: 0, threshold: 2\n",
      "A090300, nb of keywords: 3, threshold: 1\n",
      "A090399, nb of keywords: 0, threshold: 2\n",
      "A099900, nb of keywords: 0, threshold: 2\n",
      "A099999, nb of keywords: 0, threshold: 2\n",
      "A100000, nb of keywords: 25, threshold: 2\n",
      "A100100, nb of keywords: 4, threshold: 1\n",
      "A100101, nb of keywords: 3, threshold: 1\n",
      "A100102, nb of keywords: 1, threshold: 1\n",
      "A100103, nb of keywords: 5, threshold: 1\n",
      "A100200, nb of keywords: 7, threshold: 1\n",
      "A100299, nb of keywords: 0, threshold: 2\n",
      "A100300, nb of keywords: 5, threshold: 2\n",
      "A100399, nb of keywords: 0, threshold: 2\n",
      "A109900, nb of keywords: 0, threshold: 2\n",
      "A109999, nb of keywords: 0, threshold: 2\n",
      "A110000, nb of keywords: 38, threshold: 1\n",
      "A110100, nb of keywords: 25, threshold: 1\n",
      "A110199, nb of keywords: 0, threshold: 2\n",
      "A110200, nb of keywords: 3, threshold: 1\n",
      "A110299, nb of keywords: 0, threshold: 2\n",
      "A110300, nb of keywords: 4, threshold: 1\n",
      "A110399, nb of keywords: 0, threshold: 2\n",
      "A110400, nb of keywords: 4, threshold: 1\n",
      "A110499, nb of keywords: 0, threshold: 2\n",
      "A119900, nb of keywords: 0, threshold: 2\n",
      "A119999, nb of keywords: 0, threshold: 2\n",
      "A990000, nb of keywords: 0, threshold: 2\n",
      "A999900, nb of keywords: 0, threshold: 2\n",
      "A999999, nb of keywords: 0, threshold: 2\n",
      "B000000, nb of keywords: 35, threshold: 1\n",
      "B010000, nb of keywords: 20, threshold: 1\n",
      "B010100, nb of keywords: 4, threshold: 1\n",
      "B010199, nb of keywords: 0, threshold: 2\n",
      "B010200, nb of keywords: 2, threshold: 1\n",
      "B010299, nb of keywords: 0, threshold: 2\n",
      "B010300, nb of keywords: 3, threshold: 1\n",
      "B010399, nb of keywords: 0, threshold: 2\n",
      "B010400, nb of keywords: 5, threshold: 1\n",
      "B010499, nb of keywords: 0, threshold: 2\n",
      "B010500, nb of keywords: 7, threshold: 2\n",
      "B010599, nb of keywords: 0, threshold: 2\n",
      "B019900, nb of keywords: 0, threshold: 2\n",
      "B019999, nb of keywords: 0, threshold: 2\n",
      "B020000, nb of keywords: 1, threshold: 1\n",
      "B029900, nb of keywords: 0, threshold: 2\n",
      "B029999, nb of keywords: 0, threshold: 2\n",
      "B030000, nb of keywords: 6, threshold: 1\n",
      "B039900, nb of keywords: 0, threshold: 2\n",
      "B039999, nb of keywords: 0, threshold: 2\n",
      "B040000, nb of keywords: 1, threshold: 1\n",
      "B049900, nb of keywords: 0, threshold: 2\n",
      "B049999, nb of keywords: 0, threshold: 2\n",
      "B050000, nb of keywords: 2, threshold: 1\n",
      "B059900, nb of keywords: 0, threshold: 2\n",
      "B059999, nb of keywords: 0, threshold: 2\n",
      "B060000, nb of keywords: 6, threshold: 2\n",
      "B069900, nb of keywords: 0, threshold: 2\n",
      "B069999, nb of keywords: 0, threshold: 2\n",
      "B990000, nb of keywords: 0, threshold: 2\n",
      "B999900, nb of keywords: 0, threshold: 2\n",
      "B999999, nb of keywords: 0, threshold: 2\n",
      "C000000, nb of keywords: 9, threshold: 1\n",
      "C010000, nb of keywords: 9, threshold: 1\n",
      "C019900, nb of keywords: 0, threshold: 2\n",
      "C019999, nb of keywords: 0, threshold: 2\n",
      "C020000, nb of keywords: 1, threshold: 2\n",
      "C029900, nb of keywords: 0, threshold: 2\n",
      "C029999, nb of keywords: 0, threshold: 2\n",
      "C990000, nb of keywords: 0, threshold: 2\n",
      "C999900, nb of keywords: 0, threshold: 2\n",
      "C999999, nb of keywords: 0, threshold: 2\n",
      "D000000, nb of keywords: 76, threshold: 1\n",
      "D010000, nb of keywords: 38, threshold: 1\n",
      "D010100, nb of keywords: 3, threshold: 1\n",
      "D010199, nb of keywords: 0, threshold: 2\n",
      "D010200, nb of keywords: 9, threshold: 1\n",
      "D010299, nb of keywords: 0, threshold: 2\n",
      "D010300, nb of keywords: 16, threshold: 1\n",
      "D010399, nb of keywords: 0, threshold: 2\n",
      "D010400, nb of keywords: 7, threshold: 1\n",
      "D010499, nb of keywords: 0, threshold: 2\n",
      "D010500, nb of keywords: 0, threshold: 2\n",
      "D010599, nb of keywords: 0, threshold: 2\n",
      "D020000, nb of keywords: 11, threshold: 1\n",
      "D029900, nb of keywords: 0, threshold: 2\n",
      "D029999, nb of keywords: 0, threshold: 2\n",
      "D030000, nb of keywords: 4, threshold: 1\n",
      "D030100, nb of keywords: 12, threshold: 1\n",
      "D030199, nb of keywords: 0, threshold: 2\n",
      "D030200, nb of keywords: 8, threshold: 2\n",
      "D030299, nb of keywords: 0, threshold: 2\n",
      "D040000, nb of keywords: 7, threshold: 2\n",
      "D049900, nb of keywords: 0, threshold: 2\n",
      "D049999, nb of keywords: 0, threshold: 2\n",
      "D050000, nb of keywords: 7, threshold: 1\n",
      "D050100, nb of keywords: 2, threshold: 1\n",
      "D050199, nb of keywords: 0, threshold: 2\n",
      "D050200, nb of keywords: 5, threshold: 1\n",
      "D050299, nb of keywords: 0, threshold: 2\n",
      "D050300, nb of keywords: 2, threshold: 2\n",
      "D050399, nb of keywords: 0, threshold: 2\n",
      "D050400, nb of keywords: 1, threshold: 2\n",
      "D050499, nb of keywords: 0, threshold: 2\n",
      "D050500, nb of keywords: 2, threshold: 1\n",
      "D050599, nb of keywords: 0, threshold: 2\n",
      "D059900, nb of keywords: 0, threshold: 2\n",
      "D059999, nb of keywords: 0, threshold: 2\n",
      "D060000, nb of keywords: 14, threshold: 1\n",
      "D060100, nb of keywords: 3, threshold: 1\n",
      "D060101, nb of keywords: 3, threshold: 1\n",
      "D060103, nb of keywords: 0, threshold: 2\n",
      "D060200, nb of keywords: 4, threshold: 2\n",
      "D060299, nb of keywords: 0, threshold: 2\n",
      "D060400, nb of keywords: 5, threshold: 1\n",
      "D060401, nb of keywords: 5, threshold: 1\n",
      "D060402, nb of keywords: 3, threshold: 1\n",
      "D060403, nb of keywords: 6, threshold: 1\n",
      "D060404, nb of keywords: 3, threshold: 1\n",
      "D060405, nb of keywords: 3, threshold: 1\n",
      "D060406, nb of keywords: 2, threshold: 1\n",
      "D060499, nb of keywords: 0, threshold: 2\n",
      "D069900, nb of keywords: 0, threshold: 2\n",
      "D069999, nb of keywords: 0, threshold: 2\n",
      "D990000, nb of keywords: 0, threshold: 2\n",
      "D999900, nb of keywords: 0, threshold: 2\n",
      "D999999, nb of keywords: 0, threshold: 2\n",
      "E000000, nb of keywords: 0, threshold: 3\n",
      "E010000, nb of keywords: 17, threshold: 2\n",
      "E019900, nb of keywords: 0, threshold: 2\n",
      "E019999, nb of keywords: 0, threshold: 2\n",
      "E020000, nb of keywords: 13, threshold: 2\n",
      "E020100, nb of keywords: 7, threshold: 2\n",
      "E020199, nb of keywords: 0, threshold: 2\n",
      "E020200, nb of keywords: 5, threshold: 2\n",
      "E020299, nb of keywords: 0, threshold: 2\n",
      "E029900, nb of keywords: 0, threshold: 2\n",
      "E029999, nb of keywords: 0, threshold: 2\n",
      "E030000, nb of keywords: 6, threshold: 2\n",
      "E039900, nb of keywords: 0, threshold: 2\n",
      "E039999, nb of keywords: 0, threshold: 2\n",
      "E050000, nb of keywords: 47, threshold: 2\n",
      "E050100, nb of keywords: 16, threshold: 2\n",
      "E050199, nb of keywords: 0, threshold: 2\n",
      "E050200, nb of keywords: 12, threshold: 2\n",
      "E050299, nb of keywords: 0, threshold: 2\n",
      "E050400, nb of keywords: 15, threshold: 2\n",
      "E050499, nb of keywords: 0, threshold: 2\n",
      "E050500, nb of keywords: 4, threshold: 2\n",
      "E050599, nb of keywords: 0, threshold: 2\n",
      "E059900, nb of keywords: 0, threshold: 2\n",
      "E059999, nb of keywords: 0, threshold: 2\n",
      "E060000, nb of keywords: 4, threshold: 2\n",
      "E060100, nb of keywords: 10, threshold: 2\n",
      "E060199, nb of keywords: 0, threshold: 2\n",
      "E069900, nb of keywords: 0, threshold: 2\n",
      "E069999, nb of keywords: 0, threshold: 2\n",
      "E990000, nb of keywords: 0, threshold: 2\n",
      "E999900, nb of keywords: 0, threshold: 2\n",
      "E999999, nb of keywords: 0, threshold: 2\n",
      "F000000, nb of keywords: 0, threshold: 3\n",
      "F010000, nb of keywords: 11, threshold: 2\n",
      "F019900, nb of keywords: 0, threshold: 2\n",
      "F019999, nb of keywords: 0, threshold: 2\n",
      "F020000, nb of keywords: 8, threshold: 2\n",
      "F029900, nb of keywords: 0, threshold: 2\n",
      "F029999, nb of keywords: 0, threshold: 2\n",
      "F030000, nb of keywords: 15, threshold: 2\n",
      "F039900, nb of keywords: 0, threshold: 2\n",
      "F039999, nb of keywords: 0, threshold: 2\n",
      "F040000, nb of keywords: 23, threshold: 2\n",
      "F040100, nb of keywords: 6, threshold: 2\n",
      "F040199, nb of keywords: 0, threshold: 2\n",
      "F040200, nb of keywords: 7, threshold: 2\n",
      "F040299, nb of keywords: 0, threshold: 2\n",
      "F049900, nb of keywords: 0, threshold: 2\n",
      "F049999, nb of keywords: 0, threshold: 2\n",
      "F050000, nb of keywords: 15, threshold: 2\n",
      "F050100, nb of keywords: 3, threshold: 2\n",
      "F050199, nb of keywords: 0, threshold: 2\n",
      "F050200, nb of keywords: 4, threshold: 2\n",
      "F050299, nb of keywords: 0, threshold: 2\n",
      "F050300, nb of keywords: 2, threshold: 2\n",
      "F050399, nb of keywords: 0, threshold: 2\n",
      "F059900, nb of keywords: 0, threshold: 2\n",
      "F059999, nb of keywords: 0, threshold: 2\n",
      "F060000, nb of keywords: 16, threshold: 2\n",
      "F069900, nb of keywords: 0, threshold: 2\n",
      "F069999, nb of keywords: 0, threshold: 2\n",
      "F070000, nb of keywords: 13, threshold: 2\n",
      "F079900, nb of keywords: 0, threshold: 2\n",
      "F079999, nb of keywords: 0, threshold: 2\n",
      "F990000, nb of keywords: 0, threshold: 2\n",
      "F999900, nb of keywords: 0, threshold: 2\n",
      "F999999, nb of keywords: 0, threshold: 2\n",
      "G000000, nb of keywords: 15, threshold: 3\n",
      "G010000, nb of keywords: 30, threshold: 2\n",
      "G010100, nb of keywords: 27, threshold: 2\n",
      "G010199, nb of keywords: 0, threshold: 2\n",
      "G010200, nb of keywords: 2, threshold: 2\n",
      "G010299, nb of keywords: 0, threshold: 2\n",
      "G019900, nb of keywords: 0, threshold: 2\n",
      "G019999, nb of keywords: 0, threshold: 2\n",
      "G020000, nb of keywords: 28, threshold: 2\n",
      "G020100, nb of keywords: 24, threshold: 2\n",
      "G020199, nb of keywords: 0, threshold: 2\n",
      "G020200, nb of keywords: 15, threshold: 2\n",
      "G020299, nb of keywords: 0, threshold: 2\n",
      "G020300, nb of keywords: 34, threshold: 2\n",
      "G020399, nb of keywords: 0, threshold: 2\n",
      "G029900, nb of keywords: 0, threshold: 2\n",
      "G029999, nb of keywords: 0, threshold: 2\n",
      "G030000, nb of keywords: 46, threshold: 2\n",
      "G030100, nb of keywords: 10, threshold: 2\n",
      "G030199, nb of keywords: 0, threshold: 2\n",
      "G030200, nb of keywords: 32, threshold: 2\n",
      "G030299, nb of keywords: 0, threshold: 2\n",
      "G030300, nb of keywords: 20, threshold: 2\n",
      "G030399, nb of keywords: 0, threshold: 2\n",
      "G039900, nb of keywords: 0, threshold: 2\n",
      "G039999, nb of keywords: 0, threshold: 2\n",
      "G040000, nb of keywords: 29, threshold: 2\n",
      "G049900, nb of keywords: 0, threshold: 2\n",
      "G049999, nb of keywords: 0, threshold: 2\n",
      "G050000, nb of keywords: 2, threshold: 2\n",
      "G050100, nb of keywords: 6, threshold: 2\n",
      "G050199, nb of keywords: 0, threshold: 2\n",
      "G050200, nb of keywords: 5, threshold: 2\n",
      "G050299, nb of keywords: 0, threshold: 2\n",
      "G990000, nb of keywords: 0, threshold: 2\n",
      "G999900, nb of keywords: 0, threshold: 2\n",
      "G999999, nb of keywords: 0, threshold: 2\n",
      "H000000, nb of keywords: 37, threshold: 3\n",
      "H010000, nb of keywords: 13, threshold: 2\n",
      "H010100, nb of keywords: 4, threshold: 2\n",
      "H010199, nb of keywords: 0, threshold: 2\n",
      "H010200, nb of keywords: 10, threshold: 2\n",
      "H010299, nb of keywords: 0, threshold: 2\n",
      "H010300, nb of keywords: 3, threshold: 2\n",
      "H010399, nb of keywords: 0, threshold: 2\n",
      "H019900, nb of keywords: 0, threshold: 2\n",
      "H019999, nb of keywords: 0, threshold: 2\n",
      "H020000, nb of keywords: 14, threshold: 2\n",
      "H020100, nb of keywords: 3, threshold: 2\n",
      "H020199, nb of keywords: 0, threshold: 2\n",
      "H020200, nb of keywords: 5, threshold: 2\n",
      "H020299, nb of keywords: 0, threshold: 2\n",
      "H020300, nb of keywords: 8, threshold: 2\n",
      "H020399, nb of keywords: 0, threshold: 2\n",
      "H029900, nb of keywords: 0, threshold: 2\n",
      "H029999, nb of keywords: 0, threshold: 2\n",
      "H030000, nb of keywords: 9, threshold: 2\n",
      "H039900, nb of keywords: 0, threshold: 2\n",
      "H039999, nb of keywords: 0, threshold: 2\n",
      "H990000, nb of keywords: 0, threshold: 2\n",
      "H999900, nb of keywords: 0, threshold: 2\n",
      "H999999, nb of keywords: 0, threshold: 2\n",
      "DONE, total number of interests read: 330\n"
     ]
    }
   ],
   "source": [
    "tree = read_tree(df)"
   ]
  },
  {
   "cell_type": "code",
   "execution_count": 193,
   "metadata": {},
   "outputs": [],
   "source": [
    "def find_all_siblings(itr, tree):\n",
    "    IID = itr.IID\n",
    "    level = itr.level\n",
    "    if level == 4:\n",
    "        pat = \"^\"+IID[:5]+\"0[^0]$\"\n",
    "    if level == 3:\n",
    "        pat = \"^\"+IID[:3]+\"0[^0]00$\"\n",
    "    if level == 2:\n",
    "        pat = \"^\"+IID[:1]+\"0[^0]0000$\"\n",
    "    res = []\n",
    "    #print(pat)\n",
    "    for itr in tree:\n",
    "        if re.search(pat, itr.IID):\n",
    "            res.append(itr)\n",
    "    return res"
   ]
  },
  {
   "cell_type": "code",
   "execution_count": 194,
   "metadata": {},
   "outputs": [
    {
     "name": "stdout",
     "output_type": "stream",
     "text": [
      "set parent domain for A000000, length 407720\n",
      "A000000 has except keywords ['phim', 'sex']\n",
      "Done filtering for A000000, domains found: 64734\n",
      "A000000 Business & Industry 64734\n",
      "\n",
      "set parent domain for A010000, length 64734\n",
      "Done filtering for A010000, domains found: 3807\n",
      "A010000 Advertising 3807\n",
      "\n",
      "set parent domain for A010100, length 3807\n",
      "Done filtering for A010100, domains found: 905\n",
      "A010100 Local printing services 905\n",
      "\n",
      "A010199 is Other!\n",
      "Parent: A010100\n",
      "siblings: \n",
      "Number of other domains: 905\n",
      "A010199 Others 905\n",
      "\n",
      "set parent domain for A010200, length 3807\n",
      "Done filtering for A010200, domains found: 2917\n",
      "A010200 Online marketing 2917\n",
      "\n",
      "A010299 is Other!\n",
      "Parent: A010200\n",
      "siblings: \n",
      "Number of other domains: 2917\n",
      "A010299 Others 2917\n",
      "\n",
      "A019900 is Other!\n",
      "Parent: A010000\n",
      "siblings: A010100|A010200\n",
      "Number of other domains: 0\n",
      "A019900 Others 0\n",
      "\n",
      "A019999 is Other!\n",
      "Parent: A019900\n",
      "siblings: \n",
      "Number of other domains: 0\n",
      "A019999 Others 0\n",
      "\n",
      "set parent domain for A020000, length 64734\n",
      "Done filtering for A020000, domains found: 2177\n",
      "A020000 Natural production 2177\n",
      "\n",
      "set parent domain for A020100, length 2177\n",
      "A020100 has except keywords ['in_ấn', 'bao_bì', 'thú_cưng']\n",
      "Done filtering for A020100, domains found: 1891\n",
      "A020100 Agriculture 1891\n",
      "\n",
      "A020199 is Other!\n",
      "Parent: A020100\n",
      "siblings: \n",
      "Number of other domains: 1891\n",
      "A020199 Others 1891\n",
      "\n",
      "set parent domain for A020200, length 2177\n",
      "Done filtering for A020200, domains found: 106\n",
      "A020200 Forestry 106\n",
      "\n",
      "A020299 is Other!\n",
      "Parent: A020200\n",
      "siblings: \n",
      "Number of other domains: 106\n",
      "A020299 Others 106\n",
      "\n",
      "set parent domain for A020300, length 2177\n",
      "Done filtering for A020300, domains found: 239\n",
      "A020300 Fishery 239\n",
      "\n",
      "A020399 is Other!\n",
      "Parent: A020300\n",
      "siblings: \n",
      "Number of other domains: 239\n",
      "A020399 Others 239\n",
      "\n",
      "A029900 is Other!\n",
      "Parent: A020000\n",
      "siblings: A020100|A020200|A020300\n",
      "Number of other domains: 23\n",
      "A029900 Others 23\n",
      "\n",
      "A029999 is Other!\n",
      "Parent: A029900\n",
      "siblings: \n",
      "Number of other domains: 23\n",
      "A029999 Others 23\n",
      "\n",
      "set parent domain for A030000, length 64734\n",
      "Done filtering for A030000, domains found: 0\n",
      "A030000 Banking 0\n",
      "\n",
      "A039900 is Other!\n",
      "Parent: A030000\n",
      "siblings: \n",
      "Number of other domains: 0\n",
      "A039900 Others 0\n",
      "\n",
      "A039999 is Other!\n",
      "Parent: A039900\n",
      "siblings: \n",
      "Number of other domains: 0\n",
      "A039999 Others 0\n",
      "\n",
      "set parent domain for A040000, length 64734\n",
      "A040000 has except keywords ['biển_hiệu', 'quảng_cáo', 'in_ấn', 'web', 'website', 'tiếp_thị', 'truyền_thông', 'seo', 'branding', 'content', 'truyền_thông', 'băng_rôn', 'tối_ưu', 'in_ấn', 'băng_rôn', 'neonsign', 'standee', 'phướn', 'tờ_rơi', 'biển_hiệu', 'bảng_hiệu', 'copywriter', 'contentmarketing', 'marketingbureau', 'maketing', 'webmarketing', 'leadgeneratie', 'emarketing', 'copywriting', 'ppc', 'marketer', 'wordofmouth', 'adwords', 'makerting', 'ads', 'tiếp_thị', 'marketting', 'advertising', 'seo', 'branding', 'cây_cảnh', 'cây_trồng', 'hạt_giống', 'thú_y', 'nông_nghiệp', 'cây_xanh', 'cay_xanh', 'cay_canh', 'phân_bón', 'ươm', 'cây']\n"
     ]
    },
    {
     "name": "stderr",
     "output_type": "stream",
     "text": [
      "/home/polynote/.local/lib/python3.6/site-packages/ipykernel_launcher.py:23: DeprecationWarning: The default dtype for empty Series will be 'object' instead of 'float64' in a future version. Specify a dtype explicitly to silence this warning.\n",
      "/home/polynote/.local/lib/python3.6/site-packages/ipykernel_launcher.py:23: DeprecationWarning: The default dtype for empty Series will be 'object' instead of 'float64' in a future version. Specify a dtype explicitly to silence this warning.\n",
      "/home/polynote/.local/lib/python3.6/site-packages/ipykernel_launcher.py:23: DeprecationWarning: The default dtype for empty Series will be 'object' instead of 'float64' in a future version. Specify a dtype explicitly to silence this warning.\n",
      "/home/polynote/.local/lib/python3.6/site-packages/ipykernel_launcher.py:23: DeprecationWarning: The default dtype for empty Series will be 'object' instead of 'float64' in a future version. Specify a dtype explicitly to silence this warning.\n",
      "/home/polynote/.local/lib/python3.6/site-packages/ipykernel_launcher.py:23: DeprecationWarning: The default dtype for empty Series will be 'object' instead of 'float64' in a future version. Specify a dtype explicitly to silence this warning.\n",
      "/home/polynote/.local/lib/python3.6/site-packages/ipykernel_launcher.py:23: DeprecationWarning: The default dtype for empty Series will be 'object' instead of 'float64' in a future version. Specify a dtype explicitly to silence this warning.\n",
      "/home/polynote/.local/lib/python3.6/site-packages/ipykernel_launcher.py:23: DeprecationWarning: The default dtype for empty Series will be 'object' instead of 'float64' in a future version. Specify a dtype explicitly to silence this warning.\n"
     ]
    },
    {
     "name": "stdout",
     "output_type": "stream",
     "text": [
      "Done filtering for A040000, domains found: 4224\n",
      "A040000 Construction 4224\n",
      "\n",
      "A049900 is Other!\n",
      "Parent: A040000\n",
      "siblings: \n",
      "Number of other domains: 4224\n",
      "A049900 Others 4224\n",
      "\n",
      "A049999 is Other!\n",
      "Parent: A049900\n",
      "siblings: \n",
      "Number of other domains: 4224\n",
      "A049999 Others 4224\n",
      "\n",
      "set parent domain for A050000, length 64734\n",
      "Done filtering for A050000, domains found: 12706\n",
      "A050000 Design 12706\n",
      "\n",
      "set parent domain for A050100, length 12706\n",
      "A050100 has except keywords ['biển_hiệu', 'quảng_cáo', 'in_ấn', 'web', 'website', 'tiếp_thị', 'truyền_thông', 'seo', 'branding', 'content', 'truyền_thông', 'băng_rôn', 'tối_ưu', 'in_ấn', 'băng_rôn', 'neonsign', 'standee', 'phướn', 'tờ_rơi', 'biển_hiệu', 'bảng_hiệu', 'copywriter', 'contentmarketing', 'marketingbureau', 'maketing', 'webmarketing', 'leadgeneratie', 'emarketing', 'copywriting', 'ppc', 'marketer', 'wordofmouth', 'adwords', 'makerting', 'ads', 'tiếp_thị', 'marketting', 'advertising', 'seo', 'branding']\n",
      "Done filtering for A050100, domains found: 2851\n",
      "A050100 Architecture & Interior design 2851\n",
      "\n",
      "A050199 is Other!\n",
      "Parent: A050100\n",
      "siblings: \n",
      "Number of other domains: 2851\n",
      "A050199 Others 2851\n",
      "\n",
      "set parent domain for A050200, length 12706\n",
      "Done filtering for A050200, domains found: 1770\n",
      "A050200 Web design 1770\n",
      "\n",
      "A050299 is Other!\n",
      "Parent: A050200\n",
      "siblings: \n",
      "Number of other domains: 1770\n",
      "A050299 Others 1770\n",
      "\n",
      "A059900 is Other!\n",
      "Parent: A050000\n",
      "siblings: A050100|A050200\n",
      "Number of other domains: 8085\n",
      "A059900 Others 8085\n",
      "\n",
      "A059999 is Other!\n",
      "Parent: A059900\n",
      "siblings: \n",
      "Number of other domains: 8085\n",
      "A059999 Others 8085\n",
      "\n",
      "set parent domain for A060000, length 64734\n",
      "A060000 has except keywords ['xây_dựng', 'sản_xuất', 'thi_công', 'thiết_kế', 'biển_hiệu', 'quảng_cáo', 'in_ấn', 'web', 'website', 'tiếp_thị', 'truyền_thông', 'seo', 'branding', 'content', 'truyền_thông', 'băng_rôn', 'tối_ưu', 'in_ấn', 'băng_rôn', 'neonsign', 'standee', 'phướn', 'tờ_rơi', 'biển_hiệu', 'bảng_hiệu', 'copywriter', 'contentmarketing', 'marketingbureau', 'maketing', 'webmarketing', 'leadgeneratie', 'emarketing', 'copywriting', 'ppc', 'marketer', 'wordofmouth', 'adwords', 'makerting', 'ads', 'tiếp_thị', 'marketting', 'advertising', 'seo', 'branding', 'khách_sạn', 'công_trình', 'phần_mềm', 'chung_cư', 'lô', 'đất', 'dự_án', 'siêu_thị']\n",
      "Done filtering for A060000, domains found: 4018\n",
      "A060000 Medical 4018\n",
      "\n",
      "set parent domain for A060100, length 4018\n",
      "A060100 has except keywords ['chung_cư', 'lô', 'đất', 'dự_án']\n",
      "Done filtering for A060100, domains found: 3669\n",
      "A060100 Hospitals & Clinics 3669\n",
      "\n",
      "set parent domain for A060101, length 3669\n",
      "Done filtering for A060101, domains found: 1172\n",
      "A060101 Beauty & Dermatology 1172\n",
      "\n",
      "set parent domain for A060102, length 3669\n",
      "Done filtering for A060102, domains found: 664\n",
      "A060102 Dental 664\n",
      "\n",
      "set parent domain for A060103, length 3669\n",
      "Done filtering for A060103, domains found: 274\n",
      "A060103 Obstetrics 274\n",
      "\n",
      "set parent domain for A060104, length 3669\n"
     ]
    },
    {
     "name": "stderr",
     "output_type": "stream",
     "text": [
      "/home/polynote/.local/lib/python3.6/site-packages/ipykernel_launcher.py:23: DeprecationWarning: The default dtype for empty Series will be 'object' instead of 'float64' in a future version. Specify a dtype explicitly to silence this warning.\n",
      "/home/polynote/.local/lib/python3.6/site-packages/ipykernel_launcher.py:23: DeprecationWarning: The default dtype for empty Series will be 'object' instead of 'float64' in a future version. Specify a dtype explicitly to silence this warning.\n"
     ]
    },
    {
     "name": "stdout",
     "output_type": "stream",
     "text": [
      "Done filtering for A060104, domains found: 31\n",
      "A060104 Oncology 31\n",
      "\n",
      "set parent domain for A060105, length 3669\n",
      "Done filtering for A060105, domains found: 144\n",
      "A060105 Veterinary 144\n",
      "\n",
      "set parent domain for A060106, length 3669\n",
      "Done filtering for A060106, domains found: 444\n",
      "A060106 General 444\n",
      "\n",
      "set parent domain for A060107, length 3669\n",
      "Done filtering for A060107, domains found: 43\n",
      "A060107 Andrology 43\n",
      "\n",
      "A060199 is Other!\n",
      "Parent: A060100\n",
      "siblings: A060101|A060102|A060103|A060104|A060105|A060106|A060107\n",
      "Number of other domains: 1192\n",
      "A060199 Others 1192\n",
      "\n",
      "set parent domain for A060200, length 4018\n",
      "Done filtering for A060200, domains found: 387\n",
      "A060200 Pharmacy 387\n",
      "\n",
      "set parent domain for A060201, length 387\n",
      "Done filtering for A060201, domains found: 117\n",
      "A060201 Western medicine - Pharmacy  117\n",
      "\n",
      "set parent domain for A060202, length 387\n",
      "Done filtering for A060202, domains found: 194\n",
      "A060202 Traditional medicine - Pharmacy  194\n",
      "\n",
      "A060299 is Other!\n",
      "Parent: A060200\n",
      "siblings: A060201|A060202\n",
      "Number of other domains: 77\n",
      "A060299 Others 77\n",
      "\n",
      "set parent domain for A060300, length 4018\n",
      "Done filtering for A060300, domains found: 225\n",
      "A060300 Special local prescription 225\n",
      "\n",
      "set parent domain for A060301, length 225\n",
      "Done filtering for A060301, domains found: 8\n",
      "A060301 Erectile Dysfunction 8\n",
      "\n",
      "A060399 is Other!\n",
      "Parent: A060300\n",
      "siblings: A060301\n",
      "Number of other domains: 217\n",
      "A060399 Others 217\n",
      "\n",
      "A069900 is Other!\n",
      "Parent: A060000\n",
      "siblings: A060100|A060200|A060300\n",
      "Number of other domains: 19\n",
      "A069900 Others 19\n",
      "\n",
      "A069999 is Other!\n",
      "Parent: A069900\n",
      "siblings: \n",
      "Number of other domains: 19\n",
      "A069999 Others 19\n",
      "\n",
      "set parent domain for A070000, length 64734\n",
      "A070000 has except keywords ['xây_dựng', 'sản_xuất', 'thi_công', 'thiết_kế', 'biển_hiệu', 'quảng_cáo', 'in_ấn', 'web', 'website', 'tiếp_thị', 'truyền_thông', 'seo', 'branding', 'content', 'truyền_thông', 'băng_rôn', 'tối_ưu', 'in_ấn', 'băng_rôn', 'neonsign', 'standee', 'phướn', 'tờ_rơi', 'biển_hiệu', 'bảng_hiệu', 'copywriter', 'contentmarketing', 'marketingbureau', 'maketing', 'webmarketing', 'leadgeneratie', 'emarketing', 'copywriting', 'ppc', 'marketer', 'wordofmouth', 'adwords', 'makerting', 'ads', 'tiếp_thị', 'marketting', 'advertising', 'seo', 'branding', 'kế_toán', 'nón', 'mũ', 'đài', 'du_học']\n",
      "Done filtering for A070000, domains found: 3268\n",
      "A070000 Personal finance 3268\n",
      "\n",
      "set parent domain for A070100, length 3268\n",
      "A070100 has except keywords ['khách_sạn']\n",
      "Done filtering for A070100, domains found: 908\n",
      "A070100 Insurance 908\n",
      "\n",
      "set parent domain for A070101, length 908\n",
      "Done filtering for A070101, domains found: 95\n",
      "A070101 Life insurance 95\n",
      "\n",
      "set parent domain for A070102, length 908\n",
      "Done filtering for A070102, domains found: 147\n",
      "A070102 Health insurance 147\n",
      "\n",
      "set parent domain for A070103, length 908\n",
      "Done filtering for A070103, domains found: 74\n",
      "A070103 Travel insurance 74\n",
      "\n",
      "set parent domain for A070104, length 908\n",
      "Done filtering for A070104, domains found: 105\n",
      "A070104 Vehicle insurance 105\n",
      "\n",
      "A070105 is Other!\n",
      "Parent: A070100\n",
      "siblings: A070101|A070102|A070103|A070104|A070105\n",
      "Number of other domains: 560\n",
      "A070105 Other General insurance 560\n",
      "\n",
      "set parent domain for A070200, length 3268\n",
      "Done filtering for A070200, domains found: 55\n",
      "A070200 Pledging 55\n",
      "\n",
      "A070299 is Other!\n",
      "Parent: A070200\n",
      "siblings: \n",
      "Number of other domains: 55\n",
      "A070299 Others 55\n",
      "\n",
      "set parent domain for A070300, length 3268\n"
     ]
    },
    {
     "name": "stderr",
     "output_type": "stream",
     "text": [
      "/home/polynote/.local/lib/python3.6/site-packages/ipykernel_launcher.py:23: DeprecationWarning: The default dtype for empty Series will be 'object' instead of 'float64' in a future version. Specify a dtype explicitly to silence this warning.\n",
      "/home/polynote/.local/lib/python3.6/site-packages/ipykernel_launcher.py:23: DeprecationWarning: The default dtype for empty Series will be 'object' instead of 'float64' in a future version. Specify a dtype explicitly to silence this warning.\n",
      "/home/polynote/.local/lib/python3.6/site-packages/ipykernel_launcher.py:23: DeprecationWarning: The default dtype for empty Series will be 'object' instead of 'float64' in a future version. Specify a dtype explicitly to silence this warning.\n"
     ]
    },
    {
     "name": "stdout",
     "output_type": "stream",
     "text": [
      "Done filtering for A070300, domains found: 494\n",
      "A070300 Loans 494\n",
      "\n",
      "set parent domain for A070301, length 494\n",
      "Done filtering for A070301, domains found: 147\n",
      "A070301 Mortgage loan 147\n",
      "\n",
      "set parent domain for A070302, length 494\n",
      "Done filtering for A070302, domains found: 193\n",
      "A070302 Unsecured loan 193\n",
      "\n",
      "A070399 is Other!\n",
      "Parent: A070300\n",
      "siblings: A070301|A070302\n",
      "Number of other domains: 205\n",
      "A070399 Others 205\n",
      "\n",
      "set parent domain for A070400, length 3268\n",
      "Done filtering for A070400, domains found: 1137\n",
      "A070400 Investments 1137\n",
      "\n",
      "set parent domain for A070401, length 1137\n",
      "Done filtering for A070401, domains found: 1137\n",
      "A070401 Bitcoin 1137\n",
      "\n",
      "A079900 is Other!\n",
      "Parent: A070000\n",
      "siblings: A070100|A070200|A070300|A070400\n",
      "Number of other domains: 733\n",
      "A079900 Others 733\n",
      "\n",
      "A079999 is Other!\n",
      "Parent: A079900\n",
      "siblings: \n",
      "Number of other domains: 733\n",
      "A079999 Others 733\n",
      "\n",
      "set parent domain for A080000, length 64734\n",
      "A080000 has except keywords ['biển_hiệu', 'quảng_cáo', 'in_ấn', 'web', 'website', 'tiếp_thị', 'truyền_thông', 'seo', 'branding', 'content', 'truyền_thông', 'băng_rôn', 'in_ấn', 'băng_rôn', 'neonsign', 'standee', 'phướn', 'tờ_rơi', 'biển_hiệu', 'bảng_hiệu', 'copywriter', 'contentmarketing', 'marketingbureau', 'maketing', 'webmarketing', 'leadgeneratie', 'emarketing', 'copywriting', 'ppc', 'marketer', 'wordofmouth', 'adwords', 'makerting', 'ads', 'tiếp_thị', 'marketting', 'advertising', 'seo', 'branding', 'landing', 'phần_mềm']\n",
      "Done filtering for A080000, domains found: 4331\n",
      "A080000 Real Estate 4331\n",
      "\n",
      "A089900 is Other!\n",
      "Parent: A080000\n",
      "siblings: \n",
      "Number of other domains: 4331\n",
      "A089900 Others 4331\n",
      "\n",
      "A089999 is Other!\n",
      "Parent: A089900\n",
      "siblings: \n",
      "Number of other domains: 4331\n",
      "A089999 Others 4331\n",
      "\n",
      "set parent domain for A090000, length 64734\n",
      "A090000 has except keywords ['xây_dựng', 'sản_xuất', 'thi_công', 'thiết_kế', 'biển_hiệu', 'quảng_cáo', 'in_ấn', 'web', 'website', 'tiếp_thị', 'truyền_thông', 'seo', 'branding', 'content', 'truyền_thông', 'băng_rôn', 'tối_ưu', 'in_ấn', 'băng_rôn', 'neonsign', 'standee', 'phướn', 'tờ_rơi', 'biển_hiệu', 'bảng_hiệu', 'copywriter', 'contentmarketing', 'marketingbureau', 'maketing', 'webmarketing', 'leadgeneratie', 'emarketing', 'copywriting', 'ppc', 'marketer', 'wordofmouth', 'adwords', 'makerting', 'ads', 'tiếp_thị', 'marketting', 'advertising', 'seo', 'branding', 'backdrop']\n",
      "Done filtering for A090000, domains found: 4157\n",
      "A090000 Services & Consulting 4157\n",
      "\n",
      "set parent domain for A090100, length 4157\n",
      "A090100 has except keywords ['gà', 'vịt', 'giống']\n",
      "Done filtering for A090100, domains found: 1372\n",
      "A090100 Commuting - transporting 1372\n",
      "\n",
      "A090199 is Other!\n",
      "Parent: A090100\n",
      "siblings: \n",
      "Number of other domains: 1372\n",
      "A090199 Others 1372\n",
      "\n",
      "set parent domain for A090200, length 4157\n",
      "Done filtering for A090200, domains found: 0\n",
      "A090200 E-wallet 0\n",
      "\n",
      "A090299 is Other!\n",
      "Parent: A090200\n",
      "siblings: \n",
      "Number of other domains: 0\n",
      "A090299 Others 0\n",
      "\n",
      "set parent domain for A090300, length 4157\n"
     ]
    },
    {
     "name": "stderr",
     "output_type": "stream",
     "text": [
      "/home/polynote/.local/lib/python3.6/site-packages/ipykernel_launcher.py:23: DeprecationWarning: The default dtype for empty Series will be 'object' instead of 'float64' in a future version. Specify a dtype explicitly to silence this warning.\n",
      "/home/polynote/.local/lib/python3.6/site-packages/ipykernel_launcher.py:23: DeprecationWarning: The default dtype for empty Series will be 'object' instead of 'float64' in a future version. Specify a dtype explicitly to silence this warning.\n",
      "/home/polynote/.local/lib/python3.6/site-packages/ipykernel_launcher.py:23: DeprecationWarning: The default dtype for empty Series will be 'object' instead of 'float64' in a future version. Specify a dtype explicitly to silence this warning.\n",
      "/home/polynote/.local/lib/python3.6/site-packages/ipykernel_launcher.py:23: DeprecationWarning: The default dtype for empty Series will be 'object' instead of 'float64' in a future version. Specify a dtype explicitly to silence this warning.\n"
     ]
    },
    {
     "name": "stdout",
     "output_type": "stream",
     "text": [
      "Done filtering for A090300, domains found: 431\n",
      "A090300 Accounting & Tax 431\n",
      "\n",
      "A090399 is Other!\n",
      "Parent: A090300\n",
      "siblings: \n",
      "Number of other domains: 431\n",
      "A090399 Others 431\n",
      "\n",
      "A099900 is Other!\n",
      "Parent: A090000\n",
      "siblings: A090100|A090200|A090300\n",
      "Number of other domains: 2357\n",
      "A099900 Others 2357\n",
      "\n",
      "A099999 is Other!\n",
      "Parent: A099900\n",
      "siblings: \n",
      "Number of other domains: 2357\n",
      "A099999 Others 2357\n",
      "\n",
      "set parent domain for A100000, length 64734\n",
      "A100000 has except keywords ['xây_dựng', 'sản_xuất', 'thi_công', 'thiết_kế', 'biển_hiệu', 'quảng_cáo', 'in_ấn', 'web', 'website', 'tiếp_thị', 'truyền_thông', 'seo', 'branding', 'content', 'truyền_thông', 'băng_rôn', 'tối_ưu', 'in_ấn', 'băng_rôn', 'neonsign', 'standee', 'phướn', 'tờ_rơi', 'biển_hiệu', 'bảng_hiệu', 'copywriter', 'contentmarketing', 'marketingbureau', 'maketing', 'webmarketing', 'leadgeneratie', 'emarketing', 'copywriting', 'ppc', 'marketer', 'wordofmouth', 'adwords', 'makerting', 'ads', 'tiếp_thị', 'marketting', 'advertising', 'seo', 'branding']\n",
      "Done filtering for A100000, domains found: 10626\n",
      "A100000 Traveling & hospitality 10626\n",
      "\n",
      "set parent domain for A100100, length 10626\n",
      "Done filtering for A100100, domains found: 1382\n",
      "A100100 Ticket 1382\n",
      "\n",
      "set parent domain for A100101, length 1382\n",
      "A100101 has except keywords ['tour']\n",
      "Done filtering for A100101, domains found: 85\n",
      "A100101 Train & boat 85\n",
      "\n",
      "set parent domain for A100102, length 1382\n",
      "A100102 has except keywords ['tour']\n",
      "Done filtering for A100102, domains found: 17\n",
      "A100102 Car 17\n",
      "\n",
      "set parent domain for A100103, length 1382\n",
      "A100103 has except keywords ['tour']\n",
      "Done filtering for A100103, domains found: 676\n",
      "A100103 Air 676\n",
      "\n",
      "set parent domain for A100200, length 10626\n",
      "Done filtering for A100200, domains found: 4367\n",
      "A100200 Accomodation 4367\n",
      "\n",
      "A100299 is Other!\n",
      "Parent: A100200\n",
      "siblings: \n",
      "Number of other domains: 4367\n",
      "A100299 Others 4367\n",
      "\n",
      "set parent domain for A100300, length 10626\n",
      "A100300 has except keywords ['blog']\n",
      "Done filtering for A100300, domains found: 3783\n",
      "A100300 Trip planning - tour 3783\n",
      "\n",
      "A100399 is Other!\n",
      "Parent: A100300\n",
      "siblings: \n",
      "Number of other domains: 3783\n",
      "A100399 Others 3783\n",
      "\n",
      "A109900 is Other!\n",
      "Parent: A100000\n",
      "siblings: A100100|A100200|A100300\n"
     ]
    },
    {
     "name": "stderr",
     "output_type": "stream",
     "text": [
      "/home/polynote/.local/lib/python3.6/site-packages/ipykernel_launcher.py:23: DeprecationWarning: The default dtype for empty Series will be 'object' instead of 'float64' in a future version. Specify a dtype explicitly to silence this warning.\n",
      "/home/polynote/.local/lib/python3.6/site-packages/ipykernel_launcher.py:23: DeprecationWarning: The default dtype for empty Series will be 'object' instead of 'float64' in a future version. Specify a dtype explicitly to silence this warning.\n",
      "/home/polynote/.local/lib/python3.6/site-packages/ipykernel_launcher.py:23: DeprecationWarning: The default dtype for empty Series will be 'object' instead of 'float64' in a future version. Specify a dtype explicitly to silence this warning.\n",
      "/home/polynote/.local/lib/python3.6/site-packages/ipykernel_launcher.py:23: DeprecationWarning: The default dtype for empty Series will be 'object' instead of 'float64' in a future version. Specify a dtype explicitly to silence this warning.\n",
      "/home/polynote/.local/lib/python3.6/site-packages/ipykernel_launcher.py:23: DeprecationWarning: The default dtype for empty Series will be 'object' instead of 'float64' in a future version. Specify a dtype explicitly to silence this warning.\n",
      "/home/polynote/.local/lib/python3.6/site-packages/ipykernel_launcher.py:23: DeprecationWarning: The default dtype for empty Series will be 'object' instead of 'float64' in a future version. Specify a dtype explicitly to silence this warning.\n"
     ]
    },
    {
     "name": "stdout",
     "output_type": "stream",
     "text": [
      "Number of other domains: 2044\n",
      "A109900 Others 2044\n",
      "\n",
      "A109999 is Other!\n",
      "Parent: A109900\n",
      "siblings: \n",
      "Number of other domains: 2044\n",
      "A109999 Others 2044\n",
      "\n",
      "set parent domain for A110000, length 64734\n",
      "A110000 has except keywords ['biển_hiệu', 'quảng_cáo', 'in_ấn', 'web', 'website', 'tiếp_thị', 'truyền_thông', 'seo', 'branding', 'content', 'truyền_thông', 'băng_rôn', 'tối_ưu', 'in_ấn', 'băng_rôn', 'neonsign', 'standee', 'phướn', 'tờ_rơi', 'biển_hiệu', 'bảng_hiệu', 'copywriter', 'contentmarketing', 'marketingbureau', 'maketing', 'webmarketing', 'leadgeneratie', 'emarketing', 'copywriting', 'ppc', 'marketer', 'wordofmouth', 'adwords', 'makerting', 'ads', 'tiếp_thị', 'marketting', 'advertising', 'seo', 'branding', 'phần_mềm', 'cầm_đồ', 'cầm_cố']\n",
      "Done filtering for A110000, domains found: 6531\n",
      "A110000 Vehicle 6531\n",
      "\n",
      "set parent domain for A110100, length 6531\n",
      "A110100 has except keywords ['phụ_tùng']\n",
      "Done filtering for A110100, domains found: 2401\n",
      "A110100 Auto 2401\n",
      "\n",
      "A110199 is Other!\n",
      "Parent: A110100\n",
      "siblings: \n",
      "Number of other domains: 2401\n",
      "A110199 Others 2401\n",
      "\n",
      "set parent domain for A110200, length 6531\n",
      "A110200 has except keywords ['cân', 'chở', 'phụ_tùng']\n",
      "Done filtering for A110200, domains found: 1075\n",
      "A110200 Trucks 1075\n",
      "\n",
      "A110299 is Other!\n",
      "Parent: A110200\n",
      "siblings: \n",
      "Number of other domains: 1075\n",
      "A110299 Others 1075\n",
      "\n",
      "set parent domain for A110300, length 6531\n",
      "A110300 has except keywords ['phụ_tùng']\n",
      "Done filtering for A110300, domains found: 636\n",
      "A110300 Motobike 636\n",
      "\n",
      "A110399 is Other!\n",
      "Parent: A110300\n",
      "siblings: \n",
      "Number of other domains: 636\n",
      "A110399 Others 636\n",
      "\n",
      "set parent domain for A110400, length 6531\n",
      "Done filtering for A110400, domains found: 1169\n",
      "A110400 Parts - Spareparts 1169\n",
      "\n",
      "A110499 is Other!\n",
      "Parent: A110400\n",
      "siblings: \n",
      "Number of other domains: 1169\n",
      "A110499 Others 1169\n",
      "\n",
      "A119900 is Other!\n",
      "Parent: A110000\n",
      "siblings: A110100|A110200|A110300|A110400\n",
      "Number of other domains: 1597\n",
      "A119900 Others 1597\n",
      "\n",
      "A119999 is Other!\n",
      "Parent: A119900\n",
      "siblings: \n",
      "Number of other domains: 1597\n",
      "A119999 Others 1597\n",
      "\n",
      "A990000 is Other!\n",
      "Parent: A000000\n",
      "siblings: A010000|A020000|A030000|A040000|A050000|A060000|A070000|A080000|A090000\n",
      "Number of other domains: 29228\n",
      "A990000 Others 29228\n",
      "\n",
      "A999900 is Other!\n",
      "Parent: A990000\n",
      "siblings: \n",
      "Number of other domains: 29228\n",
      "A999900 Others 29228\n",
      "\n",
      "A999999 is Other!\n",
      "Parent: A999900\n",
      "siblings: \n",
      "Number of other domains: 29228\n",
      "A999999 Others 29228\n",
      "\n",
      "set parent domain for B000000, length 407720\n",
      "B000000 has except keywords ['xây_dựng', 'sản_xuất', 'thi_công', 'thiết_kế', 'biển_hiệu', 'quảng_cáo', 'in_ấn', 'tiếp_thị', 'truyền_thông', 'seo', 'branding', 'content', 'truyền_thông', 'băng_rôn', 'tối_ưu', 'in_ấn', 'băng_rôn', 'neonsign', 'standee', 'phướn', 'tờ_rơi', 'biển_hiệu', 'bảng_hiệu', 'copywriter', 'contentmarketing', 'marketingbureau', 'maketing', 'webmarketing', 'leadgeneratie', 'emarketing', 'copywriting', 'ppc', 'marketer', 'wordofmouth', 'adwords', 'makerting', 'ads', 'tiếp_thị', 'marketting', 'advertising', 'seo', 'branding', 'căn_hộ', 'chung_cư', 'siêu_thị', 'vay', 'thẩm_mỹ_viện', 'cư_dân', 'khu_đô_thị', 'nhà_đất']\n",
      "Done filtering for B000000, domains found: 14452\n",
      "B000000 Education 14452\n",
      "\n",
      "set parent domain for B010000, length 14452\n",
      "Done filtering for B010000, domains found: 11270\n",
      "B010000 Education levels 11270\n",
      "\n",
      "set parent domain for B010100, length 11270\n",
      "B010100 has except keywords ['cao_đẳng', 'đồ_chơi', 'tranh_tường']\n",
      "Done filtering for B010100, domains found: 844\n",
      "B010100 Preschool 844\n",
      "\n",
      "B010199 is Other!\n",
      "Parent: B010100\n",
      "siblings: \n",
      "Number of other domains: 844\n",
      "B010199 Others 844\n",
      "\n",
      "set parent domain for B010200, length 11270\n",
      "B010200 has except keywords ['gia_sư']\n",
      "Done filtering for B010200, domains found: 701\n",
      "B010200 Elementary school 701\n",
      "\n",
      "B010299 is Other!\n",
      "Parent: B010200\n",
      "siblings: \n",
      "Number of other domains: 701\n",
      "B010299 Others 701\n",
      "\n",
      "set parent domain for B010300, length 11270\n",
      "B010300 has except keywords ['gia_sư', 'phổ_thông', 'thpt']\n",
      "Done filtering for B010300, domains found: 884\n",
      "B010300 Secondary school 884\n",
      "\n",
      "B010399 is Other!\n",
      "Parent: B010300\n",
      "siblings: \n",
      "Number of other domains: 884\n",
      "B010399 Others 884\n",
      "\n",
      "set parent domain for B010400, length 11270\n",
      "B010400 has except keywords ['gia_sư', 'thcs']\n",
      "Done filtering for B010400, domains found: 725\n",
      "B010400 High school 725\n",
      "\n",
      "B010499 is Other!\n",
      "Parent: B010400\n",
      "siblings: \n",
      "Number of other domains: 725\n",
      "B010499 Others 725\n",
      "\n",
      "set parent domain for B010500, length 11270\n",
      "B010500 has except keywords ['ôn_thi']\n",
      "Done filtering for B010500, domains found: 1702\n",
      "B010500 Higher education 1702\n",
      "\n",
      "B010599 is Other!\n",
      "Parent: B010500\n",
      "siblings: \n",
      "Number of other domains: 1702\n",
      "B010599 Others 1702\n",
      "\n",
      "B019900 is Other!\n",
      "Parent: B010000\n",
      "siblings: B010100|B010200|B010300|B010400|B010500\n",
      "Number of other domains: 6649\n",
      "B019900 Others 6649\n",
      "\n",
      "B019999 is Other!\n",
      "Parent: B019900\n",
      "siblings: \n",
      "Number of other domains: 6649\n",
      "B019999 Others 6649\n",
      "\n",
      "set parent domain for B020000, length 14452\n",
      "Done filtering for B020000, domains found: 55\n",
      "B020000 Exam preparation 55\n",
      "\n",
      "B029900 is Other!\n",
      "Parent: B020000\n",
      "siblings: \n",
      "Number of other domains: 55\n",
      "B029900 Others 55\n",
      "\n",
      "B029999 is Other!\n",
      "Parent: B029900\n",
      "siblings: \n",
      "Number of other domains: 55\n",
      "B029999 Others 55\n",
      "\n",
      "set parent domain for B030000, length 14452\n",
      "Done filtering for B030000, domains found: 622\n",
      "B030000 Language learning 622\n",
      "\n",
      "B039900 is Other!\n",
      "Parent: B030000\n",
      "siblings: \n",
      "Number of other domains: 622\n",
      "B039900 Others 622\n",
      "\n",
      "B039999 is Other!\n",
      "Parent: B039900\n",
      "siblings:"
     ]
    },
    {
     "name": "stderr",
     "output_type": "stream",
     "text": [
      "/home/polynote/.local/lib/python3.6/site-packages/ipykernel_launcher.py:23: DeprecationWarning: The default dtype for empty Series will be 'object' instead of 'float64' in a future version. Specify a dtype explicitly to silence this warning.\n",
      "/home/polynote/.local/lib/python3.6/site-packages/ipykernel_launcher.py:23: DeprecationWarning: The default dtype for empty Series will be 'object' instead of 'float64' in a future version. Specify a dtype explicitly to silence this warning.\n",
      "/home/polynote/.local/lib/python3.6/site-packages/ipykernel_launcher.py:23: DeprecationWarning: The default dtype for empty Series will be 'object' instead of 'float64' in a future version. Specify a dtype explicitly to silence this warning.\n",
      "/home/polynote/.local/lib/python3.6/site-packages/ipykernel_launcher.py:23: DeprecationWarning: The default dtype for empty Series will be 'object' instead of 'float64' in a future version. Specify a dtype explicitly to silence this warning.\n",
      "/home/polynote/.local/lib/python3.6/site-packages/ipykernel_launcher.py:23: DeprecationWarning: The default dtype for empty Series will be 'object' instead of 'float64' in a future version. Specify a dtype explicitly to silence this warning.\n",
      "/home/polynote/.local/lib/python3.6/site-packages/ipykernel_launcher.py:23: DeprecationWarning: The default dtype for empty Series will be 'object' instead of 'float64' in a future version. Specify a dtype explicitly to silence this warning.\n",
      "/home/polynote/.local/lib/python3.6/site-packages/ipykernel_launcher.py:23: DeprecationWarning: The default dtype for empty Series will be 'object' instead of 'float64' in a future version. Specify a dtype explicitly to silence this warning.\n"
     ]
    },
    {
     "name": "stdout",
     "output_type": "stream",
     "text": [
      " \n",
      "Number of other domains: 622\n",
      "B039999 Others 622\n",
      "\n",
      "set parent domain for B040000, length 14452\n",
      "Done filtering for B040000, domains found: 160\n",
      "B040000 Tutoring 160\n",
      "\n",
      "B049900 is Other!\n",
      "Parent: B040000\n",
      "siblings: \n",
      "Number of other domains: 160\n",
      "B049900 Others 160\n",
      "\n",
      "B049999 is Other!\n",
      "Parent: B049900\n",
      "siblings: \n",
      "Number of other domains: 160\n",
      "B049999 Others 160\n",
      "\n",
      "set parent domain for B050000, length 14452\n",
      "Done filtering for B050000, domains found: 625\n",
      "B050000 Study abroad 625\n",
      "\n",
      "B059900 is Other!\n",
      "Parent: B050000\n",
      "siblings: \n",
      "Number of other domains: 625\n",
      "B059900 Others 625\n",
      "\n",
      "B059999 is Other!\n",
      "Parent: B059900\n",
      "siblings: \n",
      "Number of other domains: 625\n",
      "B059999 Others 625\n",
      "\n",
      "set parent domain for B060000, length 14452\n",
      "Done filtering for B060000, domains found: 756\n",
      "B060000 Driving lisence 756\n",
      "\n",
      "B069900 is Other!\n",
      "Parent: B060000\n",
      "siblings: \n",
      "Number of other domains: 756\n",
      "B069900 Others 756\n",
      "\n",
      "B069999 is Other!\n",
      "Parent: B069900\n",
      "siblings: \n",
      "Number of other domains: 756\n",
      "B069999 Others 756\n",
      "\n",
      "B990000 is Other!\n",
      "Parent: B000000\n",
      "siblings: B010000|B020000|B030000|B040000|B050000|B060000\n",
      "Number of other domains: 1534\n",
      "B990000 Others 1534\n",
      "\n",
      "B999900 is Other!\n",
      "Parent: B990000\n",
      "siblings: \n",
      "Number of other domains: 1534\n",
      "B999900 Others 1534\n",
      "\n",
      "B999999 is Other!\n",
      "Parent: B999900\n",
      "siblings: \n",
      "Number of other domains: 1534\n",
      "B999999 Others 1534\n",
      "\n",
      "set parent domain for C000000, length 407720\n",
      "C000000 has except keywords ['biển_hiệu', 'quảng_cáo', 'in_ấn', 'web', 'website', 'tiếp_thị', 'truyền_thông', 'seo', 'branding', 'content', 'truyền_thông', 'băng_rôn', 'tối_ưu', 'in_ấn', 'băng_rôn', 'neonsign', 'standee', 'phướn', 'tờ_rơi', 'biển_hiệu', 'bảng_hiệu', 'copywriter', 'contentmarketing', 'marketingbureau', 'maketing', 'webmarketing', 'leadgeneratie', 'emarketing', 'copywriting', 'ppc', 'marketer', 'wordofmouth', 'adwords', 'makerting', 'ads', 'tiếp_thị', 'marketting', 'advertising', 'seo', 'branding', 'phần_mềm', 'cầm_đồ', 'cầm_cố']\n"
     ]
    },
    {
     "name": "stderr",
     "output_type": "stream",
     "text": [
      "/home/polynote/.local/lib/python3.6/site-packages/ipykernel_launcher.py:23: DeprecationWarning: The default dtype for empty Series will be 'object' instead of 'float64' in a future version. Specify a dtype explicitly to silence this warning.\n",
      "/home/polynote/.local/lib/python3.6/site-packages/ipykernel_launcher.py:23: DeprecationWarning: The default dtype for empty Series will be 'object' instead of 'float64' in a future version. Specify a dtype explicitly to silence this warning.\n",
      "/home/polynote/.local/lib/python3.6/site-packages/ipykernel_launcher.py:23: DeprecationWarning: The default dtype for empty Series will be 'object' instead of 'float64' in a future version. Specify a dtype explicitly to silence this warning.\n"
     ]
    },
    {
     "name": "stdout",
     "output_type": "stream",
     "text": [
      "Done filtering for C000000, domains found: 3097\n",
      "C000000 Employment 3097\n",
      "\n",
      "set parent domain for C010000, length 3097\n",
      "Done filtering for C010000, domains found: 3097\n",
      "C010000 Recruitment 3097\n",
      "\n",
      "C019900 is Other!\n",
      "Parent: C010000\n",
      "siblings: \n",
      "Number of other domains: 3097\n",
      "C019900 Others 3097\n",
      "\n",
      "C019999 is Other!\n",
      "Parent: C019900\n",
      "siblings: \n",
      "Number of other domains: 3097\n",
      "C019999 Others 3097\n",
      "\n",
      "set parent domain for C020000, length 3097\n",
      "Done filtering for C020000, domains found: 0\n",
      "C020000 Working abroad 0\n",
      "\n",
      "C029900 is Other!\n",
      "Parent: C020000\n",
      "siblings: \n",
      "Number of other domains: 0\n",
      "C029900 Others 0\n",
      "\n",
      "C029999 is Other!\n",
      "Parent: C029900\n",
      "siblings: \n",
      "Number of other domains: 0\n",
      "C029999 Others 0\n",
      "\n",
      "C990000 is Other!\n",
      "Parent: C000000\n",
      "siblings: C010000|C020000\n",
      "Number of other domains: 0\n",
      "C990000 Others 0\n",
      "\n",
      "C999900 is Other!\n",
      "Parent: C990000\n",
      "siblings: \n",
      "Number of other domains: 0\n",
      "C999900 Others 0\n",
      "\n",
      "C999999 is Other!\n",
      "Parent: C999900\n",
      "siblings: \n",
      "Number of other domains: 0\n",
      "C999999 Others 0\n",
      "\n",
      "set parent domain for D000000, length 407720\n"
     ]
    },
    {
     "name": "stderr",
     "output_type": "stream",
     "text": [
      "/home/polynote/.local/lib/python3.6/site-packages/ipykernel_launcher.py:23: DeprecationWarning: The default dtype for empty Series will be 'object' instead of 'float64' in a future version. Specify a dtype explicitly to silence this warning.\n",
      "/home/polynote/.local/lib/python3.6/site-packages/ipykernel_launcher.py:23: DeprecationWarning: The default dtype for empty Series will be 'object' instead of 'float64' in a future version. Specify a dtype explicitly to silence this warning.\n"
     ]
    },
    {
     "name": "stdout",
     "output_type": "stream",
     "text": [
      "Done filtering for D000000, domains found: 54044\n",
      "D000000 Entertainment 54044\n",
      "\n",
      "set parent domain for D010000, length 54044\n",
      "D010000 has except keywords ['vé_xe', 'xe_khách']\n",
      "Done filtering for D010000, domains found: 11254\n",
      "D010000 Games & Gambling 11254\n",
      "\n",
      "set parent domain for D010100, length 11254\n",
      "Done filtering for D010100, domains found: 50\n",
      "D010100 Chess 50\n",
      "\n",
      "D010199 is Other!\n",
      "Parent: D010100\n",
      "siblings: \n",
      "Number of other domains: 50\n",
      "D010199 Others 50\n",
      "\n",
      "set parent domain for D010200, length 11254\n",
      "Done filtering for D010200, domains found: 1649\n",
      "D010200 Gambling 1649\n",
      "\n",
      "D010299 is Other!\n",
      "Parent: D010200\n",
      "siblings: \n",
      "Number of other domains: 1649\n",
      "D010299 Others 1649\n",
      "\n",
      "set parent domain for D010300, length 11254\n",
      "Done filtering for D010300, domains found: 858\n",
      "D010300 Lottery 858\n",
      "\n",
      "D010399 is Other!\n",
      "Parent: D010300\n",
      "siblings: \n",
      "Number of other domains: 858\n",
      "D010399 Others 858\n",
      "\n",
      "set parent domain for D010400, length 11254\n",
      "Done filtering for D010400, domains found: 9399\n",
      "D010400 Video game 9399\n",
      "\n",
      "D010499 is Other!\n",
      "Parent: D010400\n",
      "siblings: \n",
      "Number of other domains: 9399\n",
      "D010499 Others 9399\n",
      "\n",
      "D010500 is Other!\n",
      "Parent: D010000\n",
      "siblings: D010100|D010200|D010300|D010400|D010500\n",
      "Number of other domains: 39\n",
      "D010500 Others 39\n",
      "\n",
      "D010599 is Other!\n",
      "Parent: D010500\n",
      "siblings: \n",
      "Number of other domains: 39\n",
      "D010599 Others 39\n",
      "\n",
      "set parent domain for D020000, length 54044\n",
      "Done filtering for D020000, domains found: 650\n",
      "D020000 Horoscope 650\n",
      "\n",
      "D029900 is Other!\n",
      "Parent: D020000\n",
      "siblings: \n",
      "Number of other domains: 650\n",
      "D029900 Others 650\n",
      "\n",
      "D029999 is Other!\n",
      "Parent: D029900\n",
      "siblings: \n",
      "Number of other domains: 650\n",
      "D029999 Others 650\n",
      "\n",
      "set parent domain for D030000, length 54044\n"
     ]
    },
    {
     "name": "stderr",
     "output_type": "stream",
     "text": [
      "/home/polynote/.local/lib/python3.6/site-packages/ipykernel_launcher.py:23: DeprecationWarning: The default dtype for empty Series will be 'object' instead of 'float64' in a future version. Specify a dtype explicitly to silence this warning.\n",
      "/home/polynote/.local/lib/python3.6/site-packages/ipykernel_launcher.py:23: DeprecationWarning: The default dtype for empty Series will be 'object' instead of 'float64' in a future version. Specify a dtype explicitly to silence this warning.\n",
      "/home/polynote/.local/lib/python3.6/site-packages/ipykernel_launcher.py:23: DeprecationWarning: The default dtype for empty Series will be 'object' instead of 'float64' in a future version. Specify a dtype explicitly to silence this warning.\n",
      "/home/polynote/.local/lib/python3.6/site-packages/ipykernel_launcher.py:23: DeprecationWarning: The default dtype for empty Series will be 'object' instead of 'float64' in a future version. Specify a dtype explicitly to silence this warning.\n",
      "/home/polynote/.local/lib/python3.6/site-packages/ipykernel_launcher.py:23: DeprecationWarning: The default dtype for empty Series will be 'object' instead of 'float64' in a future version. Specify a dtype explicitly to silence this warning.\n",
      "/home/polynote/.local/lib/python3.6/site-packages/ipykernel_launcher.py:23: DeprecationWarning: The default dtype for empty Series will be 'object' instead of 'float64' in a future version. Specify a dtype explicitly to silence this warning.\n",
      "/home/polynote/.local/lib/python3.6/site-packages/ipykernel_launcher.py:23: DeprecationWarning: The default dtype for empty Series will be 'object' instead of 'float64' in a future version. Specify a dtype explicitly to silence this warning.\n"
     ]
    },
    {
     "name": "stdout",
     "output_type": "stream",
     "text": [
      "Done filtering for D030000, domains found: 18320\n",
      "D030000 Movies 18320\n",
      "\n",
      "set parent domain for D030100, length 18320\n",
      "Done filtering for D030100, domains found: 7966\n",
      "D030100 Adult movies 7966\n",
      "\n",
      "D030199 is Other!\n",
      "Parent: D030100\n",
      "siblings: \n",
      "Number of other domains: 7966\n",
      "D030199 Others 7966\n",
      "\n",
      "set parent domain for D030200, length 18320\n",
      "Done filtering for D030200, domains found: 250\n",
      "D030200 General movies 250\n",
      "\n",
      "D030299 is Other!\n",
      "Parent: D030200\n",
      "siblings: \n",
      "Number of other domains: 250\n",
      "D030299 Others 250\n",
      "\n",
      "set parent domain for D040000, length 54044\n",
      "Done filtering for D040000, domains found: 333\n",
      "D040000 Music 333\n",
      "\n",
      "D049900 is Other!\n",
      "Parent: D040000\n",
      "siblings: \n",
      "Number of other domains: 333\n",
      "D049900 Others 333\n",
      "\n",
      "D049999 is Other!\n",
      "Parent: D049900\n",
      "siblings: \n",
      "Number of other domains: 333\n",
      "D049999 Others 333\n",
      "\n",
      "set parent domain for D050000, length 54044\n",
      "Done filtering for D050000, domains found: 12386\n",
      "D050000 News & Newspaper 12386\n",
      "\n",
      "set parent domain for D050100, length 12386\n",
      "Done filtering for D050100, domains found: 228\n",
      "D050100 General news 228\n",
      "\n",
      "D050199 is Other!\n",
      "Parent: D050100\n",
      "siblings: \n",
      "Number of other domains: 228\n",
      "D050199 Others 228\n",
      "\n",
      "set parent domain for D050200, length 12386\n",
      "Done filtering for D050200, domains found: 265\n",
      "D050200 Finance 265\n",
      "\n",
      "D050299 is Other!\n",
      "Parent: D050200\n",
      "siblings: \n",
      "Number of other domains: 265\n",
      "D050299 Others 265\n",
      "\n",
      "set parent domain for D050300, length 12386\n",
      "Done filtering for D050300, domains found: 53\n",
      "D050300 General politics 53\n",
      "\n",
      "D050399 is Other!\n",
      "Parent: D050300\n",
      "siblings: \n",
      "Number of other domains: 53\n",
      "D050399 Others 53\n",
      "\n",
      "set parent domain for D050400, length 12386\n",
      "Done filtering for D050400, domains found: 0\n",
      "D050400 Political criticism 0\n",
      "\n",
      "D050499 is Other!\n",
      "Parent: D050400\n",
      "siblings: \n",
      "Number of other domains: 0\n",
      "D050499 Others 0\n",
      "\n",
      "set parent domain for D050500, length 12386\n",
      "Done filtering for D050500, domains found: 141\n",
      "D050500 Showbiz 141\n",
      "\n",
      "D050599 is Other!\n",
      "Parent: D050500\n",
      "siblings: \n",
      "Number of other domains: 141\n",
      "D050599 Others 141\n",
      "\n",
      "D059900 is Other!\n",
      "Parent: D050000\n",
      "siblings: D050100|D050200|D050300|D050400|D050500\n",
      "Number of other domains: 11737\n",
      "D059900 Others 11737\n",
      "\n",
      "D059999 is Other!\n",
      "Parent: D059900\n",
      "siblings: \n",
      "Number of other domains: 11737\n",
      "D059999 Others 11737\n",
      "\n",
      "set parent domain for D060000, length 54044\n",
      "Done filtering for D060000, domains found: 16817\n",
      "D060000 Reading 16817\n",
      "\n",
      "set parent domain for D060100, length 16817\n"
     ]
    },
    {
     "name": "stderr",
     "output_type": "stream",
     "text": [
      "/home/polynote/.local/lib/python3.6/site-packages/ipykernel_launcher.py:23: DeprecationWarning: The default dtype for empty Series will be 'object' instead of 'float64' in a future version. Specify a dtype explicitly to silence this warning.\n",
      "/home/polynote/.local/lib/python3.6/site-packages/ipykernel_launcher.py:23: DeprecationWarning: The default dtype for empty Series will be 'object' instead of 'float64' in a future version. Specify a dtype explicitly to silence this warning.\n",
      "/home/polynote/.local/lib/python3.6/site-packages/ipykernel_launcher.py:23: DeprecationWarning: The default dtype for empty Series will be 'object' instead of 'float64' in a future version. Specify a dtype explicitly to silence this warning.\n",
      "/home/polynote/.local/lib/python3.6/site-packages/ipykernel_launcher.py:23: DeprecationWarning: The default dtype for empty Series will be 'object' instead of 'float64' in a future version. Specify a dtype explicitly to silence this warning.\n",
      "/home/polynote/.local/lib/python3.6/site-packages/ipykernel_launcher.py:23: DeprecationWarning: The default dtype for empty Series will be 'object' instead of 'float64' in a future version. Specify a dtype explicitly to silence this warning.\n",
      "/home/polynote/.local/lib/python3.6/site-packages/ipykernel_launcher.py:23: DeprecationWarning: The default dtype for empty Series will be 'object' instead of 'float64' in a future version. Specify a dtype explicitly to silence this warning.\n",
      "/home/polynote/.local/lib/python3.6/site-packages/ipykernel_launcher.py:23: DeprecationWarning: The default dtype for empty Series will be 'object' instead of 'float64' in a future version. Specify a dtype explicitly to silence this warning.\n"
     ]
    },
    {
     "name": "stdout",
     "output_type": "stream",
     "text": [
      "Done filtering for D060100, domains found: 1072\n",
      "D060100 Comics 1072\n",
      "\n",
      "set parent domain for D060101, length 1072\n",
      "Done filtering for D060101, domains found: 562\n",
      "D060101 Hentai & manga 562\n",
      "\n",
      "D060103 is Other!\n",
      "Parent: D060100\n",
      "siblings: D060101|D060103\n",
      "Number of other domains: 510\n",
      "D060103 General comics 510\n",
      "\n",
      "set parent domain for D060200, length 16817\n",
      "Done filtering for D060200, domains found: 465\n",
      "D060200 Books-Ebooks 465\n",
      "\n",
      "D060299 is Other!\n",
      "Parent: D060200\n",
      "siblings: \n",
      "Number of other domains: 465\n",
      "D060299 Others 465\n",
      "\n",
      "set parent domain for D060400, length 16817\n",
      "Done filtering for D060400, domains found: 14742\n",
      "D060400 Magazine - forum - site - blog 14742\n",
      "\n",
      "set parent domain for D060401, length 14742\n",
      "Done filtering for D060401, domains found: 133\n",
      "D060401 Love, family magazine - forum 133\n",
      "\n",
      "set parent domain for D060402, length 14742\n",
      "Done filtering for D060402, domains found: 128\n",
      "D060402 Auto magazine - forum 128\n",
      "\n",
      "set parent domain for D060403, length 14742\n",
      "Done filtering for D060403, domains found: 416\n",
      "D060403 Tech magazine - forum 416\n",
      "\n",
      "set parent domain for D060404, length 14742\n",
      "Done filtering for D060404, domains found: 338\n",
      "D060404 Health magazine - site 338\n",
      "\n",
      "set parent domain for D060405, length 14742\n",
      "Done filtering for D060405, domains found: 62\n",
      "D060405 Law magazine 62\n",
      "\n",
      "set parent domain for D060406, length 14742\n",
      "Done filtering for D060406, domains found: 936\n",
      "D060406 Traveling 936\n",
      "\n",
      "D060499 is Other!\n",
      "Parent: D060400\n",
      "siblings: D060401|D060402|D060403|D060404|D060405|D060406\n",
      "Number of other domains: 12804\n",
      "D060499 Others 12804\n",
      "\n",
      "D069900 is Other!\n",
      "Parent: D060000\n",
      "siblings: D060100|D060200|D060400\n",
      "Number of other domains: 629\n",
      "D069900 Others 629\n",
      "\n",
      "D069999 is Other!\n",
      "Parent: D069900\n",
      "siblings: \n",
      "Number of other domains: 629\n",
      "D069999 Others 629\n",
      "\n",
      "D990000 is Other!\n",
      "Parent: D000000\n",
      "siblings: D010000|D020000|D030000|D040000|D050000|D060000\n",
      "Number of other domains: 217\n",
      "D990000 Others 217\n",
      "\n",
      "D999900 is Other!\n",
      "Parent: D990000\n",
      "siblings: \n"
     ]
    },
    {
     "name": "stderr",
     "output_type": "stream",
     "text": [
      "/home/polynote/.local/lib/python3.6/site-packages/ipykernel_launcher.py:23: DeprecationWarning: The default dtype for empty Series will be 'object' instead of 'float64' in a future version. Specify a dtype explicitly to silence this warning.\n"
     ]
    },
    {
     "name": "stdout",
     "output_type": "stream",
     "text": [
      "Number of other domains: 217\n",
      "D999900 Others 217\n",
      "\n",
      "D999999 is Other!\n",
      "Parent: D999900\n",
      "siblings: \n",
      "Number of other domains: 217\n",
      "D999999 Others 217\n",
      "\n",
      "set parent domain for E000000, length 407720\n",
      "E000000 has except keywords ['in_ấn', 'bao_bì', 'du_lịch', 'thảo_dược', 'phần_mềm', 'game', 'quảng_cáo']\n",
      "Done filtering for E000000, domains found: 407720\n",
      "E000000 Foods & Drinks 407720\n",
      "\n",
      "set parent domain for E010000, length 407720\n",
      "E010000 has except keywords ['bã', 'hèm', 'du_lịch', 'cá_bột', 'in_ấn', 'bao_bì', 'du_lịch', 'thảo_dược', 'phần_mềm', 'game', 'quảng_cáo']\n",
      "Done filtering for E010000, domains found: 1005\n",
      "E010000 Alcoholic beverages 1005\n",
      "\n",
      "E019900 is Other!\n",
      "Parent: E010000\n",
      "siblings: \n",
      "Number of other domains: 1005\n",
      "E019900 Others 1005\n",
      "\n",
      "E019999 is Other!\n",
      "Parent: E019900\n",
      "siblings: \n",
      "Number of other domains: 1005\n",
      "E019999 Others 1005\n",
      "\n",
      "set parent domain for E020000, length 407720\n",
      "Done filtering for E020000, domains found: 772\n",
      "E020000 Non-alcoholics beverages 772\n",
      "\n",
      "set parent domain for E020100, length 772\n",
      "Done filtering for E020100, domains found: 699\n",
      "E020100 Coffee 699\n",
      "\n",
      "E020199 is Other!\n",
      "Parent: E020100\n",
      "siblings: \n",
      "Number of other domains: 699\n",
      "E020199 Others 699\n",
      "\n",
      "set parent domain for E020200, length 772\n",
      "Done filtering for E020200, domains found: 99\n",
      "E020200 Tea 99\n",
      "\n",
      "E020299 is Other!\n",
      "Parent: E020200\n",
      "siblings: \n",
      "Number of other domains: 99\n",
      "E020299 Others 99\n",
      "\n",
      "E029900 is Other!\n",
      "Parent: E020000\n",
      "siblings: E020100|E020200\n",
      "Number of other domains: 2\n",
      "E029900 Others 2\n",
      "\n",
      "E029999 is Other!\n",
      "Parent: E029900\n",
      "siblings: \n",
      "Number of other domains: 2\n",
      "E029999 Others 2\n",
      "\n",
      "set parent domain for E030000, length 407720\n"
     ]
    },
    {
     "name": "stderr",
     "output_type": "stream",
     "text": [
      "/home/polynote/.local/lib/python3.6/site-packages/ipykernel_launcher.py:23: DeprecationWarning: The default dtype for empty Series will be 'object' instead of 'float64' in a future version. Specify a dtype explicitly to silence this warning.\n",
      "/home/polynote/.local/lib/python3.6/site-packages/ipykernel_launcher.py:23: DeprecationWarning: The default dtype for empty Series will be 'object' instead of 'float64' in a future version. Specify a dtype explicitly to silence this warning.\n",
      "/home/polynote/.local/lib/python3.6/site-packages/ipykernel_launcher.py:23: DeprecationWarning: The default dtype for empty Series will be 'object' instead of 'float64' in a future version. Specify a dtype explicitly to silence this warning.\n"
     ]
    },
    {
     "name": "stdout",
     "output_type": "stream",
     "text": [
      "Done filtering for E030000, domains found: 922\n",
      "E030000 Cooking & cuisine 922\n",
      "\n",
      "E039900 is Other!\n",
      "Parent: E030000\n",
      "siblings: \n",
      "Number of other domains: 922\n",
      "E039900 Others 922\n",
      "\n",
      "E039999 is Other!\n",
      "Parent: E039900\n",
      "siblings: \n",
      "Number of other domains: 922\n",
      "E039999 Others 922\n",
      "\n",
      "set parent domain for E050000, length 407720\n",
      "E050000 has except keywords ['ttrùn', 'thuốc', 'bệnh', 'thú_y', 'đông_y', 'in_ấn', 'bao_bì', 'du_lịch', 'thảo_dược', 'phần_mềm', 'game', 'quảng_cáo']\n"
     ]
    },
    {
     "name": "stderr",
     "output_type": "stream",
     "text": [
      "/home/polynote/.local/lib/python3.6/site-packages/ipykernel_launcher.py:23: DeprecationWarning: The default dtype for empty Series will be 'object' instead of 'float64' in a future version. Specify a dtype explicitly to silence this warning.\n"
     ]
    },
    {
     "name": "stdout",
     "output_type": "stream",
     "text": [
      "Done filtering for E050000, domains found: 1615\n",
      "E050000 Foods 1615\n",
      "\n",
      "set parent domain for E050100, length 1615\n",
      "Done filtering for E050100, domains found: 1134\n",
      "E050100 Raw food 1134\n",
      "\n",
      "E050199 is Other!\n",
      "Parent: E050100\n",
      "siblings: \n",
      "Number of other domains: 1134\n",
      "E050199 Others 1134\n",
      "\n",
      "set parent domain for E050200, length 1615\n",
      "Done filtering for E050200, domains found: 317\n",
      "E050200 Seafood 317\n",
      "\n",
      "E050299 is Other!\n",
      "Parent: E050200\n",
      "siblings: \n",
      "Number of other domains: 317\n",
      "E050299 Others 317\n",
      "\n",
      "set parent domain for E050400, length 1615\n",
      "Done filtering for E050400, domains found: 99\n",
      "E050400 Cake 99\n",
      "\n",
      "E050499 is Other!\n",
      "Parent: E050400\n",
      "siblings: \n",
      "Number of other domains: 99\n",
      "E050499 Others 99\n",
      "\n",
      "set parent domain for E050500, length 1615\n",
      "Done filtering for E050500, domains found: 104\n",
      "E050500 Fast food 104\n",
      "\n",
      "E050599 is Other!\n",
      "Parent: E050500\n",
      "siblings: \n",
      "Number of other domains: 104\n",
      "E050599 Others 104\n",
      "\n",
      "E059900 is Other!\n",
      "Parent: E050000\n",
      "siblings: E050100|E050200|E050400|E050500\n",
      "Number of other domains: 65\n",
      "E059900 Others 65\n",
      "\n",
      "E059999 is Other!\n",
      "Parent: E059900\n",
      "siblings: \n",
      "Number of other domains: 65\n",
      "E059999 Others 65\n",
      "\n",
      "set parent domain for E060000, length 407720\n",
      "E060000 has except keywords ['in_ấn', 'bao_bì', 'du_lịch', 'thảo_dược', 'phần_mềm', 'game', 'quảng_cáo']\n"
     ]
    },
    {
     "name": "stderr",
     "output_type": "stream",
     "text": [
      "/home/polynote/.local/lib/python3.6/site-packages/ipykernel_launcher.py:23: DeprecationWarning: The default dtype for empty Series will be 'object' instead of 'float64' in a future version. Specify a dtype explicitly to silence this warning.\n",
      "/home/polynote/.local/lib/python3.6/site-packages/ipykernel_launcher.py:23: DeprecationWarning: The default dtype for empty Series will be 'object' instead of 'float64' in a future version. Specify a dtype explicitly to silence this warning.\n",
      "/home/polynote/.local/lib/python3.6/site-packages/ipykernel_launcher.py:23: DeprecationWarning: The default dtype for empty Series will be 'object' instead of 'float64' in a future version. Specify a dtype explicitly to silence this warning.\n",
      "/home/polynote/.local/lib/python3.6/site-packages/ipykernel_launcher.py:23: DeprecationWarning: The default dtype for empty Series will be 'object' instead of 'float64' in a future version. Specify a dtype explicitly to silence this warning.\n"
     ]
    },
    {
     "name": "stdout",
     "output_type": "stream",
     "text": [
      "Done filtering for E060000, domains found: 1001\n",
      "E060000 Restaurants 1001\n",
      "\n",
      "set parent domain for E060100, length 1001\n",
      "Done filtering for E060100, domains found: 51\n",
      "E060100 Restaurant equipments 51\n",
      "\n",
      "E060199 is Other!\n",
      "Parent: E060100\n",
      "siblings: \n",
      "Number of other domains: 51\n",
      "E060199 Others 51\n",
      "\n",
      "E069900 is Other!\n",
      "Parent: E060000\n",
      "siblings: E060100\n",
      "Number of other domains: 950\n",
      "E069900 Restaurants 950\n",
      "\n",
      "E069999 is Other!\n",
      "Parent: E069900\n",
      "siblings: \n",
      "Number of other domains: 950\n",
      "E069999 Others 950\n",
      "\n",
      "E990000 is Other!\n",
      "Parent: E000000\n",
      "siblings: E010000|E020000|E030000|E050000|E060000\n"
     ]
    },
    {
     "name": "stderr",
     "output_type": "stream",
     "text": [
      "/home/polynote/.local/lib/python3.6/site-packages/ipykernel_launcher.py:23: DeprecationWarning: The default dtype for empty Series will be 'object' instead of 'float64' in a future version. Specify a dtype explicitly to silence this warning.\n"
     ]
    },
    {
     "name": "stdout",
     "output_type": "stream",
     "text": [
      "Number of other domains: 402619\n",
      "E990000 Others 402619\n",
      "\n",
      "E999900 is Other!\n",
      "Parent: E990000\n",
      "siblings: \n",
      "Number of other domains: 402619\n",
      "E999900 Others 402619\n",
      "\n",
      "E999999 is Other!\n",
      "Parent: E999900\n",
      "siblings: \n",
      "Number of other domains: 402619\n",
      "E999999 Others 402619\n",
      "\n",
      "set parent domain for F000000, length 407720\n",
      "Done filtering for F000000, domains found: 407720\n",
      "F000000 Hobbies & Activities 407720\n",
      "\n",
      "set parent domain for F010000, length 407720\n",
      "F010000 has except keywords ['biển_hiệu', 'quảng_cáo', 'in_ấn', 'web', 'website', 'tiếp_thị', 'truyền_thông', 'seo', 'branding', 'content', 'truyền_thông', 'băng_rôn', 'tối_ưu', 'in_ấn', 'băng_rôn', 'neonsign', 'standee', 'phướn', 'tờ_rơi', 'biển_hiệu', 'bảng_hiệu', 'copywriter', 'contentmarketing', 'marketingbureau', 'maketing', 'webmarketing', 'leadgeneratie', 'emarketing', 'copywriting', 'ppc', 'marketer', 'wordofmouth', 'adwords', 'makerting', 'ads', 'tiếp_thị', 'marketting', 'advertising', 'seo', 'branding', 'cầm_đồ', 'cầm_cố']\n",
      "Done filtering for F010000, domains found: 828\n",
      "F010000 Arts & Music 828\n",
      "\n",
      "F019900 is Other!\n",
      "Parent: F010000\n",
      "siblings: \n",
      "Number of other domains: 828\n",
      "F019900 Others 828\n",
      "\n",
      "F019999 is Other!\n",
      "Parent: F019900\n",
      "siblings: \n",
      "Number of other domains: 828\n",
      "F019999 Others 828\n",
      "\n",
      "set parent domain for F020000, length 407720\n",
      "F020000 has except keywords ['zalo', 'du_học', 'streamer', 'xã_hội', 'xxx', 'porn', 'video', 'sex']\n"
     ]
    },
    {
     "name": "stderr",
     "output_type": "stream",
     "text": [
      "/home/polynote/.local/lib/python3.6/site-packages/ipykernel_launcher.py:23: DeprecationWarning: The default dtype for empty Series will be 'object' instead of 'float64' in a future version. Specify a dtype explicitly to silence this warning.\n"
     ]
    },
    {
     "name": "stdout",
     "output_type": "stream",
     "text": [
      "Done filtering for F020000, domains found: 296\n",
      "F020000 Dating 296\n",
      "\n",
      "F029900 is Other!\n",
      "Parent: F020000\n",
      "siblings: \n",
      "Number of other domains: 296\n",
      "F029900 Others 296\n",
      "\n",
      "F029999 is Other!\n",
      "Parent: F029900\n",
      "siblings: \n",
      "Number of other domains: 296\n",
      "F029999 Others 296\n",
      "\n",
      "set parent domain for F030000, length 407720\n",
      "Done filtering for F030000, domains found: 797\n",
      "F030000 Fitness 797\n",
      "\n",
      "F039900 is Other!\n",
      "Parent: F030000\n",
      "siblings: \n",
      "Number of other domains: 797\n",
      "F039900 Others 797\n",
      "\n",
      "F039999 is Other!\n",
      "Parent: F039900\n",
      "siblings: \n",
      "Number of other domains: 797\n",
      "F039999 Others 797\n",
      "\n",
      "set parent domain for F040000, length 407720\n",
      "Done filtering for F040000, domains found: 636\n",
      "F040000 Pets 636\n",
      "\n",
      "set parent domain for F040100, length 636\n",
      "Done filtering for F040100, domains found: 344\n",
      "F040100 Dogs & cats 344\n",
      "\n",
      "F040199 is Other!\n",
      "Parent: F040100\n",
      "siblings: \n",
      "Number of other domains: 344\n",
      "F040199 Others 344\n",
      "\n",
      "set parent domain for F040200, length 636\n"
     ]
    },
    {
     "name": "stderr",
     "output_type": "stream",
     "text": [
      "/home/polynote/.local/lib/python3.6/site-packages/ipykernel_launcher.py:23: DeprecationWarning: The default dtype for empty Series will be 'object' instead of 'float64' in a future version. Specify a dtype explicitly to silence this warning.\n",
      "/home/polynote/.local/lib/python3.6/site-packages/ipykernel_launcher.py:23: DeprecationWarning: The default dtype for empty Series will be 'object' instead of 'float64' in a future version. Specify a dtype explicitly to silence this warning.\n",
      "/home/polynote/.local/lib/python3.6/site-packages/ipykernel_launcher.py:23: DeprecationWarning: The default dtype for empty Series will be 'object' instead of 'float64' in a future version. Specify a dtype explicitly to silence this warning.\n"
     ]
    },
    {
     "name": "stdout",
     "output_type": "stream",
     "text": [
      "Done filtering for F040200, domains found: 269\n",
      "F040200 Pet food & accessory 269\n",
      "\n",
      "F040299 is Other!\n",
      "Parent: F040200\n",
      "siblings: \n",
      "Number of other domains: 269\n",
      "F040299 Others 269\n",
      "\n",
      "F049900 is Other!\n",
      "Parent: F040000\n",
      "siblings: F040100|F040200\n",
      "Number of other domains: 290\n",
      "F049900 Others 290\n",
      "\n",
      "F049999 is Other!\n",
      "Parent: F049900\n",
      "siblings: \n",
      "Number of other domains: 290\n",
      "F049999 Others 290\n",
      "\n",
      "set parent domain for F050000, length 407720\n",
      "Done filtering for F050000, domains found: 1282\n",
      "F050000 Sports 1282\n",
      "\n",
      "set parent domain for F050100, length 1282\n",
      "F050100 has except keywords ['bet', 'cá_độ', 'cá_cược', 'cược', 'kèo', 'tỷ_lệ']\n",
      "Done filtering for F050100, domains found: 254\n",
      "F050100 Football 254\n",
      "\n",
      "F050199 is Other!\n",
      "Parent: F050100\n",
      "siblings: \n",
      "Number of other domains: 254\n",
      "F050199 Others 254\n",
      "\n",
      "set parent domain for F050200, length 1282\n",
      "Done filtering for F050200, domains found: 8\n",
      "F050200 Maraton 8\n",
      "\n",
      "F050299 is Other!\n",
      "Parent: F050200\n",
      "siblings: \n",
      "Number of other domains: 8\n",
      "F050299 Others 8\n",
      "\n",
      "set parent domain for F050300, length 1282\n",
      "Done filtering for F050300, domains found: 138\n",
      "F050300 Tennis 138\n",
      "\n",
      "F050399 is Other!\n",
      "Parent: F050300\n",
      "siblings: \n",
      "Number of other domains: 138\n",
      "F050399 Others 138\n",
      "\n",
      "F059900 is Other!\n",
      "Parent: F050000\n",
      "siblings: F050100|F050200|F050300\n",
      "Number of other domains: 896\n",
      "F059900 Others 896\n",
      "\n",
      "F059999 is Other!\n",
      "Parent: F059900\n",
      "siblings: \n",
      "Number of other domains: 896\n",
      "F059999 Others 896\n",
      "\n",
      "set parent domain for F060000, length 407720\n",
      "F060000 has except keywords ['biển_hiệu', 'quảng_cáo', 'in_ấn', 'web', 'website', 'tiếp_thị', 'truyền_thông', 'seo', 'branding', 'content', 'truyền_thông', 'băng_rôn', 'tối_ưu', 'in_ấn', 'băng_rôn', 'neonsign', 'standee', 'phướn', 'tờ_rơi', 'biển_hiệu', 'bảng_hiệu', 'copywriter', 'contentmarketing', 'marketingbureau', 'maketing', 'webmarketing', 'leadgeneratie', 'emarketing', 'copywriting', 'ppc', 'marketer', 'wordofmouth', 'adwords', 'makerting', 'ads', 'tiếp_thị', 'marketting', 'advertising', 'seo', 'branding', 'cầm_đồ', 'cầm_cố']\n"
     ]
    },
    {
     "name": "stderr",
     "output_type": "stream",
     "text": [
      "/home/polynote/.local/lib/python3.6/site-packages/ipykernel_launcher.py:23: DeprecationWarning: The default dtype for empty Series will be 'object' instead of 'float64' in a future version. Specify a dtype explicitly to silence this warning.\n",
      "/home/polynote/.local/lib/python3.6/site-packages/ipykernel_launcher.py:23: DeprecationWarning: The default dtype for empty Series will be 'object' instead of 'float64' in a future version. Specify a dtype explicitly to silence this warning.\n",
      "/home/polynote/.local/lib/python3.6/site-packages/ipykernel_launcher.py:23: DeprecationWarning: The default dtype for empty Series will be 'object' instead of 'float64' in a future version. Specify a dtype explicitly to silence this warning.\n",
      "/home/polynote/.local/lib/python3.6/site-packages/ipykernel_launcher.py:23: DeprecationWarning: The default dtype for empty Series will be 'object' instead of 'float64' in a future version. Specify a dtype explicitly to silence this warning.\n"
     ]
    },
    {
     "name": "stdout",
     "output_type": "stream",
     "text": [
      "Done filtering for F060000, domains found: 1151\n",
      "F060000 Social networks-media 1151\n",
      "\n",
      "F069900 is Other!\n",
      "Parent: F060000\n",
      "siblings: \n",
      "Number of other domains: 1151\n",
      "F069900 Others 1151\n",
      "\n",
      "F069999 is Other!\n",
      "Parent: F069900\n",
      "siblings: \n",
      "Number of other domains: 1151\n",
      "F069999 Others 1151\n",
      "\n",
      "set parent domain for F070000, length 407720\n",
      "F070000 has except keywords ['xe', 'lốp', 'tin_tức', 'sinh_lý', 'game']\n"
     ]
    },
    {
     "name": "stderr",
     "output_type": "stream",
     "text": [
      "/home/polynote/.local/lib/python3.6/site-packages/ipykernel_launcher.py:23: DeprecationWarning: The default dtype for empty Series will be 'object' instead of 'float64' in a future version. Specify a dtype explicitly to silence this warning.\n"
     ]
    },
    {
     "name": "stdout",
     "output_type": "stream",
     "text": [
      "Done filtering for F070000, domains found: 3150\n",
      "F070000 Travel 3150\n",
      "\n",
      "F079900 is Other!\n",
      "Parent: F070000\n",
      "siblings: \n",
      "Number of other domains: 3150\n",
      "F079900 Others 3150\n",
      "\n",
      "F079999 is Other!\n",
      "Parent: F079900\n",
      "siblings: \n",
      "Number of other domains: 3150\n",
      "F079999 Others 3150\n",
      "\n",
      "F990000 is Other!\n",
      "Parent: F000000\n",
      "siblings: F010000|F020000|F030000|F040000|F050000|F060000|F070000\n",
      "Number of other domains: 399631\n",
      "F990000 Others 399631\n",
      "\n",
      "F999900 is Other!\n",
      "Parent: F990000\n",
      "siblings: \n",
      "Number of other domains: 399631\n",
      "F999900 Others 399631\n",
      "\n",
      "F999999 is Other!\n",
      "Parent: F999900\n",
      "siblings: \n"
     ]
    },
    {
     "name": "stderr",
     "output_type": "stream",
     "text": [
      "/home/polynote/.local/lib/python3.6/site-packages/ipykernel_launcher.py:23: DeprecationWarning: The default dtype for empty Series will be 'object' instead of 'float64' in a future version. Specify a dtype explicitly to silence this warning.\n"
     ]
    },
    {
     "name": "stdout",
     "output_type": "stream",
     "text": [
      "Number of other domains: 399631\n",
      "F999999 Others 399631\n",
      "\n",
      "set parent domain for G000000, length 407720\n",
      "G000000 has except keywords ['biển_hiệu', 'quảng_cáo', 'in_ấn', 'web', 'website', 'tiếp_thị', 'truyền_thông', 'seo', 'branding', 'content', 'truyền_thông', 'băng_rôn', 'tối_ưu', 'in_ấn', 'băng_rôn', 'neonsign', 'standee', 'phướn', 'tờ_rơi', 'biển_hiệu', 'bảng_hiệu', 'copywriter', 'contentmarketing', 'marketingbureau', 'maketing', 'webmarketing', 'leadgeneratie', 'emarketing', 'copywriting', 'ppc', 'marketer', 'wordofmouth', 'adwords', 'makerting', 'ads', 'tiếp_thị', 'marketting', 'advertising', 'seo', 'branding', 'cầm_đồ', 'cầm_cố']\n",
      "Done filtering for G000000, domains found: 12032\n",
      "G000000 Shopping  12032\n",
      "\n",
      "set parent domain for G010000, length 12032\n",
      "Done filtering for G010000, domains found: 417\n",
      "G010000 Beauty product 417\n",
      "\n",
      "set parent domain for G010100, length 417\n",
      "Done filtering for G010100, domains found: 347\n",
      "G010100 Cosmetics 347\n",
      "\n",
      "G010199 is Other!\n",
      "Parent: G010100\n",
      "siblings: \n",
      "Number of other domains: 347\n",
      "G010199 Others 347\n",
      "\n",
      "set parent domain for G010200, length 417\n",
      "Done filtering for G010200, domains found: 68\n",
      "G010200 Perfume 68\n",
      "\n",
      "G010299 is Other!\n",
      "Parent: G010200\n",
      "siblings: \n",
      "Number of other domains: 68\n",
      "G010299 Others 68\n",
      "\n",
      "G019900 is Other!\n",
      "Parent: G010000\n",
      "siblings: G010100|G010200\n",
      "Number of other domains: 15\n",
      "G019900 Others 15\n",
      "\n",
      "G019999 is Other!\n",
      "Parent: G019900\n",
      "siblings: \n",
      "Number of other domains: 15\n",
      "G019999 Others 15\n",
      "\n",
      "set parent domain for G020000, length 12032\n",
      "Done filtering for G020000, domains found: 182\n",
      "G020000 Clothing 182\n",
      "\n",
      "set parent domain for G020100, length 182\n",
      "Done filtering for G020100, domains found: 34\n",
      "G020100 Children's clothing 34\n",
      "\n",
      "G020199 is Other!\n",
      "Parent: G020100\n",
      "siblings: \n",
      "Number of other domains: 34\n",
      "G020199 Others 34\n",
      "\n",
      "set parent domain for G020200, length 182\n",
      "G020200 has except keywords ['trẻ_em']\n",
      "Done filtering for G020200, domains found: 31\n",
      "G020200 Men's clothing 31\n",
      "\n",
      "G020299 is Other!\n",
      "Parent: G020200\n",
      "siblings: \n",
      "Number of other domains: 31\n",
      "G020299 Others 31\n",
      "\n",
      "set parent domain for G020300, length 182\n",
      "G020300 has except keywords ['trẻ_em', 'điện_máy']\n",
      "Done filtering for G020300, domains found: 83\n",
      "G020300 Women's clothing 83\n",
      "\n",
      "G020399 is Other!\n",
      "Parent: G020300\n",
      "siblings: \n",
      "Number of other domains: 83\n",
      "G020399 Others 83\n",
      "\n",
      "G029900 is Other!\n",
      "Parent: G020000\n",
      "siblings: G020100|G020200|G020300\n",
      "Number of other domains: 58\n",
      "G029900 Others 58\n",
      "\n",
      "G029999 is Other!\n",
      "Parent: G029900\n",
      "siblings: \n",
      "Number of other domains: 58\n",
      "G029999 Others 58\n",
      "\n",
      "set parent domain for G030000, length 12032\n",
      "Done filtering for G030000, domains found: 509\n",
      "G030000 Fashion accessory 509\n",
      "\n",
      "set parent domain for G030100, length 509\n",
      "Done filtering for G030100, domains found: 136\n",
      "G030100 Wallet & handbag & backpack 136\n",
      "\n",
      "G030199 is Other!\n",
      "Parent: G030100\n",
      "siblings: \n",
      "Number of other domains: 136\n",
      "G030199 Others 136\n",
      "\n",
      "set parent domain for G030200, length 509\n",
      "G030200 has except keywords ['giải_thưởng']\n",
      "Done filtering for G030200, domains found: 210\n",
      "G030200 Jewelry & watches 210\n",
      "\n",
      "G030299 is Other!\n",
      "Parent: G030200\n",
      "siblings: \n",
      "Number of other domains: 210\n",
      "G030299 Others 210\n",
      "\n",
      "set parent domain for G030300, length 509\n",
      "Done filtering for G030300, domains found: 136\n",
      "G030300 Footwares 136\n",
      "\n",
      "G030399 is Other!\n",
      "Parent: G030300\n",
      "siblings: \n",
      "Number of other domains: 136\n",
      "G030399 Others 136\n",
      "\n",
      "G039900 is Other!\n",
      "Parent: G030000\n",
      "siblings: G030100|G030200|G030300\n"
     ]
    },
    {
     "name": "stderr",
     "output_type": "stream",
     "text": [
      "/home/polynote/.local/lib/python3.6/site-packages/ipykernel_launcher.py:23: DeprecationWarning: The default dtype for empty Series will be 'object' instead of 'float64' in a future version. Specify a dtype explicitly to silence this warning.\n",
      "/home/polynote/.local/lib/python3.6/site-packages/ipykernel_launcher.py:23: DeprecationWarning: The default dtype for empty Series will be 'object' instead of 'float64' in a future version. Specify a dtype explicitly to silence this warning.\n",
      "/home/polynote/.local/lib/python3.6/site-packages/ipykernel_launcher.py:23: DeprecationWarning: The default dtype for empty Series will be 'object' instead of 'float64' in a future version. Specify a dtype explicitly to silence this warning.\n",
      "/home/polynote/.local/lib/python3.6/site-packages/ipykernel_launcher.py:23: DeprecationWarning: The default dtype for empty Series will be 'object' instead of 'float64' in a future version. Specify a dtype explicitly to silence this warning.\n",
      "/home/polynote/.local/lib/python3.6/site-packages/ipykernel_launcher.py:23: DeprecationWarning: The default dtype for empty Series will be 'object' instead of 'float64' in a future version. Specify a dtype explicitly to silence this warning.\n",
      "/home/polynote/.local/lib/python3.6/site-packages/ipykernel_launcher.py:23: DeprecationWarning: The default dtype for empty Series will be 'object' instead of 'float64' in a future version. Specify a dtype explicitly to silence this warning.\n",
      "/home/polynote/.local/lib/python3.6/site-packages/ipykernel_launcher.py:23: DeprecationWarning: The default dtype for empty Series will be 'object' instead of 'float64' in a future version. Specify a dtype explicitly to silence this warning.\n",
      "/home/polynote/.local/lib/python3.6/site-packages/ipykernel_launcher.py:23: DeprecationWarning: The default dtype for empty Series will be 'object' instead of 'float64' in a future version. Specify a dtype explicitly to silence this warning.\n"
     ]
    },
    {
     "name": "stdout",
     "output_type": "stream",
     "text": [
      "Number of other domains: 51\n",
      "G039900 Others 51\n",
      "\n",
      "G039999 is Other!\n",
      "Parent: G039900\n",
      "siblings: \n",
      "Number of other domains: 51\n",
      "G039999 Others 51\n",
      "\n",
      "set parent domain for G040000, length 12032\n",
      "Done filtering for G040000, domains found: 1163\n",
      "G040000 Furniture 1163\n",
      "\n",
      "G049900 is Other!\n",
      "Parent: G040000\n",
      "siblings: \n",
      "Number of other domains: 1163\n",
      "G049900 Others 1163\n",
      "\n",
      "G049999 is Other!\n",
      "Parent: G049900\n",
      "siblings: \n",
      "Number of other domains: 1163\n",
      "G049999 Others 1163\n",
      "\n",
      "set parent domain for G050000, length 12032\n",
      "Done filtering for G050000, domains found: 149\n",
      "G050000 Toys 149\n",
      "\n",
      "set parent domain for G050100, length 149\n",
      "Done filtering for G050100, domains found: 31\n",
      "G050100 Children's toys 31\n",
      "\n",
      "G050199 is Other!\n",
      "Parent: G050100\n",
      "siblings: \n",
      "Number of other domains: 31\n",
      "G050199 Others 31\n",
      "\n",
      "set parent domain for G050200, length 149\n",
      "Done filtering for G050200, domains found: 37\n",
      "G050200 Adult's toy 37\n",
      "\n",
      "G050299 is Other!\n",
      "Parent: G050200\n",
      "siblings: \n",
      "Number of other domains: 37\n",
      "G050299 Others 37\n",
      "\n",
      "G990000 is Other!\n",
      "Parent: G000000\n",
      "siblings: G010000|G020000|G030000|G040000|G050000\n",
      "Number of other domains: 9695\n",
      "G990000 Others 9695\n",
      "\n",
      "G999900 is Other!\n",
      "Parent: G990000\n",
      "siblings: \n",
      "Number of other domains: 9695\n",
      "G999900 Others 9695\n",
      "\n",
      "G999999 is Other!\n",
      "Parent: G999900\n",
      "siblings: \n",
      "Number of other domains: 9695\n",
      "G999999 Others 9695\n",
      "\n",
      "set parent domain for H000000, length 407720\n",
      "H000000 has except keywords ['sức_khỏe']\n"
     ]
    },
    {
     "name": "stderr",
     "output_type": "stream",
     "text": [
      "/home/polynote/.local/lib/python3.6/site-packages/ipykernel_launcher.py:23: DeprecationWarning: The default dtype for empty Series will be 'object' instead of 'float64' in a future version. Specify a dtype explicitly to silence this warning.\n",
      "/home/polynote/.local/lib/python3.6/site-packages/ipykernel_launcher.py:23: DeprecationWarning: The default dtype for empty Series will be 'object' instead of 'float64' in a future version. Specify a dtype explicitly to silence this warning.\n",
      "/home/polynote/.local/lib/python3.6/site-packages/ipykernel_launcher.py:23: DeprecationWarning: The default dtype for empty Series will be 'object' instead of 'float64' in a future version. Specify a dtype explicitly to silence this warning.\n"
     ]
    },
    {
     "name": "stdout",
     "output_type": "stream",
     "text": [
      "Done filtering for H000000, domains found: 4071\n",
      "H000000 Technology 4071\n",
      "\n",
      "set parent domain for H010000, length 4071\n",
      "Done filtering for H010000, domains found: 1880\n",
      "H010000 Computer 1880\n",
      "\n",
      "set parent domain for H010100, length 1880\n",
      "Done filtering for H010100, domains found: 25\n",
      "H010100 Cloud 25\n",
      "\n",
      "H010199 is Other!\n",
      "Parent: H010100\n",
      "siblings: \n",
      "Number of other domains: 25\n",
      "H010199 Others 25\n",
      "\n",
      "set parent domain for H010200, length 1880\n",
      "Done filtering for H010200, domains found: 1048\n",
      "H010200 PC & Laptop & Hardware 1048\n",
      "\n",
      "H010299 is Other!\n",
      "Parent: H010200\n",
      "siblings: \n",
      "Number of other domains: 1048\n",
      "H010299 Others 1048\n",
      "\n",
      "set parent domain for H010300, length 1880\n",
      "Done filtering for H010300, domains found: 295\n",
      "H010300 Software 295\n",
      "\n",
      "H010399 is Other!\n",
      "Parent: H010300\n",
      "siblings: \n",
      "Number of other domains: 295\n",
      "H010399 Others 295\n",
      "\n",
      "H019900 is Other!\n",
      "Parent: H010000\n",
      "siblings: H010100|H010200|H010300\n",
      "Number of other domains: 546\n",
      "H019900 Others 546\n",
      "\n",
      "H019999 is Other!\n",
      "Parent: H019900\n",
      "siblings: \n",
      "Number of other domains: 546\n",
      "H019999 Others 546\n",
      "\n",
      "set parent domain for H020000, length 4071\n",
      "Done filtering for H020000, domains found: 907\n",
      "H020000 Electronics 907\n",
      "\n",
      "set parent domain for H020100, length 907\n",
      "Done filtering for H020100, domains found: 391\n",
      "H020100 Audio equipments 391\n",
      "\n",
      "H020199 is Other!\n",
      "Parent: H020100\n",
      "siblings: \n",
      "Number of other domains: 391\n",
      "H020199 Others 391\n",
      "\n",
      "set parent domain for H020200, length 907\n",
      "Done filtering for H020200, domains found: 68\n",
      "H020200 Camera 68\n",
      "\n",
      "H020299 is Other!\n",
      "Parent: H020200\n",
      "siblings: \n",
      "Number of other domains: 68\n",
      "H020299 Others 68\n",
      "\n",
      "set parent domain for H020300, length 907\n",
      "H020300 has except keywords ['trực_tuyến', 'online', 'apk']\n",
      "Done filtering for H020300, domains found: 306\n",
      "H020300 Home equipments 306\n",
      "\n",
      "H020399 is Other!\n",
      "Parent: H020300\n",
      "siblings: \n",
      "Number of other domains: 306\n",
      "H020399 Others 306\n",
      "\n",
      "H029900 is Other!\n",
      "Parent: H020000\n",
      "siblings: H020100|H020200|H020300\n",
      "Number of other domains: 163\n",
      "H029900 Others 163\n",
      "\n",
      "H029999 is Other!\n",
      "Parent: H029900\n",
      "siblings: \n",
      "Number of other domains: 163\n",
      "H029999 Others 163\n",
      "\n",
      "set parent domain for H030000, length 4071\n",
      "Done filtering for H030000, domains found: 1391\n",
      "H030000 Smartphone 1391\n",
      "\n",
      "H039900 is Other!\n",
      "Parent: H030000\n",
      "siblings: \n",
      "Number of other domains: 1391\n",
      "H039900 Others 1391\n",
      "\n",
      "H039999 is Other!\n",
      "Parent: H039900\n",
      "siblings: \n"
     ]
    },
    {
     "name": "stderr",
     "output_type": "stream",
     "text": [
      "/home/polynote/.local/lib/python3.6/site-packages/ipykernel_launcher.py:23: DeprecationWarning: The default dtype for empty Series will be 'object' instead of 'float64' in a future version. Specify a dtype explicitly to silence this warning.\n",
      "/home/polynote/.local/lib/python3.6/site-packages/ipykernel_launcher.py:23: DeprecationWarning: The default dtype for empty Series will be 'object' instead of 'float64' in a future version. Specify a dtype explicitly to silence this warning.\n",
      "/home/polynote/.local/lib/python3.6/site-packages/ipykernel_launcher.py:23: DeprecationWarning: The default dtype for empty Series will be 'object' instead of 'float64' in a future version. Specify a dtype explicitly to silence this warning.\n",
      "/home/polynote/.local/lib/python3.6/site-packages/ipykernel_launcher.py:23: DeprecationWarning: The default dtype for empty Series will be 'object' instead of 'float64' in a future version. Specify a dtype explicitly to silence this warning.\n",
      "/home/polynote/.local/lib/python3.6/site-packages/ipykernel_launcher.py:23: DeprecationWarning: The default dtype for empty Series will be 'object' instead of 'float64' in a future version. Specify a dtype explicitly to silence this warning.\n",
      "/home/polynote/.local/lib/python3.6/site-packages/ipykernel_launcher.py:23: DeprecationWarning: The default dtype for empty Series will be 'object' instead of 'float64' in a future version. Specify a dtype explicitly to silence this warning.\n",
      "/home/polynote/.local/lib/python3.6/site-packages/ipykernel_launcher.py:23: DeprecationWarning: The default dtype for empty Series will be 'object' instead of 'float64' in a future version. Specify a dtype explicitly to silence this warning.\n"
     ]
    },
    {
     "name": "stdout",
     "output_type": "stream",
     "text": [
      "Number of other domains: 1391\n",
      "H039999 Others 1391\n",
      "\n",
      "H990000 is Other!\n",
      "Parent: H000000\n",
      "siblings: H010000|H020000|H030000\n",
      "Number of other domains: 295\n",
      "H990000 Others 295\n",
      "\n",
      "H999900 is Other!\n",
      "Parent: H990000\n",
      "siblings: \n",
      "Number of other domains: 295\n",
      "H999900 Others 295\n",
      "\n",
      "H999999 is Other!\n",
      "Parent: H999900\n",
      "siblings: \n",
      "Number of other domains: 295\n",
      "H999999 Others 295\n",
      "\n"
     ]
    }
   ],
   "source": [
    "#get domains for each interest\n",
    "for itr in tree:\n",
    "    if itr.has_child in [0,1]:\n",
    "        if itr.level==1:\n",
    "            itr.set_parent_domains_bow_lang(df_unique[\"domain_clean\"], bow, df_unique[\"lang\"])\n",
    "        else:\n",
    "            pr = [item for item in tree if item.IID == itr.find_parent()][0]\n",
    "            itr.set_parent_domains_bow_lang(pr.domains, pr.bow, pr.lang)\n",
    "        itr.filter_domains()\n",
    "        #itr.domain_indices = itr.domains.index\n",
    "    else:\n",
    "        print(itr.IID, \"is Other!\")\n",
    "        try :\n",
    "            parent = [item for item in tree if item.IID == itr.find_parent()][0]\n",
    "            print(\"Parent:\", parent.IID)\n",
    "            sibs = find_all_siblings(itr, tree)\n",
    "            print(\"siblings:\", \"|\".join([child.IID for child in sibs]))\n",
    "            try:\n",
    "                children_domains = pd.concat([child.domains for child in sibs])\n",
    "            except ValueError as e:\n",
    "                children_domains = pd.Series()\n",
    "\n",
    "            itr.domains = parent.domains[~parent.domains.isin(children_domains)]\n",
    "            itr.lang = parent.lang[~parent.domains.isin(children_domains)]\n",
    "            print(\"Number of other domains:\", len(itr.domains))\n",
    "        except Exception as e:\n",
    "            print(\"===========================\")\n",
    "            print(itr.IID)\n",
    "            break\n",
    "    print(itr.IID, itr.file_name, len(itr.domains))\n",
    "    print()"
   ]
  },
  {
   "cell_type": "code",
   "execution_count": 195,
   "metadata": {},
   "outputs": [
    {
     "data": {
      "text/plain": [
       "[('A010199', 905, 905),\n",
       " ('A010299', 2917, 2917),\n",
       " ('A019999', 0, 0),\n",
       " ('A020199', 1891, 1891),\n",
       " ('A020299', 106, 106),\n",
       " ('A020399', 239, 239),\n",
       " ('A029999', 23, 23),\n",
       " ('A039999', 0, 0),\n",
       " ('A049999', 4224, 4224),\n",
       " ('A050199', 2851, 2851),\n",
       " ('A050299', 1770, 1770),\n",
       " ('A059999', 8085, 8085),\n",
       " ('A060101', 1172, 1172),\n",
       " ('A060102', 664, 664),\n",
       " ('A060103', 274, 274),\n",
       " ('A060104', 31, 31),\n",
       " ('A060105', 144, 144),\n",
       " ('A060106', 444, 444),\n",
       " ('A060107', 43, 43),\n",
       " ('A060199', 1192, 1192),\n",
       " ('A060201', 117, 117),\n",
       " ('A060202', 194, 194),\n",
       " ('A060299', 77, 77),\n",
       " ('A060301', 8, 8),\n",
       " ('A060399', 217, 217),\n",
       " ('A069999', 19, 19),\n",
       " ('A070101', 95, 95),\n",
       " ('A070102', 147, 147),\n",
       " ('A070103', 74, 74),\n",
       " ('A070104', 105, 105),\n",
       " ('A070105', 560, 560),\n",
       " ('A070299', 55, 55),\n",
       " ('A070301', 147, 147),\n",
       " ('A070302', 193, 193),\n",
       " ('A070399', 205, 205),\n",
       " ('A070401', 1137, 1137),\n",
       " ('A079999', 733, 733),\n",
       " ('A089999', 4331, 4331),\n",
       " ('A090199', 1372, 1372),\n",
       " ('A090299', 0, 0),\n",
       " ('A090399', 431, 431),\n",
       " ('A099999', 2357, 2357),\n",
       " ('A100101', 85, 85),\n",
       " ('A100102', 17, 17),\n",
       " ('A100103', 676, 676),\n",
       " ('A100299', 4367, 4367),\n",
       " ('A100399', 3783, 3783),\n",
       " ('A109999', 2044, 2044),\n",
       " ('A110199', 2401, 2401),\n",
       " ('A110299', 1075, 1075),\n",
       " ('A110399', 636, 636),\n",
       " ('A110499', 1169, 1169),\n",
       " ('A119999', 1597, 1597),\n",
       " ('A999999', 29228, 29228),\n",
       " ('B010199', 844, 844),\n",
       " ('B010299', 701, 701),\n",
       " ('B010399', 884, 884),\n",
       " ('B010499', 725, 725),\n",
       " ('B010599', 1702, 1702),\n",
       " ('B019999', 6649, 6649),\n",
       " ('B029999', 55, 55),\n",
       " ('B039999', 622, 622),\n",
       " ('B049999', 160, 160),\n",
       " ('B059999', 625, 625),\n",
       " ('B069999', 756, 756),\n",
       " ('B999999', 1534, 1534),\n",
       " ('C019999', 3097, 3097),\n",
       " ('C029999', 0, 0),\n",
       " ('C999999', 0, 0),\n",
       " ('D010199', 50, 50),\n",
       " ('D010299', 1649, 1649),\n",
       " ('D010399', 858, 858),\n",
       " ('D010499', 9399, 9399),\n",
       " ('D010599', 39, 39),\n",
       " ('D029999', 650, 650),\n",
       " ('D030199', 7966, 7966),\n",
       " ('D030299', 250, 250),\n",
       " ('D049999', 333, 333),\n",
       " ('D050199', 228, 228),\n",
       " ('D050299', 265, 265),\n",
       " ('D050399', 53, 53),\n",
       " ('D050499', 0, 0),\n",
       " ('D050599', 141, 141),\n",
       " ('D059999', 11737, 11737),\n",
       " ('D060101', 562, 562),\n",
       " ('D060103', 510, 510),\n",
       " ('D060299', 465, 465),\n",
       " ('D060401', 133, 133),\n",
       " ('D060402', 128, 128),\n",
       " ('D060403', 416, 416),\n",
       " ('D060404', 338, 338),\n",
       " ('D060405', 62, 62),\n",
       " ('D060406', 936, 936),\n",
       " ('D060499', 12804, 12804),\n",
       " ('D069999', 629, 629),\n",
       " ('D999999', 217, 217),\n",
       " ('E019999', 1005, 1005),\n",
       " ('E020199', 699, 699),\n",
       " ('E020299', 99, 99),\n",
       " ('E029999', 2, 2),\n",
       " ('E039999', 922, 922),\n",
       " ('E050199', 1134, 1134),\n",
       " ('E050299', 317, 317),\n",
       " ('E050499', 99, 99),\n",
       " ('E050599', 104, 104),\n",
       " ('E059999', 65, 65),\n",
       " ('E060199', 51, 51),\n",
       " ('E069999', 950, 950),\n",
       " ('E999999', 402619, 402619),\n",
       " ('F019999', 828, 828),\n",
       " ('F029999', 296, 296),\n",
       " ('F039999', 797, 797),\n",
       " ('F040199', 344, 344),\n",
       " ('F040299', 269, 269),\n",
       " ('F049999', 290, 290),\n",
       " ('F050199', 254, 254),\n",
       " ('F050299', 8, 8),\n",
       " ('F050399', 138, 138),\n",
       " ('F059999', 896, 896),\n",
       " ('F069999', 1151, 1151),\n",
       " ('F079999', 3150, 3150),\n",
       " ('F999999', 399631, 399631),\n",
       " ('G010199', 347, 347),\n",
       " ('G010299', 68, 68),\n",
       " ('G019999', 15, 15),\n",
       " ('G020199', 34, 34),\n",
       " ('G020299', 31, 31),\n",
       " ('G020399', 83, 83),\n",
       " ('G029999', 58, 58),\n",
       " ('G030199', 136, 136),\n",
       " ('G030299', 210, 210),\n",
       " ('G030399', 136, 136),\n",
       " ('G039999', 51, 51),\n",
       " ('G049999', 1163, 1163),\n",
       " ('G050199', 31, 31),\n",
       " ('G050299', 37, 37),\n",
       " ('G999999', 9695, 9695),\n",
       " ('H010199', 25, 25),\n",
       " ('H010299', 1048, 1048),\n",
       " ('H010399', 295, 295),\n",
       " ('H019999', 546, 546),\n",
       " ('H020199', 391, 391),\n",
       " ('H020299', 68, 68),\n",
       " ('H020399', 306, 306),\n",
       " ('H029999', 163, 163),\n",
       " ('H039999', 1391, 1391),\n",
       " ('H999999', 295, 295)]"
      ]
     },
     "execution_count": 195,
     "metadata": {},
     "output_type": "execute_result"
    }
   ],
   "source": [
    "[(itr.IID, len(itr.domains), len(itr.lang)) for itr in tree if itr.level==4]"
   ]
  },
  {
   "cell_type": "code",
   "execution_count": 196,
   "metadata": {},
   "outputs": [
    {
     "name": "stdout",
     "output_type": "stream",
     "text": [
      "1582598448\n",
      "Done writing result to file /home/polynote/notebooks/anhdt157/classify-use-ml/end-to-end-final-predict/old_logic/result/result_202001.csv\n"
     ]
    }
   ],
   "source": [
    "# fname = \"interest_domain_v7_05272019.csv\"\n",
    "# output_file = os.path.join('output_domains', fname)\n",
    "from datetime import datetime\n",
    "def get_time_now():\n",
    "    return str(int(datetime.timestamp(datetime.now())))\n",
    "\n",
    "def get_parent_from_lv4(ID):\n",
    "    level_3 = ID[:-2]+\"00\"\n",
    "    level_2 = ID[:-4]+\"0000\"\n",
    "    level_1 = ID[:-6]+\"000000\"\n",
    "    return level_1, level_2, level_3\n",
    "def get_lv_3(ID):\n",
    "    return get_parent_from_lv4(ID)[2]\n",
    "def get_lv_2(ID):\n",
    "    return get_parent_from_lv4(ID)[1]\n",
    "def get_lv_1(ID):\n",
    "    return get_parent_from_lv4(ID)[0]\n",
    "# ID_list = [itr.IID for itr in tree if itr.level==4]\n",
    "# test_df = pd.DataFrame({\"ID\":ID_list})\n",
    "# test_df[\"lv_1\"] = test_df[\"ID\"].apply(get_lv_1)\n",
    "# test_df[\"lv_2\"] = test_df[\"ID\"].apply(get_lv_2)\n",
    "# test_df[\"lv_3\"] = test_df[\"ID\"].apply(get_lv_3)\n",
    "# test_df\n",
    "\n",
    "time = get_time_now()\n",
    "print(time)\n",
    "with open(PATH_RESULT_OLD_LOGIC, \"w\") as f:\n",
    "    f.write(\"domain_id\\tdomain\\tIID\\tlevel_1\\tlevel_2\\tlevel_3\\ttime\\tdate\\ttree_version\\tlang\\n\")\n",
    "for itr in tree:\n",
    "    if itr.level==4: \n",
    "        if len(itr.domains)<1000000:\n",
    "            ID = itr.IID\n",
    "            level_1, level_2, level_3 = get_parent_from_lv4(ID)\n",
    "    #         if len(itr.domains)>1000000:\n",
    "    #             print(\"Interest {} - level {} has been skipped\".format(itr.file_name, itr.level))\n",
    "    #         else:\n",
    "            for i in range(len(itr.domains)):\n",
    "                domain_id = str(itr.domains.index[i])\n",
    "                domain = itr.domains.values[i]\n",
    "                lang = itr.lang.values[i]\n",
    "                with open(PATH_RESULT_OLD_LOGIC, \"a\") as f:\n",
    "                    f.write(\"\\t\".join([domain_id, domain, ID, \n",
    "                                       level_1, level_2, level_3, time, MONTH, TREE_VERSION, lang])+\"\\n\")\n",
    "print(\"Done writing result to file\", PATH_RESULT_OLD_LOGIC)"
   ]
  },
  {
   "cell_type": "code",
   "execution_count": 197,
   "metadata": {},
   "outputs": [],
   "source": [
    "# output_file = \"interest_keywords_v7.csv\"\n",
    "# with open(output_file, 'a') as f:\n",
    "#     f.write(\"IID\\tinterest_name\\tkeywords\\n\")\n",
    "#     for itr in tree:\n",
    "#         interest_name = re.sub(\" & \", \"_\", os.path.join(itr.path, itr.file_name).lower())\n",
    "#         keywords = \",\".join(itr.keywords)\n",
    "#         f.write(\"\\t\".join([itr.IID, interest_name, keywords]))\n",
    "#         f.write(\"\\n\")"
   ]
  },
  {
   "cell_type": "code",
   "execution_count": 198,
   "metadata": {},
   "outputs": [],
   "source": [
    "df_result = pd.read_csv(PATH_RESULT_OLD_LOGIC, \"\\t\")"
   ]
  },
  {
   "cell_type": "code",
   "execution_count": 199,
   "metadata": {},
   "outputs": [],
   "source": [
    "# df_result"
   ]
  },
  {
   "cell_type": "code",
   "execution_count": 200,
   "metadata": {},
   "outputs": [
    {
     "data": {
      "text/plain": [
       "988540"
      ]
     },
     "execution_count": 200,
     "metadata": {},
     "output_type": "execute_result"
    }
   ],
   "source": [
    "# 1007900\n",
    "len(df_result)"
   ]
  },
  {
   "cell_type": "code",
   "execution_count": 201,
   "metadata": {},
   "outputs": [],
   "source": [
    "df_result = df_result.drop_duplicates(subset=['domain', 'IID'])"
   ]
  },
  {
   "cell_type": "code",
   "execution_count": 202,
   "metadata": {},
   "outputs": [
    {
     "data": {
      "text/plain": [
       "988540"
      ]
     },
     "execution_count": 202,
     "metadata": {},
     "output_type": "execute_result"
    }
   ],
   "source": [
    "# 907868\n",
    "len(df_result)"
   ]
  },
  {
   "cell_type": "code",
   "execution_count": 203,
   "metadata": {
    "scrolled": false
   },
   "outputs": [
    {
     "data": {
      "text/html": [
       "<div>\n",
       "<style scoped>\n",
       "    .dataframe tbody tr th:only-of-type {\n",
       "        vertical-align: middle;\n",
       "    }\n",
       "\n",
       "    .dataframe tbody tr th {\n",
       "        vertical-align: top;\n",
       "    }\n",
       "\n",
       "    .dataframe thead th {\n",
       "        text-align: right;\n",
       "    }\n",
       "</style>\n",
       "<table border=\"1\" class=\"dataframe\">\n",
       "  <thead>\n",
       "    <tr style=\"text-align: right;\">\n",
       "      <th></th>\n",
       "      <th>domain_id</th>\n",
       "      <th>domain</th>\n",
       "      <th>IID</th>\n",
       "      <th>level_1</th>\n",
       "      <th>level_2</th>\n",
       "      <th>level_3</th>\n",
       "      <th>time</th>\n",
       "      <th>date</th>\n",
       "      <th>tree_version</th>\n",
       "      <th>lang</th>\n",
       "    </tr>\n",
       "  </thead>\n",
       "  <tbody>\n",
       "    <tr>\n",
       "      <th>0</th>\n",
       "      <td>26</td>\n",
       "      <td>vietdesi.com</td>\n",
       "      <td>A010199</td>\n",
       "      <td>A000000</td>\n",
       "      <td>A010000</td>\n",
       "      <td>A010100</td>\n",
       "      <td>1582598448</td>\n",
       "      <td>202001</td>\n",
       "      <td>8</td>\n",
       "      <td>vi</td>\n",
       "    </tr>\n",
       "    <tr>\n",
       "      <th>1</th>\n",
       "      <td>81</td>\n",
       "      <td>inanmocduong.com</td>\n",
       "      <td>A010199</td>\n",
       "      <td>A000000</td>\n",
       "      <td>A010000</td>\n",
       "      <td>A010100</td>\n",
       "      <td>1582598448</td>\n",
       "      <td>202001</td>\n",
       "      <td>8</td>\n",
       "      <td>vi</td>\n",
       "    </tr>\n",
       "    <tr>\n",
       "      <th>2</th>\n",
       "      <td>254</td>\n",
       "      <td>hoangkimad.com</td>\n",
       "      <td>A010199</td>\n",
       "      <td>A000000</td>\n",
       "      <td>A010000</td>\n",
       "      <td>A010100</td>\n",
       "      <td>1582598448</td>\n",
       "      <td>202001</td>\n",
       "      <td>8</td>\n",
       "      <td>vi</td>\n",
       "    </tr>\n",
       "    <tr>\n",
       "      <th>3</th>\n",
       "      <td>288</td>\n",
       "      <td>inangiahuy.com</td>\n",
       "      <td>A010199</td>\n",
       "      <td>A000000</td>\n",
       "      <td>A010000</td>\n",
       "      <td>A010100</td>\n",
       "      <td>1582598448</td>\n",
       "      <td>202001</td>\n",
       "      <td>8</td>\n",
       "      <td>vi</td>\n",
       "    </tr>\n",
       "    <tr>\n",
       "      <th>4</th>\n",
       "      <td>453</td>\n",
       "      <td>inantranhung.com</td>\n",
       "      <td>A010199</td>\n",
       "      <td>A000000</td>\n",
       "      <td>A010000</td>\n",
       "      <td>A010100</td>\n",
       "      <td>1582598448</td>\n",
       "      <td>202001</td>\n",
       "      <td>8</td>\n",
       "      <td>vi</td>\n",
       "    </tr>\n",
       "  </tbody>\n",
       "</table>\n",
       "</div>"
      ],
      "text/plain": [
       "   domain_id            domain      IID  level_1  level_2  level_3  \\\n",
       "0         26      vietdesi.com  A010199  A000000  A010000  A010100   \n",
       "1         81  inanmocduong.com  A010199  A000000  A010000  A010100   \n",
       "2        254    hoangkimad.com  A010199  A000000  A010000  A010100   \n",
       "3        288    inangiahuy.com  A010199  A000000  A010000  A010100   \n",
       "4        453  inantranhung.com  A010199  A000000  A010000  A010100   \n",
       "\n",
       "         time    date  tree_version lang  \n",
       "0  1582598448  202001             8   vi  \n",
       "1  1582598448  202001             8   vi  \n",
       "2  1582598448  202001             8   vi  \n",
       "3  1582598448  202001             8   vi  \n",
       "4  1582598448  202001             8   vi  "
      ]
     },
     "execution_count": 203,
     "metadata": {},
     "output_type": "execute_result"
    }
   ],
   "source": [
    "df_result.head(5)"
   ]
  },
  {
   "cell_type": "code",
   "execution_count": 204,
   "metadata": {},
   "outputs": [],
   "source": [
    "# # for row_test in df_result_test.itertuples():\n",
    "# print(\"Writing data to csv file\", result_path_distinct)\n",
    "# overall_start_time = time.time()\n",
    "# start_time = time.time()\n",
    "# end_time = time.time()\n",
    "# count_batch = 0\n",
    "# batch_size = 10000\n",
    "# with open(result_path_distinct, 'w', encoding='utf-8') as result_file:\n",
    "#     f_writer = csv.writer(result_file, delimiter='\\t')\n",
    "#     f_writer.writerow(['domain_id', 'domain', 'IID', 'level_1', 'title_des_raw', 'title_desc_preprocess', 'lang', 'date'])\n",
    "#     for row in df_result_test.itertuples():\n",
    "#         count_batch += 1\n",
    "#         if count_batch % batch_size == 0:\n",
    "#             print(\"Loading {}/{}, time to process: {}s, total: {}s\"\n",
    "#                   .format(count_batch,\n",
    "#                           total_count,\n",
    "#                           round(time.time() - start_time, 2),\n",
    "#                           round(time.time() - overall_start_time, 2)))\n",
    "#             start_time = time.time()\n",
    "#         f_writer.writerow([row.domain, row.domain_redirect, row.domain_clean, row.redirected,\n",
    "#                            row.title_des_raw, row.title_desc_preprocess, row.lang, row.date])\n",
    "# print(\"Done writing csv data\")"
   ]
  },
  {
   "cell_type": "markdown",
   "metadata": {},
   "source": [
    "# END"
   ]
  },
  {
   "cell_type": "code",
   "execution_count": 205,
   "metadata": {},
   "outputs": [],
   "source": [
    "# output_test_cant_parsing"
   ]
  },
  {
   "cell_type": "code",
   "execution_count": 206,
   "metadata": {},
   "outputs": [
    {
     "data": {
      "text/plain": [
       "407720"
      ]
     },
     "execution_count": 206,
     "metadata": {},
     "output_type": "execute_result"
    }
   ],
   "source": [
    "#domain_info\n",
    "len(df_unique)"
   ]
  },
  {
   "cell_type": "code",
   "execution_count": null,
   "metadata": {},
   "outputs": [],
   "source": []
  },
  {
   "cell_type": "code",
   "execution_count": null,
   "metadata": {},
   "outputs": [],
   "source": []
  },
  {
   "cell_type": "markdown",
   "metadata": {},
   "source": [
    "## Write ra file những domain spam"
   ]
  },
  {
   "cell_type": "code",
   "execution_count": 207,
   "metadata": {},
   "outputs": [],
   "source": [
    "# list_spam_IID = ['A019999', 'A029999', 'A059999', 'A069999', 'A079999', 'A099999', 'A109999', \n",
    "#                  'A119999', 'A999999', 'B019999', 'B999900', 'B999999', 'C999999', 'D010599',\n",
    "#                  'D029999', 'D049999', 'D059999', 'D069999', 'E029999', 'E999999', 'F999999', \n",
    "#                  'G019999', 'G029999', 'G039999', 'G999999', 'H019999', 'H029999', 'H999999']\n",
    "\n",
    "# list_spam_IID = ['A019999', 'A029999', 'A059999', 'A069999', 'A079999', 'A099999', 'A109999', \n",
    "#                  'A119999', 'A999999', 'B019999', 'B999999', 'C999999', 'D010599', 'D059999', \n",
    "#                  'D060499', 'D069999', 'E029999', 'E059999', 'E999999', 'F999999', 'F049999', \n",
    "#                  'F059999', 'G019999', 'G029999', 'G039999', 'G999999', 'H019999', 'H029999',\n",
    "#                  'H999999']\n",
    "\n",
    "list_spam_IID = ['A019999', 'A029999', 'A059999', 'A069999', 'A079999', 'A099999', 'A109999', \n",
    "                 'A119999', 'A999999', 'B019999', 'B999999', 'C999999', 'D010599', 'D059999',\n",
    "                 'D060499', 'D069999', 'D999999', 'E029999', 'E059999', 'E999999', 'F999999',\n",
    "                 'F049999', 'F059999', 'G019999', 'G029999', 'G039999', 'G999999', 'H019999', \n",
    "                 'H029999', 'H999999']"
   ]
  },
  {
   "cell_type": "code",
   "execution_count": 208,
   "metadata": {},
   "outputs": [],
   "source": [
    "# output_test_spam"
   ]
  },
  {
   "cell_type": "code",
   "execution_count": 209,
   "metadata": {},
   "outputs": [],
   "source": [
    "# output_test_not_spam"
   ]
  },
  {
   "cell_type": "code",
   "execution_count": 210,
   "metadata": {},
   "outputs": [
    {
     "data": {
      "text/plain": [
       "988540"
      ]
     },
     "execution_count": 210,
     "metadata": {},
     "output_type": "execute_result"
    }
   ],
   "source": [
    "len(df_result)"
   ]
  },
  {
   "cell_type": "code",
   "execution_count": 211,
   "metadata": {},
   "outputs": [],
   "source": [
    "df_result_all = df_result"
   ]
  },
  {
   "cell_type": "code",
   "execution_count": 212,
   "metadata": {},
   "outputs": [],
   "source": [
    "for i, value in enumerate(list_spam_IID):\n",
    "#     print(\"=======\")\n",
    "#     print(str(value))\n",
    "    df_result = df_result[~df_result['IID'].astype(str).str.match(value)]\n",
    "#     print(len(df_result_1))"
   ]
  },
  {
   "cell_type": "code",
   "execution_count": 213,
   "metadata": {},
   "outputs": [
    {
     "data": {
      "text/plain": [
       "96519"
      ]
     },
     "execution_count": 213,
     "metadata": {},
     "output_type": "execute_result"
    }
   ],
   "source": [
    "len(df_result)"
   ]
  },
  {
   "cell_type": "code",
   "execution_count": 214,
   "metadata": {},
   "outputs": [
    {
     "data": {
      "text/plain": [
       "988540"
      ]
     },
     "execution_count": 214,
     "metadata": {},
     "output_type": "execute_result"
    }
   ],
   "source": [
    "len(df_result_all)"
   ]
  },
  {
   "cell_type": "code",
   "execution_count": 215,
   "metadata": {},
   "outputs": [],
   "source": [
    "# output_test_not_spam\n",
    "# output_test_spam"
   ]
  },
  {
   "cell_type": "code",
   "execution_count": 216,
   "metadata": {},
   "outputs": [],
   "source": [
    "# df_result --> not spam"
   ]
  },
  {
   "cell_type": "code",
   "execution_count": 217,
   "metadata": {},
   "outputs": [],
   "source": [
    "# df_result_all"
   ]
  },
  {
   "cell_type": "code",
   "execution_count": 218,
   "metadata": {},
   "outputs": [
    {
     "data": {
      "text/html": [
       "<div>\n",
       "<style scoped>\n",
       "    .dataframe tbody tr th:only-of-type {\n",
       "        vertical-align: middle;\n",
       "    }\n",
       "\n",
       "    .dataframe tbody tr th {\n",
       "        vertical-align: top;\n",
       "    }\n",
       "\n",
       "    .dataframe thead th {\n",
       "        text-align: right;\n",
       "    }\n",
       "</style>\n",
       "<table border=\"1\" class=\"dataframe\">\n",
       "  <thead>\n",
       "    <tr style=\"text-align: right;\">\n",
       "      <th></th>\n",
       "      <th>domain_id</th>\n",
       "      <th>domain</th>\n",
       "      <th>IID</th>\n",
       "      <th>level_1</th>\n",
       "      <th>level_2</th>\n",
       "      <th>level_3</th>\n",
       "      <th>time</th>\n",
       "      <th>date</th>\n",
       "      <th>tree_version</th>\n",
       "      <th>lang</th>\n",
       "    </tr>\n",
       "  </thead>\n",
       "  <tbody>\n",
       "    <tr>\n",
       "      <th>0</th>\n",
       "      <td>26</td>\n",
       "      <td>vietdesi.com</td>\n",
       "      <td>A010199</td>\n",
       "      <td>A000000</td>\n",
       "      <td>A010000</td>\n",
       "      <td>A010100</td>\n",
       "      <td>1582598448</td>\n",
       "      <td>202001</td>\n",
       "      <td>8</td>\n",
       "      <td>vi</td>\n",
       "    </tr>\n",
       "    <tr>\n",
       "      <th>1</th>\n",
       "      <td>81</td>\n",
       "      <td>inanmocduong.com</td>\n",
       "      <td>A010199</td>\n",
       "      <td>A000000</td>\n",
       "      <td>A010000</td>\n",
       "      <td>A010100</td>\n",
       "      <td>1582598448</td>\n",
       "      <td>202001</td>\n",
       "      <td>8</td>\n",
       "      <td>vi</td>\n",
       "    </tr>\n",
       "    <tr>\n",
       "      <th>2</th>\n",
       "      <td>254</td>\n",
       "      <td>hoangkimad.com</td>\n",
       "      <td>A010199</td>\n",
       "      <td>A000000</td>\n",
       "      <td>A010000</td>\n",
       "      <td>A010100</td>\n",
       "      <td>1582598448</td>\n",
       "      <td>202001</td>\n",
       "      <td>8</td>\n",
       "      <td>vi</td>\n",
       "    </tr>\n",
       "    <tr>\n",
       "      <th>3</th>\n",
       "      <td>288</td>\n",
       "      <td>inangiahuy.com</td>\n",
       "      <td>A010199</td>\n",
       "      <td>A000000</td>\n",
       "      <td>A010000</td>\n",
       "      <td>A010100</td>\n",
       "      <td>1582598448</td>\n",
       "      <td>202001</td>\n",
       "      <td>8</td>\n",
       "      <td>vi</td>\n",
       "    </tr>\n",
       "    <tr>\n",
       "      <th>4</th>\n",
       "      <td>453</td>\n",
       "      <td>inantranhung.com</td>\n",
       "      <td>A010199</td>\n",
       "      <td>A000000</td>\n",
       "      <td>A010000</td>\n",
       "      <td>A010100</td>\n",
       "      <td>1582598448</td>\n",
       "      <td>202001</td>\n",
       "      <td>8</td>\n",
       "      <td>vi</td>\n",
       "    </tr>\n",
       "  </tbody>\n",
       "</table>\n",
       "</div>"
      ],
      "text/plain": [
       "   domain_id            domain      IID  level_1  level_2  level_3  \\\n",
       "0         26      vietdesi.com  A010199  A000000  A010000  A010100   \n",
       "1         81  inanmocduong.com  A010199  A000000  A010000  A010100   \n",
       "2        254    hoangkimad.com  A010199  A000000  A010000  A010100   \n",
       "3        288    inangiahuy.com  A010199  A000000  A010000  A010100   \n",
       "4        453  inantranhung.com  A010199  A000000  A010000  A010100   \n",
       "\n",
       "         time    date  tree_version lang  \n",
       "0  1582598448  202001             8   vi  \n",
       "1  1582598448  202001             8   vi  \n",
       "2  1582598448  202001             8   vi  \n",
       "3  1582598448  202001             8   vi  \n",
       "4  1582598448  202001             8   vi  "
      ]
     },
     "execution_count": 218,
     "metadata": {},
     "output_type": "execute_result"
    }
   ],
   "source": [
    "df_result_all.head(5)"
   ]
  },
  {
   "cell_type": "code",
   "execution_count": 219,
   "metadata": {},
   "outputs": [],
   "source": [
    "# df_spam"
   ]
  },
  {
   "cell_type": "code",
   "execution_count": 220,
   "metadata": {},
   "outputs": [],
   "source": [
    "# df_result_spam = df_result_all[(~df_result_all.domain.isin(df_result.domain)) & (~df_result_all.IID.isin(df_result.IID))]"
   ]
  },
  {
   "cell_type": "code",
   "execution_count": 221,
   "metadata": {},
   "outputs": [
    {
     "data": {
      "text/plain": [
       "8367    80506\n",
       "Name: domain_id, dtype: int64"
      ]
     },
     "execution_count": 221,
     "metadata": {},
     "output_type": "execute_result"
    }
   ],
   "source": [
    "df_result_all.iloc[[8367]].domain_id"
   ]
  },
  {
   "cell_type": "code",
   "execution_count": 222,
   "metadata": {},
   "outputs": [],
   "source": [
    "df_spam = df_result_all[~df_result_all.isin(df_result)].dropna()"
   ]
  },
  {
   "cell_type": "code",
   "execution_count": 223,
   "metadata": {},
   "outputs": [
    {
     "data": {
      "text/plain": [
       "892021"
      ]
     },
     "execution_count": 223,
     "metadata": {},
     "output_type": "execute_result"
    }
   ],
   "source": [
    "len(df_spam)"
   ]
  },
  {
   "cell_type": "code",
   "execution_count": 224,
   "metadata": {},
   "outputs": [
    {
     "data": {
      "text/plain": [
       "30565    211685.0\n",
       "Name: domain_id, dtype: float64"
      ]
     },
     "execution_count": 224,
     "metadata": {},
     "output_type": "execute_result"
    }
   ],
   "source": [
    "df_spam.iloc[[8367]].domain_id"
   ]
  },
  {
   "cell_type": "code",
   "execution_count": 225,
   "metadata": {},
   "outputs": [
    {
     "data": {
      "text/plain": [
       "96519"
      ]
     },
     "execution_count": 225,
     "metadata": {},
     "output_type": "execute_result"
    }
   ],
   "source": [
    "len(df_result)"
   ]
  },
  {
   "cell_type": "code",
   "execution_count": 226,
   "metadata": {},
   "outputs": [],
   "source": [
    "# 376969 + 59853"
   ]
  },
  {
   "cell_type": "markdown",
   "metadata": {},
   "source": [
    "### Merge với domain_info để thu được title_desc"
   ]
  },
  {
   "cell_type": "code",
   "execution_count": 227,
   "metadata": {},
   "outputs": [
    {
     "data": {
      "text/plain": [
       "407720"
      ]
     },
     "execution_count": 227,
     "metadata": {},
     "output_type": "execute_result"
    }
   ],
   "source": [
    "#domain_info\n",
    "len(df_unique)"
   ]
  },
  {
   "cell_type": "code",
   "execution_count": 228,
   "metadata": {},
   "outputs": [
    {
     "data": {
      "text/html": [
       "<div>\n",
       "<style scoped>\n",
       "    .dataframe tbody tr th:only-of-type {\n",
       "        vertical-align: middle;\n",
       "    }\n",
       "\n",
       "    .dataframe tbody tr th {\n",
       "        vertical-align: top;\n",
       "    }\n",
       "\n",
       "    .dataframe thead th {\n",
       "        text-align: right;\n",
       "    }\n",
       "</style>\n",
       "<table border=\"1\" class=\"dataframe\">\n",
       "  <thead>\n",
       "    <tr style=\"text-align: right;\">\n",
       "      <th></th>\n",
       "      <th>domain_clean</th>\n",
       "      <th>title_desc_preprocess</th>\n",
       "      <th>lang</th>\n",
       "    </tr>\n",
       "  </thead>\n",
       "  <tbody>\n",
       "    <tr>\n",
       "      <th>0</th>\n",
       "      <td>ketoanthuecanthobantin.blogspot.com</td>\n",
       "      <td>bản tin thuế công_ty_tnhh tây nam dịch_vụ báo_...</td>\n",
       "      <td>vi</td>\n",
       "    </tr>\n",
       "    <tr>\n",
       "      <th>1</th>\n",
       "      <td>raovattiengiang247.com</td>\n",
       "      <td>rao vat tien_giang mua ban tien_giang rao vat ...</td>\n",
       "      <td>vi</td>\n",
       "    </tr>\n",
       "    <tr>\n",
       "      <th>2</th>\n",
       "      <td>onthi.net.vn</td>\n",
       "      <td>cung_cấp kiến_thức lịch_sử việt nam và thế_giớ...</td>\n",
       "      <td>vi</td>\n",
       "    </tr>\n",
       "    <tr>\n",
       "      <th>3</th>\n",
       "      <td>xiudunvietnam.net.vn</td>\n",
       "      <td>máy đếm tiền xiudun việt nam giá rẻ trung_tâm ...</td>\n",
       "      <td>vi</td>\n",
       "    </tr>\n",
       "    <tr>\n",
       "      <th>4</th>\n",
       "      <td>phukienototanphu.com</td>\n",
       "      <td>đồ_chơi xe_hơi tân phú_ngọc sang chuyên đồ_chơ...</td>\n",
       "      <td>vi</td>\n",
       "    </tr>\n",
       "  </tbody>\n",
       "</table>\n",
       "</div>"
      ],
      "text/plain": [
       "                          domain_clean  \\\n",
       "0  ketoanthuecanthobantin.blogspot.com   \n",
       "1               raovattiengiang247.com   \n",
       "2                         onthi.net.vn   \n",
       "3                 xiudunvietnam.net.vn   \n",
       "4                 phukienototanphu.com   \n",
       "\n",
       "                               title_desc_preprocess lang  \n",
       "0  bản tin thuế công_ty_tnhh tây nam dịch_vụ báo_...   vi  \n",
       "1  rao vat tien_giang mua ban tien_giang rao vat ...   vi  \n",
       "2  cung_cấp kiến_thức lịch_sử việt nam và thế_giớ...   vi  \n",
       "3  máy đếm tiền xiudun việt nam giá rẻ trung_tâm ...   vi  \n",
       "4  đồ_chơi xe_hơi tân phú_ngọc sang chuyên đồ_chơ...   vi  "
      ]
     },
     "execution_count": 228,
     "metadata": {},
     "output_type": "execute_result"
    }
   ],
   "source": [
    "df_unique.head(5)"
   ]
  },
  {
   "cell_type": "code",
   "execution_count": 229,
   "metadata": {},
   "outputs": [],
   "source": [
    "df_info_unique = df_unique.rename(columns={\"domain_clean\": \"domain\"})"
   ]
  },
  {
   "cell_type": "code",
   "execution_count": 230,
   "metadata": {},
   "outputs": [],
   "source": [
    "# df_info_unique"
   ]
  },
  {
   "cell_type": "code",
   "execution_count": 231,
   "metadata": {},
   "outputs": [],
   "source": [
    "df_info_unique = df_info_unique.drop('lang', axis=1)"
   ]
  },
  {
   "cell_type": "code",
   "execution_count": 232,
   "metadata": {},
   "outputs": [
    {
     "data": {
      "text/plain": [
       "pandas.core.frame.DataFrame"
      ]
     },
     "execution_count": 232,
     "metadata": {},
     "output_type": "execute_result"
    }
   ],
   "source": [
    "type(df_info_unique)"
   ]
  },
  {
   "cell_type": "code",
   "execution_count": 233,
   "metadata": {},
   "outputs": [
    {
     "data": {
      "text/plain": [
       "407720"
      ]
     },
     "execution_count": 233,
     "metadata": {},
     "output_type": "execute_result"
    }
   ],
   "source": [
    "len(df_info_unique)"
   ]
  },
  {
   "cell_type": "code",
   "execution_count": 234,
   "metadata": {},
   "outputs": [],
   "source": [
    "df_spam = pd.merge(df_spam, df_info_unique, on = 'domain', how = 'inner')\n",
    "# df_spam = pd.merge(df_spam, df_info_unique, on = 'domain', how = 'inner', indicator=True)"
   ]
  },
  {
   "cell_type": "code",
   "execution_count": 235,
   "metadata": {},
   "outputs": [
    {
     "data": {
      "text/plain": [
       "892021"
      ]
     },
     "execution_count": 235,
     "metadata": {},
     "output_type": "execute_result"
    }
   ],
   "source": [
    "len(df_spam)"
   ]
  },
  {
   "cell_type": "code",
   "execution_count": 236,
   "metadata": {},
   "outputs": [],
   "source": [
    "df_spam['domain_id'] = df_spam['domain_id'].astype('Int64')\n",
    "df_spam['tree_version'] = df_spam['tree_version'].astype('Int64')\n",
    "df_spam['time'] = df_spam['time'].astype('Int64')\n",
    "df_spam['date'] = df_spam['date'].astype('Int64')"
   ]
  },
  {
   "cell_type": "code",
   "execution_count": 237,
   "metadata": {},
   "outputs": [
    {
     "data": {
      "text/html": [
       "<div>\n",
       "<style scoped>\n",
       "    .dataframe tbody tr th:only-of-type {\n",
       "        vertical-align: middle;\n",
       "    }\n",
       "\n",
       "    .dataframe tbody tr th {\n",
       "        vertical-align: top;\n",
       "    }\n",
       "\n",
       "    .dataframe thead th {\n",
       "        text-align: right;\n",
       "    }\n",
       "</style>\n",
       "<table border=\"1\" class=\"dataframe\">\n",
       "  <thead>\n",
       "    <tr style=\"text-align: right;\">\n",
       "      <th></th>\n",
       "      <th>domain_id</th>\n",
       "      <th>domain</th>\n",
       "      <th>IID</th>\n",
       "      <th>level_1</th>\n",
       "      <th>level_2</th>\n",
       "      <th>level_3</th>\n",
       "      <th>time</th>\n",
       "      <th>date</th>\n",
       "      <th>tree_version</th>\n",
       "      <th>lang</th>\n",
       "      <th>title_desc_preprocess</th>\n",
       "    </tr>\n",
       "  </thead>\n",
       "  <tbody>\n",
       "    <tr>\n",
       "      <th>0</th>\n",
       "      <td>516</td>\n",
       "      <td>www.vinapas.com</td>\n",
       "      <td>A029999</td>\n",
       "      <td>A000000</td>\n",
       "      <td>A020000</td>\n",
       "      <td>A029900</td>\n",
       "      <td>1582598448</td>\n",
       "      <td>202001</td>\n",
       "      <td>8</td>\n",
       "      <td>vi</td>\n",
       "      <td>trang_chủ_công_ty thhh thương_mại quốc_tế vina...</td>\n",
       "    </tr>\n",
       "    <tr>\n",
       "      <th>1</th>\n",
       "      <td>516</td>\n",
       "      <td>www.vinapas.com</td>\n",
       "      <td>E999999</td>\n",
       "      <td>E000000</td>\n",
       "      <td>E990000</td>\n",
       "      <td>E999900</td>\n",
       "      <td>1582598448</td>\n",
       "      <td>202001</td>\n",
       "      <td>8</td>\n",
       "      <td>vi</td>\n",
       "      <td>trang_chủ_công_ty thhh thương_mại quốc_tế vina...</td>\n",
       "    </tr>\n",
       "    <tr>\n",
       "      <th>2</th>\n",
       "      <td>516</td>\n",
       "      <td>www.vinapas.com</td>\n",
       "      <td>F999999</td>\n",
       "      <td>F000000</td>\n",
       "      <td>F990000</td>\n",
       "      <td>F999900</td>\n",
       "      <td>1582598448</td>\n",
       "      <td>202001</td>\n",
       "      <td>8</td>\n",
       "      <td>vi</td>\n",
       "      <td>trang_chủ_công_ty thhh thương_mại quốc_tế vina...</td>\n",
       "    </tr>\n",
       "    <tr>\n",
       "      <th>3</th>\n",
       "      <td>8154</td>\n",
       "      <td>baobithiennienky.com</td>\n",
       "      <td>A029999</td>\n",
       "      <td>A000000</td>\n",
       "      <td>A020000</td>\n",
       "      <td>A029900</td>\n",
       "      <td>1582598448</td>\n",
       "      <td>202001</td>\n",
       "      <td>8</td>\n",
       "      <td>vi</td>\n",
       "      <td>công_ty_tnhh thiên_niên_kỷ tuấn anh chuyên sản...</td>\n",
       "    </tr>\n",
       "    <tr>\n",
       "      <th>4</th>\n",
       "      <td>8154</td>\n",
       "      <td>baobithiennienky.com</td>\n",
       "      <td>E999999</td>\n",
       "      <td>E000000</td>\n",
       "      <td>E990000</td>\n",
       "      <td>E999900</td>\n",
       "      <td>1582598448</td>\n",
       "      <td>202001</td>\n",
       "      <td>8</td>\n",
       "      <td>vi</td>\n",
       "      <td>công_ty_tnhh thiên_niên_kỷ tuấn anh chuyên sản...</td>\n",
       "    </tr>\n",
       "    <tr>\n",
       "      <th>...</th>\n",
       "      <td>...</td>\n",
       "      <td>...</td>\n",
       "      <td>...</td>\n",
       "      <td>...</td>\n",
       "      <td>...</td>\n",
       "      <td>...</td>\n",
       "      <td>...</td>\n",
       "      <td>...</td>\n",
       "      <td>...</td>\n",
       "      <td>...</td>\n",
       "      <td>...</td>\n",
       "    </tr>\n",
       "    <tr>\n",
       "      <th>892016</th>\n",
       "      <td>407091</td>\n",
       "      <td>alternativebrewing.com.au</td>\n",
       "      <td>F999999</td>\n",
       "      <td>F000000</td>\n",
       "      <td>F990000</td>\n",
       "      <td>F999900</td>\n",
       "      <td>1582598448</td>\n",
       "      <td>202001</td>\n",
       "      <td>8</td>\n",
       "      <td>en</td>\n",
       "      <td>pour coffee drip coffee alternative brewing al...</td>\n",
       "    </tr>\n",
       "    <tr>\n",
       "      <th>892017</th>\n",
       "      <td>407342</td>\n",
       "      <td>nbtrade.com.au</td>\n",
       "      <td>F999999</td>\n",
       "      <td>F000000</td>\n",
       "      <td>F990000</td>\n",
       "      <td>F999900</td>\n",
       "      <td>1582598448</td>\n",
       "      <td>202001</td>\n",
       "      <td>8</td>\n",
       "      <td>en</td>\n",
       "      <td>murwillumbah tweed head business directory fin...</td>\n",
       "    </tr>\n",
       "    <tr>\n",
       "      <th>892018</th>\n",
       "      <td>407607</td>\n",
       "      <td>dutchbros.com</td>\n",
       "      <td>F999999</td>\n",
       "      <td>F000000</td>\n",
       "      <td>F990000</td>\n",
       "      <td>F999900</td>\n",
       "      <td>1582598448</td>\n",
       "      <td>202001</td>\n",
       "      <td>8</td>\n",
       "      <td>en</td>\n",
       "      <td>dutch bros coffee shop get dutch bros experien...</td>\n",
       "    </tr>\n",
       "    <tr>\n",
       "      <th>892019</th>\n",
       "      <td>3130</td>\n",
       "      <td>khogahoanganh.wordpress.com</td>\n",
       "      <td>G999999</td>\n",
       "      <td>G000000</td>\n",
       "      <td>G990000</td>\n",
       "      <td>G999900</td>\n",
       "      <td>1582598448</td>\n",
       "      <td>202001</td>\n",
       "      <td>8</td>\n",
       "      <td>vi</td>\n",
       "      <td>quà đặc_sản chuyên các loại đặc_sản miền zalo ...</td>\n",
       "    </tr>\n",
       "    <tr>\n",
       "      <th>892020</th>\n",
       "      <td>136150</td>\n",
       "      <td>dayifoodmachine01.com</td>\n",
       "      <td>G999999</td>\n",
       "      <td>G000000</td>\n",
       "      <td>G990000</td>\n",
       "      <td>G999900</td>\n",
       "      <td>1582598448</td>\n",
       "      <td>202001</td>\n",
       "      <td>8</td>\n",
       "      <td>vi</td>\n",
       "      <td>chế_biến thực_phẩm snack line ăn_chay thực_phẩ...</td>\n",
       "    </tr>\n",
       "  </tbody>\n",
       "</table>\n",
       "<p>892021 rows × 11 columns</p>\n",
       "</div>"
      ],
      "text/plain": [
       "        domain_id                       domain      IID  level_1  level_2  \\\n",
       "0             516              www.vinapas.com  A029999  A000000  A020000   \n",
       "1             516              www.vinapas.com  E999999  E000000  E990000   \n",
       "2             516              www.vinapas.com  F999999  F000000  F990000   \n",
       "3            8154         baobithiennienky.com  A029999  A000000  A020000   \n",
       "4            8154         baobithiennienky.com  E999999  E000000  E990000   \n",
       "...           ...                          ...      ...      ...      ...   \n",
       "892016     407091    alternativebrewing.com.au  F999999  F000000  F990000   \n",
       "892017     407342               nbtrade.com.au  F999999  F000000  F990000   \n",
       "892018     407607                dutchbros.com  F999999  F000000  F990000   \n",
       "892019       3130  khogahoanganh.wordpress.com  G999999  G000000  G990000   \n",
       "892020     136150        dayifoodmachine01.com  G999999  G000000  G990000   \n",
       "\n",
       "        level_3        time    date  tree_version lang  \\\n",
       "0       A029900  1582598448  202001             8   vi   \n",
       "1       E999900  1582598448  202001             8   vi   \n",
       "2       F999900  1582598448  202001             8   vi   \n",
       "3       A029900  1582598448  202001             8   vi   \n",
       "4       E999900  1582598448  202001             8   vi   \n",
       "...         ...         ...     ...           ...  ...   \n",
       "892016  F999900  1582598448  202001             8   en   \n",
       "892017  F999900  1582598448  202001             8   en   \n",
       "892018  F999900  1582598448  202001             8   en   \n",
       "892019  G999900  1582598448  202001             8   vi   \n",
       "892020  G999900  1582598448  202001             8   vi   \n",
       "\n",
       "                                    title_desc_preprocess  \n",
       "0       trang_chủ_công_ty thhh thương_mại quốc_tế vina...  \n",
       "1       trang_chủ_công_ty thhh thương_mại quốc_tế vina...  \n",
       "2       trang_chủ_công_ty thhh thương_mại quốc_tế vina...  \n",
       "3       công_ty_tnhh thiên_niên_kỷ tuấn anh chuyên sản...  \n",
       "4       công_ty_tnhh thiên_niên_kỷ tuấn anh chuyên sản...  \n",
       "...                                                   ...  \n",
       "892016  pour coffee drip coffee alternative brewing al...  \n",
       "892017  murwillumbah tweed head business directory fin...  \n",
       "892018  dutch bros coffee shop get dutch bros experien...  \n",
       "892019  quà đặc_sản chuyên các loại đặc_sản miền zalo ...  \n",
       "892020  chế_biến thực_phẩm snack line ăn_chay thực_phẩ...  \n",
       "\n",
       "[892021 rows x 11 columns]"
      ]
     },
     "execution_count": 237,
     "metadata": {},
     "output_type": "execute_result"
    }
   ],
   "source": [
    "df_spam"
   ]
  },
  {
   "cell_type": "code",
   "execution_count": 238,
   "metadata": {},
   "outputs": [
    {
     "data": {
      "text/plain": [
       "96519"
      ]
     },
     "execution_count": 238,
     "metadata": {},
     "output_type": "execute_result"
    }
   ],
   "source": [
    "len(df_result)"
   ]
  },
  {
   "cell_type": "code",
   "execution_count": 239,
   "metadata": {},
   "outputs": [],
   "source": [
    "df_result = pd.merge(df_result, df_info_unique, on = 'domain', how = 'inner')"
   ]
  },
  {
   "cell_type": "code",
   "execution_count": 240,
   "metadata": {},
   "outputs": [],
   "source": [
    "# df_result.iloc[[257]].tree_version"
   ]
  },
  {
   "cell_type": "code",
   "execution_count": 241,
   "metadata": {},
   "outputs": [
    {
     "data": {
      "text/plain": [
       "96519"
      ]
     },
     "execution_count": 241,
     "metadata": {},
     "output_type": "execute_result"
    }
   ],
   "source": [
    "len(df_result)"
   ]
  },
  {
   "cell_type": "markdown",
   "metadata": {},
   "source": [
    "### Write to file"
   ]
  },
  {
   "cell_type": "code",
   "execution_count": 242,
   "metadata": {},
   "outputs": [],
   "source": [
    "# df_spam\n",
    "# df_result"
   ]
  },
  {
   "cell_type": "code",
   "execution_count": 243,
   "metadata": {},
   "outputs": [],
   "source": [
    "# \tdomain_id\tdomain\tIID\tlevel_1\tlevel_2\tlevel_3\ttime\tdate\ttree_version\tlang"
   ]
  },
  {
   "cell_type": "code",
   "execution_count": 244,
   "metadata": {},
   "outputs": [],
   "source": [
    "import time\n",
    "def write_result(path_result, df_write):\n",
    "    # for row_test in df_result_test.itertuples():\n",
    "    print(\"Writing result data to csv file:\", path_result)\n",
    "    overall_start_time = time.time()\n",
    "    start_time = time.time()\n",
    "    end_time = time.time()\n",
    "    count_batch = 0\n",
    "    batch_size = 10000\n",
    "    with open(path_result, 'w', encoding='utf-8') as result_file:\n",
    "        f_writer = csv.writer(result_file, delimiter='|')\n",
    "        f_writer.writerow(['domain_id', 'domain', 'IID', \n",
    "                           'level_1', 'level_2', 'level_3', \n",
    "                           'time', 'date','tree_version', \n",
    "                           'lang', 'title_desc_preprocess'])\n",
    "        for row in df_write.itertuples():\n",
    "            count_batch += 1\n",
    "            if count_batch % batch_size == 0:\n",
    "#                 print(\"Loading {}/{}, time to process: {}s, total: {}s\"\n",
    "#                       .format(count_batch,\n",
    "#                               total_count,\n",
    "#                               round(time.time() - start_time, 2),\n",
    "#                               round(time.time() - overall_start_time, 2)))\n",
    "                start_time = time.time()\n",
    "            f_writer.writerow([row.domain_id, row.domain, row.IID, \n",
    "                               row.level_1, row.level_2, row.level_3, \n",
    "                               row.time, row.date, row.tree_version, \n",
    "                               row.lang, row.title_desc_preprocess])\n",
    "    print(\"Done writing csv result data\")"
   ]
  },
  {
   "cell_type": "code",
   "execution_count": 245,
   "metadata": {},
   "outputs": [
    {
     "name": "stdout",
     "output_type": "stream",
     "text": [
      "Writing result data to csv file: /home/polynote/notebooks/anhdt157/classify-use-ml/end-to-end-final-predict/train_test_data/test/data-test-spam-202001.csv\n",
      "Done writing csv result data\n"
     ]
    }
   ],
   "source": [
    "# Spam file\n",
    "write_result(output_test_spam, df_spam)"
   ]
  },
  {
   "cell_type": "code",
   "execution_count": 246,
   "metadata": {},
   "outputs": [
    {
     "name": "stdout",
     "output_type": "stream",
     "text": [
      "Writing result data to csv file: /home/polynote/notebooks/anhdt157/classify-use-ml/end-to-end-final-predict/train_test_data/test/data-test-not-spam-202001.csv\n",
      "Done writing csv result data\n"
     ]
    }
   ],
   "source": [
    "# Not spam file\n",
    "write_result(output_test_not_spam, df_result)"
   ]
  },
  {
   "cell_type": "markdown",
   "metadata": {},
   "source": [
    "### READ TEST FILE"
   ]
  },
  {
   "cell_type": "code",
   "execution_count": 247,
   "metadata": {},
   "outputs": [],
   "source": [
    "df_test_spam_ = pd.read_csv(output_test_spam, delimiter='|')"
   ]
  },
  {
   "cell_type": "code",
   "execution_count": 248,
   "metadata": {},
   "outputs": [
    {
     "data": {
      "text/plain": [
       "892021"
      ]
     },
     "execution_count": 248,
     "metadata": {},
     "output_type": "execute_result"
    }
   ],
   "source": [
    "len(df_test_spam_)"
   ]
  },
  {
   "cell_type": "code",
   "execution_count": 249,
   "metadata": {},
   "outputs": [],
   "source": [
    "df_test_not_spam_ = pd.read_csv(output_test_not_spam, delimiter='|')"
   ]
  },
  {
   "cell_type": "code",
   "execution_count": 250,
   "metadata": {},
   "outputs": [
    {
     "data": {
      "text/plain": [
       "96519"
      ]
     },
     "execution_count": 250,
     "metadata": {},
     "output_type": "execute_result"
    }
   ],
   "source": [
    "len(df_test_not_spam_)"
   ]
  },
  {
   "cell_type": "code",
   "execution_count": 251,
   "metadata": {},
   "outputs": [],
   "source": [
    "# type(df_result)\n",
    "# output_test_not_spam\n",
    "# output_test_spam"
   ]
  },
  {
   "cell_type": "code",
   "execution_count": null,
   "metadata": {},
   "outputs": [],
   "source": []
  },
  {
   "cell_type": "code",
   "execution_count": 252,
   "metadata": {},
   "outputs": [],
   "source": [
    "# df_result_test = pd.core.frame.DataFrame()"
   ]
  },
  {
   "cell_type": "code",
   "execution_count": 253,
   "metadata": {},
   "outputs": [],
   "source": [
    "# type(df_result_test)"
   ]
  },
  {
   "cell_type": "code",
   "execution_count": 254,
   "metadata": {},
   "outputs": [],
   "source": [
    "# df_result_test"
   ]
  },
  {
   "cell_type": "code",
   "execution_count": 255,
   "metadata": {},
   "outputs": [],
   "source": [
    "# len(df_result)"
   ]
  },
  {
   "cell_type": "code",
   "execution_count": 256,
   "metadata": {},
   "outputs": [],
   "source": [
    "# df_result"
   ]
  },
  {
   "cell_type": "code",
   "execution_count": null,
   "metadata": {},
   "outputs": [],
   "source": []
  },
  {
   "cell_type": "markdown",
   "metadata": {},
   "source": [
    "## Write ra file những domain không parse được"
   ]
  },
  {
   "cell_type": "code",
   "execution_count": 257,
   "metadata": {},
   "outputs": [],
   "source": [
    "# output_test_cant_parsing"
   ]
  },
  {
   "cell_type": "code",
   "execution_count": 258,
   "metadata": {},
   "outputs": [
    {
     "data": {
      "text/plain": [
       "407720"
      ]
     },
     "execution_count": 258,
     "metadata": {},
     "output_type": "execute_result"
    }
   ],
   "source": [
    "#domain_info\n",
    "len(df_unique)"
   ]
  },
  {
   "cell_type": "code",
   "execution_count": 259,
   "metadata": {},
   "outputs": [
    {
     "data": {
      "text/plain": [
       "988540"
      ]
     },
     "execution_count": 259,
     "metadata": {},
     "output_type": "execute_result"
    }
   ],
   "source": [
    "#domain_parsed\n",
    "len(df_result_all)"
   ]
  },
  {
   "cell_type": "code",
   "execution_count": 260,
   "metadata": {},
   "outputs": [
    {
     "data": {
      "text/plain": [
       "407720"
      ]
     },
     "execution_count": 260,
     "metadata": {},
     "output_type": "execute_result"
    }
   ],
   "source": [
    "len(df_unique)"
   ]
  },
  {
   "cell_type": "code",
   "execution_count": 261,
   "metadata": {},
   "outputs": [],
   "source": [
    "# df_unique"
   ]
  },
  {
   "cell_type": "code",
   "execution_count": 262,
   "metadata": {},
   "outputs": [],
   "source": [
    "# df_result_all.head(20)"
   ]
  },
  {
   "cell_type": "code",
   "execution_count": 263,
   "metadata": {},
   "outputs": [],
   "source": [
    "#select only\n",
    "df_result_distinct = df_result_all\n",
    "df_result_distinct = df_result_distinct.drop(['domain_id', 'level_1', 'level_2', \n",
    "                                         'level_3', 'time', 'date', 'tree_version', 'lang'], axis=1).drop_duplicates(subset=['domain'])\n",
    "# df_result_spam = df_result_all[(~df_result_all.domain.isin(df_result.domain)) & (~df_result_all.IID.isin(df_result.IID))]"
   ]
  },
  {
   "cell_type": "code",
   "execution_count": 264,
   "metadata": {},
   "outputs": [
    {
     "data": {
      "text/plain": [
       "407720"
      ]
     },
     "execution_count": 264,
     "metadata": {},
     "output_type": "execute_result"
    }
   ],
   "source": [
    "len(df_result_distinct)"
   ]
  },
  {
   "cell_type": "code",
   "execution_count": 265,
   "metadata": {},
   "outputs": [
    {
     "data": {
      "text/plain": [
       "988540"
      ]
     },
     "execution_count": 265,
     "metadata": {},
     "output_type": "execute_result"
    }
   ],
   "source": [
    "len(df_result_all)"
   ]
  },
  {
   "cell_type": "code",
   "execution_count": 266,
   "metadata": {},
   "outputs": [],
   "source": [
    "df_cant_parsing = df_unique[~df_unique.domain_clean.isin(df_result_distinct.domain)]"
   ]
  },
  {
   "cell_type": "code",
   "execution_count": 267,
   "metadata": {},
   "outputs": [
    {
     "data": {
      "text/html": [
       "<div>\n",
       "<style scoped>\n",
       "    .dataframe tbody tr th:only-of-type {\n",
       "        vertical-align: middle;\n",
       "    }\n",
       "\n",
       "    .dataframe tbody tr th {\n",
       "        vertical-align: top;\n",
       "    }\n",
       "\n",
       "    .dataframe thead th {\n",
       "        text-align: right;\n",
       "    }\n",
       "</style>\n",
       "<table border=\"1\" class=\"dataframe\">\n",
       "  <thead>\n",
       "    <tr style=\"text-align: right;\">\n",
       "      <th></th>\n",
       "      <th>domain_clean</th>\n",
       "      <th>title_desc_preprocess</th>\n",
       "      <th>lang</th>\n",
       "    </tr>\n",
       "  </thead>\n",
       "  <tbody>\n",
       "  </tbody>\n",
       "</table>\n",
       "</div>"
      ],
      "text/plain": [
       "Empty DataFrame\n",
       "Columns: [domain_clean, title_desc_preprocess, lang]\n",
       "Index: []"
      ]
     },
     "execution_count": 267,
     "metadata": {},
     "output_type": "execute_result"
    }
   ],
   "source": [
    "df_cant_parsing"
   ]
  },
  {
   "cell_type": "code",
   "execution_count": 268,
   "metadata": {},
   "outputs": [],
   "source": [
    "# df_s = pd.merge(df_spam, df_info_unique, on = 'domain', how = 'inner')"
   ]
  },
  {
   "cell_type": "code",
   "execution_count": 269,
   "metadata": {},
   "outputs": [],
   "source": [
    "# Write to file - output_test_cant_parsing"
   ]
  },
  {
   "cell_type": "code",
   "execution_count": 270,
   "metadata": {},
   "outputs": [
    {
     "data": {
      "text/plain": [
       "0"
      ]
     },
     "execution_count": 270,
     "metadata": {},
     "output_type": "execute_result"
    }
   ],
   "source": [
    "len(df_cant_parsing)"
   ]
  },
  {
   "cell_type": "code",
   "execution_count": 271,
   "metadata": {},
   "outputs": [],
   "source": [
    "def write_to_cant_parsing_file(df_cant_parsing, output_file_name):\n",
    "    print(\"Writing data to csv file\", output_file_name)\n",
    "    with open(output_file_name, \"w\") as f:\n",
    "        f_writer = csv.writer(f, delimiter='|')\n",
    "        f_writer.writerow(\n",
    "            ['domain_clean', 'title_desc_preprocess', 'lang'])\n",
    "        for row in df_cant_parsing.itertuples():\n",
    "            f_writer.writerow([row.domain_clean, row.title_desc_preprocess, row.lang])\n",
    "    print(\"Done writing csv data\")"
   ]
  },
  {
   "cell_type": "code",
   "execution_count": 272,
   "metadata": {},
   "outputs": [
    {
     "name": "stdout",
     "output_type": "stream",
     "text": [
      "Writing data to csv file /home/polynote/notebooks/anhdt157/classify-use-ml/end-to-end-final-predict/train_test_data/test/dinfo-data-test-cant-parsing-202001.csv\n",
      "Done writing csv data\n"
     ]
    }
   ],
   "source": [
    "write_to_cant_parsing_file(df_cant_parsing, output_test_cant_parsing)"
   ]
  },
  {
   "cell_type": "markdown",
   "metadata": {},
   "source": [
    "# END"
   ]
  },
  {
   "cell_type": "code",
   "execution_count": null,
   "metadata": {},
   "outputs": [],
   "source": []
  },
  {
   "cell_type": "code",
   "execution_count": null,
   "metadata": {},
   "outputs": [],
   "source": []
  }
 ],
 "metadata": {
  "kernelspec": {
   "display_name": "Python 3",
   "language": "python",
   "name": "python3"
  },
  "language_info": {
   "codemirror_mode": {
    "name": "ipython",
    "version": 3
   },
   "file_extension": ".py",
   "mimetype": "text/x-python",
   "name": "python",
   "nbconvert_exporter": "python",
   "pygments_lexer": "ipython3",
   "version": "3.6.8"
  }
 },
 "nbformat": 4,
 "nbformat_minor": 2
}
