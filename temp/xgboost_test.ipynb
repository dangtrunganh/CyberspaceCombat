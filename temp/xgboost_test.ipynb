{
 "cells": [
  {
   "cell_type": "code",
   "execution_count": 1,
   "metadata": {},
   "outputs": [
    {
     "name": "stdout",
     "output_type": "stream",
     "text": [
      "              total        used        free      shared  buff/cache   available\r\n",
      "Mem:      164620976    38465772    19144524      165908   107010680   124942000\r\n",
      "Swap:      16777212        4616    16772596\r\n"
     ]
    }
   ],
   "source": [
    "# Phân loại domain sử dụng XGBoost\n",
    "!free"
   ]
  },
  {
   "cell_type": "code",
   "execution_count": 2,
   "metadata": {},
   "outputs": [
    {
     "name": "stdout",
     "output_type": "stream",
     "text": [
      "/home/polynote/notebooks/anhdt157/classify-use-ml/end-to-end-final-predict\r\n"
     ]
    }
   ],
   "source": [
    "!pwd"
   ]
  },
  {
   "cell_type": "code",
   "execution_count": 3,
   "metadata": {},
   "outputs": [
    {
     "name": "stderr",
     "output_type": "stream",
     "text": [
      "/home/polynote/.local/lib/python3.6/site-packages/sklearn/externals/joblib/__init__.py:15: FutureWarning: sklearn.externals.joblib is deprecated in 0.21 and will be removed in 0.23. Please import this functionality directly from joblib, which can be installed with: pip install joblib. If this warning is raised when loading pickled models, you may need to re-serialize those models with scikit-learn 0.21+.\n",
      "  warnings.warn(msg, category=FutureWarning)\n"
     ]
    }
   ],
   "source": [
    "import sklearn\n",
    "import pandas as pd\n",
    "from io import open as open_unicode\n",
    "import csv\n",
    "from sklearn.feature_extraction.text import TfidfVectorizer\n",
    "from sklearn.externals import joblib\n",
    "from sklearn.metrics import accuracy_score\n",
    "from collections import Counter\n",
    "from xgboost import XGBClassifier\n",
    "import time\n",
    "import os"
   ]
  },
  {
   "cell_type": "markdown",
   "metadata": {},
   "source": [
    "# PARAMS"
   ]
  },
  {
   "cell_type": "code",
   "execution_count": 4,
   "metadata": {},
   "outputs": [],
   "source": [
    "# input - PARAMS\n",
    "# root_dir = '/home/datamon/anhdt157/'\n",
    "current_root = '/home/polynote/notebooks/anhdt157/classify-use-ml/end-to-end-final-predict/'"
   ]
  },
  {
   "cell_type": "code",
   "execution_count": 5,
   "metadata": {},
   "outputs": [],
   "source": [
    "# output path\n",
    "MODE = 'vi' # NEED TO MODIFY vi or en\n",
    "MONTH = '202001' # NEED TO MODIFY\n",
    "TREE_VERSION = '8' #MODIFY - FOR UNIFING"
   ]
  },
  {
   "cell_type": "code",
   "execution_count": 6,
   "metadata": {},
   "outputs": [],
   "source": [
    "input_test_cant_parsing = current_root + 'train_test_data/test/dinfo-data-test-cant-parsing-' + MONTH + '.csv'\n",
    "input_test_spam = current_root + 'train_test_data/test/data-test-spam-' + MONTH + '.csv'\n",
    "# dict IID to label\n",
    "input_dict_IID_use = current_root + 'train_test_data/dict_IID_label/' + MODE + '-dict-IID-label-' + MONTH + '.csv'"
   ]
  },
  {
   "cell_type": "code",
   "execution_count": 7,
   "metadata": {},
   "outputs": [],
   "source": [
    "model_path = current_root + 'model/model-each-month/' + MODE + '-model-' + MONTH + '.pkl'\n",
    "vector_path = current_root + 'model/model-each-month/' + MODE + '-vectorizer-' + MONTH + '.pkl'"
   ]
  },
  {
   "cell_type": "code",
   "execution_count": 8,
   "metadata": {},
   "outputs": [],
   "source": [
    "OUTPUT_PREDICT_ONLY_PREDICT = current_root + 'result_predict/' + MODE + '_predict' + '_' + MONTH + '_only_predict.csv'"
   ]
  },
  {
   "cell_type": "code",
   "execution_count": 9,
   "metadata": {},
   "outputs": [],
   "source": [
    "PATH_EXCEPT_TREE = current_root + 'old_logic/tree/Except_keywords_ml_v8_20200220.xlsx'"
   ]
  },
  {
   "cell_type": "code",
   "execution_count": 10,
   "metadata": {},
   "outputs": [],
   "source": [
    "df_test_spam = pd.read_csv(input_test_spam, \"|\")\n",
    "df_test_cant_parsing = pd.read_csv(input_test_cant_parsing, \"|\")"
   ]
  },
  {
   "cell_type": "code",
   "execution_count": 11,
   "metadata": {},
   "outputs": [
    {
     "data": {
      "text/plain": [
       "892021"
      ]
     },
     "execution_count": 11,
     "metadata": {},
     "output_type": "execute_result"
    }
   ],
   "source": [
    "len(df_test_spam)"
   ]
  },
  {
   "cell_type": "code",
   "execution_count": 12,
   "metadata": {},
   "outputs": [
    {
     "data": {
      "text/html": [
       "<div>\n",
       "<style scoped>\n",
       "    .dataframe tbody tr th:only-of-type {\n",
       "        vertical-align: middle;\n",
       "    }\n",
       "\n",
       "    .dataframe tbody tr th {\n",
       "        vertical-align: top;\n",
       "    }\n",
       "\n",
       "    .dataframe thead th {\n",
       "        text-align: right;\n",
       "    }\n",
       "</style>\n",
       "<table border=\"1\" class=\"dataframe\">\n",
       "  <thead>\n",
       "    <tr style=\"text-align: right;\">\n",
       "      <th></th>\n",
       "      <th>domain_id</th>\n",
       "      <th>domain</th>\n",
       "      <th>IID</th>\n",
       "      <th>level_1</th>\n",
       "      <th>level_2</th>\n",
       "      <th>level_3</th>\n",
       "      <th>time</th>\n",
       "      <th>date</th>\n",
       "      <th>tree_version</th>\n",
       "      <th>lang</th>\n",
       "      <th>title_desc_preprocess</th>\n",
       "    </tr>\n",
       "  </thead>\n",
       "  <tbody>\n",
       "    <tr>\n",
       "      <th>0</th>\n",
       "      <td>516</td>\n",
       "      <td>www.vinapas.com</td>\n",
       "      <td>A029999</td>\n",
       "      <td>A000000</td>\n",
       "      <td>A020000</td>\n",
       "      <td>A029900</td>\n",
       "      <td>1582598448</td>\n",
       "      <td>202001</td>\n",
       "      <td>8</td>\n",
       "      <td>vi</td>\n",
       "      <td>trang_chủ_công_ty thhh thương_mại quốc_tế vina...</td>\n",
       "    </tr>\n",
       "    <tr>\n",
       "      <th>1</th>\n",
       "      <td>516</td>\n",
       "      <td>www.vinapas.com</td>\n",
       "      <td>E999999</td>\n",
       "      <td>E000000</td>\n",
       "      <td>E990000</td>\n",
       "      <td>E999900</td>\n",
       "      <td>1582598448</td>\n",
       "      <td>202001</td>\n",
       "      <td>8</td>\n",
       "      <td>vi</td>\n",
       "      <td>trang_chủ_công_ty thhh thương_mại quốc_tế vina...</td>\n",
       "    </tr>\n",
       "  </tbody>\n",
       "</table>\n",
       "</div>"
      ],
      "text/plain": [
       "   domain_id           domain      IID  level_1  level_2  level_3        time  \\\n",
       "0        516  www.vinapas.com  A029999  A000000  A020000  A029900  1582598448   \n",
       "1        516  www.vinapas.com  E999999  E000000  E990000  E999900  1582598448   \n",
       "\n",
       "     date  tree_version lang  \\\n",
       "0  202001             8   vi   \n",
       "1  202001             8   vi   \n",
       "\n",
       "                               title_desc_preprocess  \n",
       "0  trang_chủ_công_ty thhh thương_mại quốc_tế vina...  \n",
       "1  trang_chủ_công_ty thhh thương_mại quốc_tế vina...  "
      ]
     },
     "execution_count": 12,
     "metadata": {},
     "output_type": "execute_result"
    }
   ],
   "source": [
    "df_test_spam.head(2)"
   ]
  },
  {
   "cell_type": "code",
   "execution_count": 13,
   "metadata": {},
   "outputs": [],
   "source": [
    "# return dict_IID_to_label and dict_label_to_IID\n",
    "def read_dict_IID_label_file(path_dict):\n",
    "    df_IID_to_label = pd.read_csv(path_dict, delimiter='|')\n",
    "    dict_label_to_IID = {}\n",
    "    dict_IID_to_label = {}\n",
    "    for index, row in df_IID_to_label.iterrows():\n",
    "        dict_IID_to_label[row['IID']] = row['label']\n",
    "        dict_label_to_IID[row['label']] = row['IID']\n",
    "    return dict_label_to_IID, dict_IID_to_label"
   ]
  },
  {
   "cell_type": "code",
   "execution_count": 14,
   "metadata": {},
   "outputs": [],
   "source": [
    "dict_label_to_IID_use, dict_IID_to_label_use = read_dict_IID_label_file(input_dict_IID_use)"
   ]
  },
  {
   "cell_type": "code",
   "execution_count": 15,
   "metadata": {},
   "outputs": [],
   "source": [
    "df_test_spam_use = df_test_spam[df_test_spam['lang'] == MODE]\n",
    "df_test_cant_parsing_use = df_test_cant_parsing[df_test_cant_parsing['lang'] == MODE]"
   ]
  },
  {
   "cell_type": "code",
   "execution_count": 16,
   "metadata": {},
   "outputs": [
    {
     "data": {
      "text/plain": [
       "333551"
      ]
     },
     "execution_count": 16,
     "metadata": {},
     "output_type": "execute_result"
    }
   ],
   "source": [
    "len(df_test_spam_use)"
   ]
  },
  {
   "cell_type": "code",
   "execution_count": 17,
   "metadata": {},
   "outputs": [
    {
     "data": {
      "text/html": [
       "<div>\n",
       "<style scoped>\n",
       "    .dataframe tbody tr th:only-of-type {\n",
       "        vertical-align: middle;\n",
       "    }\n",
       "\n",
       "    .dataframe tbody tr th {\n",
       "        vertical-align: top;\n",
       "    }\n",
       "\n",
       "    .dataframe thead th {\n",
       "        text-align: right;\n",
       "    }\n",
       "</style>\n",
       "<table border=\"1\" class=\"dataframe\">\n",
       "  <thead>\n",
       "    <tr style=\"text-align: right;\">\n",
       "      <th></th>\n",
       "      <th>domain_id</th>\n",
       "      <th>domain</th>\n",
       "      <th>IID</th>\n",
       "      <th>level_1</th>\n",
       "      <th>level_2</th>\n",
       "      <th>level_3</th>\n",
       "      <th>time</th>\n",
       "      <th>date</th>\n",
       "      <th>tree_version</th>\n",
       "      <th>lang</th>\n",
       "      <th>title_desc_preprocess</th>\n",
       "    </tr>\n",
       "  </thead>\n",
       "  <tbody>\n",
       "    <tr>\n",
       "      <th>0</th>\n",
       "      <td>516</td>\n",
       "      <td>www.vinapas.com</td>\n",
       "      <td>A029999</td>\n",
       "      <td>A000000</td>\n",
       "      <td>A020000</td>\n",
       "      <td>A029900</td>\n",
       "      <td>1582598448</td>\n",
       "      <td>202001</td>\n",
       "      <td>8</td>\n",
       "      <td>vi</td>\n",
       "      <td>trang_chủ_công_ty thhh thương_mại quốc_tế vina...</td>\n",
       "    </tr>\n",
       "    <tr>\n",
       "      <th>1</th>\n",
       "      <td>516</td>\n",
       "      <td>www.vinapas.com</td>\n",
       "      <td>E999999</td>\n",
       "      <td>E000000</td>\n",
       "      <td>E990000</td>\n",
       "      <td>E999900</td>\n",
       "      <td>1582598448</td>\n",
       "      <td>202001</td>\n",
       "      <td>8</td>\n",
       "      <td>vi</td>\n",
       "      <td>trang_chủ_công_ty thhh thương_mại quốc_tế vina...</td>\n",
       "    </tr>\n",
       "  </tbody>\n",
       "</table>\n",
       "</div>"
      ],
      "text/plain": [
       "   domain_id           domain      IID  level_1  level_2  level_3        time  \\\n",
       "0        516  www.vinapas.com  A029999  A000000  A020000  A029900  1582598448   \n",
       "1        516  www.vinapas.com  E999999  E000000  E990000  E999900  1582598448   \n",
       "\n",
       "     date  tree_version lang  \\\n",
       "0  202001             8   vi   \n",
       "1  202001             8   vi   \n",
       "\n",
       "                               title_desc_preprocess  \n",
       "0  trang_chủ_công_ty thhh thương_mại quốc_tế vina...  \n",
       "1  trang_chủ_công_ty thhh thương_mại quốc_tế vina...  "
      ]
     },
     "execution_count": 17,
     "metadata": {},
     "output_type": "execute_result"
    }
   ],
   "source": [
    "df_test_spam_use.head(2)"
   ]
  },
  {
   "cell_type": "code",
   "execution_count": 18,
   "metadata": {},
   "outputs": [
    {
     "data": {
      "text/html": [
       "<div>\n",
       "<style scoped>\n",
       "    .dataframe tbody tr th:only-of-type {\n",
       "        vertical-align: middle;\n",
       "    }\n",
       "\n",
       "    .dataframe tbody tr th {\n",
       "        vertical-align: top;\n",
       "    }\n",
       "\n",
       "    .dataframe thead th {\n",
       "        text-align: right;\n",
       "    }\n",
       "</style>\n",
       "<table border=\"1\" class=\"dataframe\">\n",
       "  <thead>\n",
       "    <tr style=\"text-align: right;\">\n",
       "      <th></th>\n",
       "      <th>domain_clean</th>\n",
       "      <th>title_desc_preprocess</th>\n",
       "      <th>lang</th>\n",
       "    </tr>\n",
       "  </thead>\n",
       "  <tbody>\n",
       "  </tbody>\n",
       "</table>\n",
       "</div>"
      ],
      "text/plain": [
       "Empty DataFrame\n",
       "Columns: [domain_clean, title_desc_preprocess, lang]\n",
       "Index: []"
      ]
     },
     "execution_count": 18,
     "metadata": {},
     "output_type": "execute_result"
    }
   ],
   "source": [
    "df_test_cant_parsing_use.head(2)"
   ]
  },
  {
   "cell_type": "code",
   "execution_count": 19,
   "metadata": {},
   "outputs": [],
   "source": [
    "df_test_cant_parsing_use = df_test_cant_parsing_use.drop(['lang'], axis=1)\n",
    "df_test_cant_parsing_use = df_test_cant_parsing_use.rename(columns={\"domain_clean\": \"domain\"})\n",
    "df_test_cant_parsing_use = df_test_cant_parsing_use.drop_duplicates(subset=['domain'])"
   ]
  },
  {
   "cell_type": "code",
   "execution_count": 20,
   "metadata": {},
   "outputs": [
    {
     "data": {
      "text/html": [
       "<div>\n",
       "<style scoped>\n",
       "    .dataframe tbody tr th:only-of-type {\n",
       "        vertical-align: middle;\n",
       "    }\n",
       "\n",
       "    .dataframe tbody tr th {\n",
       "        vertical-align: top;\n",
       "    }\n",
       "\n",
       "    .dataframe thead th {\n",
       "        text-align: right;\n",
       "    }\n",
       "</style>\n",
       "<table border=\"1\" class=\"dataframe\">\n",
       "  <thead>\n",
       "    <tr style=\"text-align: right;\">\n",
       "      <th></th>\n",
       "      <th>domain</th>\n",
       "      <th>title_desc_preprocess</th>\n",
       "    </tr>\n",
       "  </thead>\n",
       "  <tbody>\n",
       "  </tbody>\n",
       "</table>\n",
       "</div>"
      ],
      "text/plain": [
       "Empty DataFrame\n",
       "Columns: [domain, title_desc_preprocess]\n",
       "Index: []"
      ]
     },
     "execution_count": 20,
     "metadata": {},
     "output_type": "execute_result"
    }
   ],
   "source": [
    "df_test_cant_parsing_use.head(5)"
   ]
  },
  {
   "cell_type": "code",
   "execution_count": 21,
   "metadata": {},
   "outputs": [],
   "source": [
    "df_test_spam_use = df_test_spam_use.drop(['domain_id', 'IID', 'level_1', 'level_2', 'level_3', 'time', 'date', 'tree_version', 'lang'], axis=1)\n",
    "df_test_spam_use = df_test_spam_use.drop_duplicates(subset=['domain'])"
   ]
  },
  {
   "cell_type": "code",
   "execution_count": 22,
   "metadata": {},
   "outputs": [
    {
     "data": {
      "text/plain": [
       "150250"
      ]
     },
     "execution_count": 22,
     "metadata": {},
     "output_type": "execute_result"
    }
   ],
   "source": [
    "len(df_test_spam_use)"
   ]
  },
  {
   "cell_type": "code",
   "execution_count": 23,
   "metadata": {},
   "outputs": [
    {
     "data": {
      "text/html": [
       "<div>\n",
       "<style scoped>\n",
       "    .dataframe tbody tr th:only-of-type {\n",
       "        vertical-align: middle;\n",
       "    }\n",
       "\n",
       "    .dataframe tbody tr th {\n",
       "        vertical-align: top;\n",
       "    }\n",
       "\n",
       "    .dataframe thead th {\n",
       "        text-align: right;\n",
       "    }\n",
       "</style>\n",
       "<table border=\"1\" class=\"dataframe\">\n",
       "  <thead>\n",
       "    <tr style=\"text-align: right;\">\n",
       "      <th></th>\n",
       "      <th>domain</th>\n",
       "      <th>title_desc_preprocess</th>\n",
       "    </tr>\n",
       "  </thead>\n",
       "  <tbody>\n",
       "    <tr>\n",
       "      <th>0</th>\n",
       "      <td>www.vinapas.com</td>\n",
       "      <td>trang_chủ_công_ty thhh thương_mại quốc_tế vina...</td>\n",
       "    </tr>\n",
       "    <tr>\n",
       "      <th>3</th>\n",
       "      <td>baobithiennienky.com</td>\n",
       "      <td>công_ty_tnhh thiên_niên_kỷ tuấn anh chuyên sản...</td>\n",
       "    </tr>\n",
       "    <tr>\n",
       "      <th>6</th>\n",
       "      <td>intuipe.com</td>\n",
       "      <td>công_ty_tnhh sx tm tổng_hợp ii sản_xuất in bao...</td>\n",
       "    </tr>\n",
       "    <tr>\n",
       "      <th>9</th>\n",
       "      <td>baobithuanphat.bizz.vn</td>\n",
       "      <td>công_ty_tnhh đầu_tư bao_bì thuận_phát bao_bì t...</td>\n",
       "    </tr>\n",
       "    <tr>\n",
       "      <th>12</th>\n",
       "      <td>trongdung.vn</td>\n",
       "      <td>cửa_hàng tạp_hóa_trọng dũng sản_phẩm_giá tốt l...</td>\n",
       "    </tr>\n",
       "  </tbody>\n",
       "</table>\n",
       "</div>"
      ],
      "text/plain": [
       "                    domain                              title_desc_preprocess\n",
       "0          www.vinapas.com  trang_chủ_công_ty thhh thương_mại quốc_tế vina...\n",
       "3     baobithiennienky.com  công_ty_tnhh thiên_niên_kỷ tuấn anh chuyên sản...\n",
       "6              intuipe.com  công_ty_tnhh sx tm tổng_hợp ii sản_xuất in bao...\n",
       "9   baobithuanphat.bizz.vn  công_ty_tnhh đầu_tư bao_bì thuận_phát bao_bì t...\n",
       "12            trongdung.vn  cửa_hàng tạp_hóa_trọng dũng sản_phẩm_giá tốt l..."
      ]
     },
     "execution_count": 23,
     "metadata": {},
     "output_type": "execute_result"
    }
   ],
   "source": [
    "df_test_spam_use.head(5)"
   ]
  },
  {
   "cell_type": "code",
   "execution_count": 24,
   "metadata": {},
   "outputs": [],
   "source": [
    "df_need_predict = df_test_spam_use.append(df_test_cant_parsing_use, ignore_index=True)"
   ]
  },
  {
   "cell_type": "code",
   "execution_count": 25,
   "metadata": {},
   "outputs": [
    {
     "data": {
      "text/html": [
       "<div>\n",
       "<style scoped>\n",
       "    .dataframe tbody tr th:only-of-type {\n",
       "        vertical-align: middle;\n",
       "    }\n",
       "\n",
       "    .dataframe tbody tr th {\n",
       "        vertical-align: top;\n",
       "    }\n",
       "\n",
       "    .dataframe thead th {\n",
       "        text-align: right;\n",
       "    }\n",
       "</style>\n",
       "<table border=\"1\" class=\"dataframe\">\n",
       "  <thead>\n",
       "    <tr style=\"text-align: right;\">\n",
       "      <th></th>\n",
       "      <th>domain</th>\n",
       "      <th>title_desc_preprocess</th>\n",
       "    </tr>\n",
       "  </thead>\n",
       "  <tbody>\n",
       "    <tr>\n",
       "      <th>0</th>\n",
       "      <td>www.vinapas.com</td>\n",
       "      <td>trang_chủ_công_ty thhh thương_mại quốc_tế vina...</td>\n",
       "    </tr>\n",
       "    <tr>\n",
       "      <th>1</th>\n",
       "      <td>baobithiennienky.com</td>\n",
       "      <td>công_ty_tnhh thiên_niên_kỷ tuấn anh chuyên sản...</td>\n",
       "    </tr>\n",
       "    <tr>\n",
       "      <th>2</th>\n",
       "      <td>intuipe.com</td>\n",
       "      <td>công_ty_tnhh sx tm tổng_hợp ii sản_xuất in bao...</td>\n",
       "    </tr>\n",
       "    <tr>\n",
       "      <th>3</th>\n",
       "      <td>baobithuanphat.bizz.vn</td>\n",
       "      <td>công_ty_tnhh đầu_tư bao_bì thuận_phát bao_bì t...</td>\n",
       "    </tr>\n",
       "    <tr>\n",
       "      <th>4</th>\n",
       "      <td>trongdung.vn</td>\n",
       "      <td>cửa_hàng tạp_hóa_trọng dũng sản_phẩm_giá tốt l...</td>\n",
       "    </tr>\n",
       "  </tbody>\n",
       "</table>\n",
       "</div>"
      ],
      "text/plain": [
       "                   domain                              title_desc_preprocess\n",
       "0         www.vinapas.com  trang_chủ_công_ty thhh thương_mại quốc_tế vina...\n",
       "1    baobithiennienky.com  công_ty_tnhh thiên_niên_kỷ tuấn anh chuyên sản...\n",
       "2             intuipe.com  công_ty_tnhh sx tm tổng_hợp ii sản_xuất in bao...\n",
       "3  baobithuanphat.bizz.vn  công_ty_tnhh đầu_tư bao_bì thuận_phát bao_bì t...\n",
       "4            trongdung.vn  cửa_hàng tạp_hóa_trọng dũng sản_phẩm_giá tốt l..."
      ]
     },
     "execution_count": 25,
     "metadata": {},
     "output_type": "execute_result"
    }
   ],
   "source": [
    "df_need_predict.head(5)"
   ]
  },
  {
   "cell_type": "code",
   "execution_count": 26,
   "metadata": {},
   "outputs": [
    {
     "data": {
      "text/plain": [
       "150250"
      ]
     },
     "execution_count": 26,
     "metadata": {},
     "output_type": "execute_result"
    }
   ],
   "source": [
    "len(df_need_predict)"
   ]
  },
  {
   "cell_type": "markdown",
   "metadata": {},
   "source": [
    "### DF_EXCEPT"
   ]
  },
  {
   "cell_type": "code",
   "execution_count": 27,
   "metadata": {},
   "outputs": [
    {
     "data": {
      "text/html": [
       "<div>\n",
       "<style scoped>\n",
       "    .dataframe tbody tr th:only-of-type {\n",
       "        vertical-align: middle;\n",
       "    }\n",
       "\n",
       "    .dataframe tbody tr th {\n",
       "        vertical-align: top;\n",
       "    }\n",
       "\n",
       "    .dataframe thead th {\n",
       "        text-align: right;\n",
       "    }\n",
       "</style>\n",
       "<table border=\"1\" class=\"dataframe\">\n",
       "  <thead>\n",
       "    <tr style=\"text-align: right;\">\n",
       "      <th></th>\n",
       "      <th>IID</th>\n",
       "      <th>Review result</th>\n",
       "      <th>title-IID</th>\n",
       "      <th>Prob</th>\n",
       "      <th>threshold_prob</th>\n",
       "      <th>total_domains</th>\n",
       "      <th>remain_domains (be not classified)</th>\n",
       "      <th>keywords_except</th>\n",
       "      <th>Problem</th>\n",
       "    </tr>\n",
       "  </thead>\n",
       "  <tbody>\n",
       "    <tr>\n",
       "      <th>0</th>\n",
       "      <td>A010199</td>\n",
       "      <td>OK</td>\n",
       "      <td>Nhà in ấn, xuất bản địa phương</td>\n",
       "      <td>low + high</td>\n",
       "      <td>0.1</td>\n",
       "      <td>2140</td>\n",
       "      <td>0</td>\n",
       "      <td>NaN</td>\n",
       "      <td>NaN</td>\n",
       "    </tr>\n",
       "  </tbody>\n",
       "</table>\n",
       "</div>"
      ],
      "text/plain": [
       "       IID Review result                       title-IID        Prob  \\\n",
       "0  A010199            OK  Nhà in ấn, xuất bản địa phương  low + high   \n",
       "\n",
       "   threshold_prob  total_domains  remain_domains (be not classified)  \\\n",
       "0             0.1           2140                                   0   \n",
       "\n",
       "  keywords_except Problem  \n",
       "0             NaN     NaN  "
      ]
     },
     "execution_count": 27,
     "metadata": {},
     "output_type": "execute_result"
    }
   ],
   "source": [
    "df = pd.read_excel(PATH_EXCEPT_TREE)\n",
    "df.head(1)"
   ]
  },
  {
   "cell_type": "code",
   "execution_count": 28,
   "metadata": {},
   "outputs": [
    {
     "data": {
      "text/html": [
       "<div>\n",
       "<style scoped>\n",
       "    .dataframe tbody tr th:only-of-type {\n",
       "        vertical-align: middle;\n",
       "    }\n",
       "\n",
       "    .dataframe tbody tr th {\n",
       "        vertical-align: top;\n",
       "    }\n",
       "\n",
       "    .dataframe thead th {\n",
       "        text-align: right;\n",
       "    }\n",
       "</style>\n",
       "<table border=\"1\" class=\"dataframe\">\n",
       "  <thead>\n",
       "    <tr style=\"text-align: right;\">\n",
       "      <th></th>\n",
       "      <th>IID</th>\n",
       "      <th>Review result</th>\n",
       "      <th>title-IID</th>\n",
       "      <th>Prob</th>\n",
       "      <th>threshold_prob</th>\n",
       "      <th>total_domains</th>\n",
       "      <th>remain_domains (be not classified)</th>\n",
       "      <th>keywords_except</th>\n",
       "      <th>Problem</th>\n",
       "    </tr>\n",
       "  </thead>\n",
       "  <tbody>\n",
       "    <tr>\n",
       "      <th>0</th>\n",
       "      <td>A010199</td>\n",
       "      <td>OK</td>\n",
       "      <td>Nhà in ấn, xuất bản địa phương</td>\n",
       "      <td>low + high</td>\n",
       "      <td>0.10</td>\n",
       "      <td>2140</td>\n",
       "      <td>0</td>\n",
       "      <td>NaN</td>\n",
       "      <td>NaN</td>\n",
       "    </tr>\n",
       "    <tr>\n",
       "      <th>1</th>\n",
       "      <td>A010299</td>\n",
       "      <td>OK</td>\n",
       "      <td>Quảng cáo online, website</td>\n",
       "      <td>low + high</td>\n",
       "      <td>0.10</td>\n",
       "      <td>3736</td>\n",
       "      <td>0</td>\n",
       "      <td>NaN</td>\n",
       "      <td>NaN</td>\n",
       "    </tr>\n",
       "    <tr>\n",
       "      <th>2</th>\n",
       "      <td>A020199</td>\n",
       "      <td>NOT OK with low prob</td>\n",
       "      <td>Nông nghiệp</td>\n",
       "      <td>low + high</td>\n",
       "      <td>0.19</td>\n",
       "      <td>191198</td>\n",
       "      <td>188373</td>\n",
       "      <td>NaN</td>\n",
       "      <td>NaN</td>\n",
       "    </tr>\n",
       "    <tr>\n",
       "      <th>3</th>\n",
       "      <td>A020299</td>\n",
       "      <td>OK</td>\n",
       "      <td>Lâm nghiệp</td>\n",
       "      <td>high</td>\n",
       "      <td>0.10</td>\n",
       "      <td>209</td>\n",
       "      <td>0</td>\n",
       "      <td>NaN</td>\n",
       "      <td>NaN</td>\n",
       "    </tr>\n",
       "    <tr>\n",
       "      <th>4</th>\n",
       "      <td>A020399</td>\n",
       "      <td>OK</td>\n",
       "      <td>Ngư nghiệp &amp; Thủy sản</td>\n",
       "      <td>high</td>\n",
       "      <td>0.10</td>\n",
       "      <td>434</td>\n",
       "      <td>0</td>\n",
       "      <td>NaN</td>\n",
       "      <td>NaN</td>\n",
       "    </tr>\n",
       "    <tr>\n",
       "      <th>...</th>\n",
       "      <td>...</td>\n",
       "      <td>...</td>\n",
       "      <td>...</td>\n",
       "      <td>...</td>\n",
       "      <td>...</td>\n",
       "      <td>...</td>\n",
       "      <td>...</td>\n",
       "      <td>...</td>\n",
       "      <td>...</td>\n",
       "    </tr>\n",
       "    <tr>\n",
       "      <th>108</th>\n",
       "      <td>H010399</td>\n",
       "      <td>OK</td>\n",
       "      <td>Phần mềm</td>\n",
       "      <td>low + high</td>\n",
       "      <td>0.10</td>\n",
       "      <td>7805</td>\n",
       "      <td>0</td>\n",
       "      <td>camera, nha</td>\n",
       "      <td>NaN</td>\n",
       "    </tr>\n",
       "    <tr>\n",
       "      <th>109</th>\n",
       "      <td>H020199</td>\n",
       "      <td>OK</td>\n",
       "      <td>Thiết bị nghe</td>\n",
       "      <td>low + high</td>\n",
       "      <td>0.10</td>\n",
       "      <td>1024</td>\n",
       "      <td>0</td>\n",
       "      <td>NaN</td>\n",
       "      <td>NaN</td>\n",
       "    </tr>\n",
       "    <tr>\n",
       "      <th>110</th>\n",
       "      <td>H020299</td>\n",
       "      <td>OK</td>\n",
       "      <td>Máy ảnh</td>\n",
       "      <td>low + high</td>\n",
       "      <td>0.10</td>\n",
       "      <td>866</td>\n",
       "      <td>0</td>\n",
       "      <td>NaN</td>\n",
       "      <td>NaN</td>\n",
       "    </tr>\n",
       "    <tr>\n",
       "      <th>111</th>\n",
       "      <td>H020399</td>\n",
       "      <td>OK</td>\n",
       "      <td>Thiết bị &amp; đồ điện tử gia dụng</td>\n",
       "      <td>low + high</td>\n",
       "      <td>0.10</td>\n",
       "      <td>1863</td>\n",
       "      <td>0</td>\n",
       "      <td>trực_tuyến, online, apk</td>\n",
       "      <td>NaN</td>\n",
       "    </tr>\n",
       "    <tr>\n",
       "      <th>112</th>\n",
       "      <td>H039999</td>\n",
       "      <td>OK</td>\n",
       "      <td>Điện thoại di động</td>\n",
       "      <td>low + high</td>\n",
       "      <td>0.10</td>\n",
       "      <td>6779</td>\n",
       "      <td>0</td>\n",
       "      <td>thang_máy, lọc, universitys, tuyển_dụng, cơ_kh...</td>\n",
       "      <td>NaN</td>\n",
       "    </tr>\n",
       "  </tbody>\n",
       "</table>\n",
       "<p>113 rows × 9 columns</p>\n",
       "</div>"
      ],
      "text/plain": [
       "         IID         Review result                       title-IID  \\\n",
       "0    A010199                    OK  Nhà in ấn, xuất bản địa phương   \n",
       "1    A010299                    OK       Quảng cáo online, website   \n",
       "2    A020199  NOT OK with low prob                     Nông nghiệp   \n",
       "3    A020299                    OK                      Lâm nghiệp   \n",
       "4    A020399                    OK           Ngư nghiệp & Thủy sản   \n",
       "..       ...                   ...                             ...   \n",
       "108  H010399                    OK                        Phần mềm   \n",
       "109  H020199                    OK                   Thiết bị nghe   \n",
       "110  H020299                    OK                         Máy ảnh   \n",
       "111  H020399                    OK  Thiết bị & đồ điện tử gia dụng   \n",
       "112  H039999                    OK              Điện thoại di động   \n",
       "\n",
       "           Prob  threshold_prob  total_domains  \\\n",
       "0    low + high            0.10           2140   \n",
       "1    low + high            0.10           3736   \n",
       "2    low + high            0.19         191198   \n",
       "3          high            0.10            209   \n",
       "4          high            0.10            434   \n",
       "..          ...             ...            ...   \n",
       "108  low + high            0.10           7805   \n",
       "109  low + high            0.10           1024   \n",
       "110  low + high            0.10            866   \n",
       "111  low + high            0.10           1863   \n",
       "112  low + high            0.10           6779   \n",
       "\n",
       "     remain_domains (be not classified)  \\\n",
       "0                                     0   \n",
       "1                                     0   \n",
       "2                                188373   \n",
       "3                                     0   \n",
       "4                                     0   \n",
       "..                                  ...   \n",
       "108                                   0   \n",
       "109                                   0   \n",
       "110                                   0   \n",
       "111                                   0   \n",
       "112                                   0   \n",
       "\n",
       "                                       keywords_except Problem  \n",
       "0                                                  NaN     NaN  \n",
       "1                                                  NaN     NaN  \n",
       "2                                                  NaN     NaN  \n",
       "3                                                  NaN     NaN  \n",
       "4                                                  NaN     NaN  \n",
       "..                                                 ...     ...  \n",
       "108                                        camera, nha     NaN  \n",
       "109                                                NaN     NaN  \n",
       "110                                                NaN     NaN  \n",
       "111                            trực_tuyến, online, apk     NaN  \n",
       "112  thang_máy, lọc, universitys, tuyển_dụng, cơ_kh...     NaN  \n",
       "\n",
       "[113 rows x 9 columns]"
      ]
     },
     "execution_count": 28,
     "metadata": {},
     "output_type": "execute_result"
    }
   ],
   "source": [
    "df"
   ]
  },
  {
   "cell_type": "code",
   "execution_count": 29,
   "metadata": {},
   "outputs": [],
   "source": [
    "def generate_list_des_domain(dfx, type_):\n",
    "    dict_tokenized_vi = {}\n",
    "    keys = []\n",
    "    for index, row in dfx.iterrows():\n",
    "        IID = row[type_]\n",
    "        title_desc = row['title_desc_preprocess']\n",
    "        if IID not in keys:\n",
    "            keys.append(IID)\n",
    "            new_child_list = []\n",
    "            new_child_list.append(title_desc)\n",
    "            #ben duoi chu y check co trong list chua\n",
    "            dict_tokenized_vi[IID] = new_child_list\n",
    "        else:\n",
    "            old_child_list = dict_tokenized_vi[IID]\n",
    "            old_child_list.append(title_desc)\n",
    "    print('length-df = ', len(dfx))\n",
    "    return dict_tokenized_vi"
   ]
  },
  {
   "cell_type": "code",
   "execution_count": 30,
   "metadata": {},
   "outputs": [],
   "source": [
    "dict_IID_threshold = {}\n",
    "dict_IID_keywords_except = {}\n",
    "keys = []\n",
    "for row in df.itertuples():\n",
    "    IID = row.IID\n",
    "    string_execpt = str(row.keywords_except)\n",
    "    threshold = row.threshold_prob\n",
    "    if IID not in keys:\n",
    "        keys.append(IID)\n",
    "        dict_IID_threshold[IID] = threshold\n",
    "        if string_execpt != 'nan':\n",
    "            dict_IID_keywords_except[IID] = string_execpt.split(', ')\n",
    "        else:\n",
    "            list_keywords = []\n",
    "            dict_IID_keywords_except[IID] = list_keywords\n",
    "# print(dict_IID_threshold) \n",
    "# print('============')\n",
    "# print(dict_IID_keywords_except) "
   ]
  },
  {
   "cell_type": "code",
   "execution_count": 31,
   "metadata": {},
   "outputs": [
    {
     "data": {
      "text/plain": [
       "0"
      ]
     },
     "execution_count": 31,
     "metadata": {},
     "output_type": "execute_result"
    }
   ],
   "source": [
    "len(dict_IID_keywords_except['A010199'])"
   ]
  },
  {
   "cell_type": "markdown",
   "metadata": {},
   "source": [
    "# PREDICT"
   ]
  },
  {
   "cell_type": "code",
   "execution_count": 32,
   "metadata": {},
   "outputs": [
    {
     "data": {
      "text/html": [
       "<div>\n",
       "<style scoped>\n",
       "    .dataframe tbody tr th:only-of-type {\n",
       "        vertical-align: middle;\n",
       "    }\n",
       "\n",
       "    .dataframe tbody tr th {\n",
       "        vertical-align: top;\n",
       "    }\n",
       "\n",
       "    .dataframe thead th {\n",
       "        text-align: right;\n",
       "    }\n",
       "</style>\n",
       "<table border=\"1\" class=\"dataframe\">\n",
       "  <thead>\n",
       "    <tr style=\"text-align: right;\">\n",
       "      <th></th>\n",
       "      <th>domain</th>\n",
       "      <th>title_desc_preprocess</th>\n",
       "    </tr>\n",
       "  </thead>\n",
       "  <tbody>\n",
       "    <tr>\n",
       "      <th>0</th>\n",
       "      <td>www.vinapas.com</td>\n",
       "      <td>trang_chủ_công_ty thhh thương_mại quốc_tế vina...</td>\n",
       "    </tr>\n",
       "    <tr>\n",
       "      <th>1</th>\n",
       "      <td>baobithiennienky.com</td>\n",
       "      <td>công_ty_tnhh thiên_niên_kỷ tuấn anh chuyên sản...</td>\n",
       "    </tr>\n",
       "    <tr>\n",
       "      <th>2</th>\n",
       "      <td>intuipe.com</td>\n",
       "      <td>công_ty_tnhh sx tm tổng_hợp ii sản_xuất in bao...</td>\n",
       "    </tr>\n",
       "    <tr>\n",
       "      <th>3</th>\n",
       "      <td>baobithuanphat.bizz.vn</td>\n",
       "      <td>công_ty_tnhh đầu_tư bao_bì thuận_phát bao_bì t...</td>\n",
       "    </tr>\n",
       "    <tr>\n",
       "      <th>4</th>\n",
       "      <td>trongdung.vn</td>\n",
       "      <td>cửa_hàng tạp_hóa_trọng dũng sản_phẩm_giá tốt l...</td>\n",
       "    </tr>\n",
       "  </tbody>\n",
       "</table>\n",
       "</div>"
      ],
      "text/plain": [
       "                   domain                              title_desc_preprocess\n",
       "0         www.vinapas.com  trang_chủ_công_ty thhh thương_mại quốc_tế vina...\n",
       "1    baobithiennienky.com  công_ty_tnhh thiên_niên_kỷ tuấn anh chuyên sản...\n",
       "2             intuipe.com  công_ty_tnhh sx tm tổng_hợp ii sản_xuất in bao...\n",
       "3  baobithuanphat.bizz.vn  công_ty_tnhh đầu_tư bao_bì thuận_phát bao_bì t...\n",
       "4            trongdung.vn  cửa_hàng tạp_hóa_trọng dũng sản_phẩm_giá tốt l..."
      ]
     },
     "execution_count": 32,
     "metadata": {},
     "output_type": "execute_result"
    }
   ],
   "source": [
    "df_need_predict.head(5)"
   ]
  },
  {
   "cell_type": "code",
   "execution_count": 33,
   "metadata": {},
   "outputs": [],
   "source": [
    "# create new folder\n",
    "def util_mkdir(dir):\n",
    "    if not os.path.exists(dir):\n",
    "        os.mkdir(dir)"
   ]
  },
  {
   "cell_type": "code",
   "execution_count": 34,
   "metadata": {},
   "outputs": [],
   "source": [
    "def keep_top_value_in_dict(input_dict, number=5):\n",
    "    return {k: v for k, v in sorted(list(input_dict.items()), key=lambda x: x[1], reverse=True)[:number]}"
   ]
  },
  {
   "cell_type": "code",
   "execution_count": 35,
   "metadata": {},
   "outputs": [],
   "source": [
    "dict_index_with_domain_clean_use = {}\n",
    "count_x = 0\n",
    "for index, row in df_need_predict.iterrows():\n",
    "    dict_index_with_domain_clean_use[count_x] = row['domain']\n",
    "    count_x += 1"
   ]
  },
  {
   "cell_type": "code",
   "execution_count": 36,
   "metadata": {},
   "outputs": [],
   "source": [
    "def have_except_keywords(list_except, title_desc):\n",
    "    list_title_desc = title_desc.split()\n",
    "    for word in list_title_desc:\n",
    "        if word in list_except:\n",
    "            return True\n",
    "    return False"
   ]
  },
  {
   "cell_type": "code",
   "execution_count": 37,
   "metadata": {},
   "outputs": [],
   "source": [
    "# Return list IID-label\n",
    "def get_list_IID_label(dict_str, title_desc):\n",
    "    list_label_result = []\n",
    "    list_IID_result = []\n",
    "    list_prob = []\n",
    "    \n",
    "    max_value = dict_str[list(dict_str)[0]]\n",
    "    label_max_value = list(dict_str)[0]\n",
    "    \n",
    "    if max_value < 0.1:\n",
    "        list_label_result.append(label_max_value)\n",
    "        list_IID_result.append(dict_label_to_IID_use[label_max_value])\n",
    "        list_prob.append(max_value)\n",
    "    else:\n",
    "        for label, prob in dict_str.items():\n",
    "            if len(list_label_result) >= 3:\n",
    "                break\n",
    "            IID = dict_label_to_IID_use[label]\n",
    "            \n",
    "            threshold = dict_IID_threshold[IID]\n",
    "            list_keywords = dict_IID_keywords_except[IID] # Can loai di??\n",
    "            \n",
    "            if prob >= threshold and not have_except_keywords(list_keywords, title_desc):\n",
    "                list_label_result.append(label)\n",
    "                list_IID_result.append(dict_label_to_IID_use[label])\n",
    "                list_prob.append(prob)\n",
    "#             elif have_except_keywords(list_keywords, title_desc):\n",
    "#                 print('IID = ', IID)\n",
    "#                 print('prob = ', prob)\n",
    "#                 print('threshold = ', threshold)\n",
    "#                 print('list_keywords = ', str(list_keywords))\n",
    "#                 print('title_desc = ', str(title_desc))\n",
    "#                 print('=========================')\n",
    "    return list_label_result, list_IID_result, list_prob\n",
    "\n",
    "class Classification:\n",
    "    def __init__(self):\n",
    "        self.model = None\n",
    "        self.vectorizer = None\n",
    "        \n",
    "    def load(self, model):\n",
    "        print('loading %s ...' % (model))\n",
    "        if os.path.isfile(model):\n",
    "            return joblib.load(model)\n",
    "        else:\n",
    "            return None\n",
    "    def load_model(self):\n",
    "        # NEED TO MODIFY\n",
    "        self.vectorizer = self.load(vector_path)\n",
    "        self.model = self.load(model_path)\n",
    "        \n",
    "    def evaluation(self, x):\n",
    "        y_pred = self.model.predict(x)\n",
    "        y_prob = self.model.predict_proba(x)\n",
    "        return y_pred, y_prob\n",
    "    \n",
    "    def feature_extraction(self, X):\n",
    "#         X = X.values.astype('U')\n",
    "        if self.vectorizer == None:\n",
    "            self.vectorizer = TfidfVectorizer()\n",
    "            self.vectorizer.fit(X)\n",
    "            self.vectorizer.stop_words_ = None\n",
    "        return self.vectorizer.transform(X)\n",
    "    \n",
    "    def test(self):\n",
    "        self.load_model()\n",
    "        x_test = self.prepare_data(df_need_predict) # Chuyển sang list các domain để predict\n",
    "        x_test_vec = self.feature_extraction(x_test)\n",
    "        y_pred, y_prob = self.evaluation(x_test_vec)\n",
    "        # write file\n",
    "        self.process_and_save_prob_data(y_pred, y_prob, \n",
    "                                        OUTPUT_PREDICT_ONLY_PREDICT,\n",
    "                                       x_test)\n",
    "#         self.save_model()\n",
    "    def process_and_save_prob_data(self, y_pre, y_prob, output_path, x_title_desc):\n",
    "        # example: [{0: 0.98, 1: 0.66, 2: 0.42, 3: 0.64, 4: 0.12, 5: 0.26}, {0: 0.98, 1: 0.66, 2: 0.42, 3: 0.64, 4: 0.12, 5: 0.26},...]\n",
    "        list_each_dict = []\n",
    "        for i in range(len(y_prob)):\n",
    "            dict_prob = {}\n",
    "            # Với từng dòng là list các xác suất tương ứng, i là index của mỗi dòng, tương ứng thứ tự của domain\n",
    "            for j in range(len(y_prob[i])):\n",
    "                dict_prob[j] = y_prob[i][j]\n",
    "            dict_prob = keep_top_value_in_dict(dict_prob)\n",
    "            list_each_dict.append(dict_prob)\n",
    "        # Save data\n",
    "        print(\"Writing data to csv file\", output_path)\n",
    "        with open(output_path, \"w\") as f:\n",
    "            f_writer = csv.writer(f, delimiter='|')\n",
    "            f_writer.writerow(\n",
    "                ['domain_clean', 'IID', 'title_desc_preprocess', 'date', 'tree_version', 'lang', 'prob'])\n",
    "            for i, value in enumerate(y_pre):\n",
    "                # write each domain ----'\n",
    "                label_y_predict, IID_y_predict, list_prob = get_list_IID_label(list_each_dict[i], x_title_desc[i])\n",
    "                for i_, IID_ in enumerate(IID_y_predict):\n",
    "                    f_writer.writerow(\n",
    "                        [dict_index_with_domain_clean_use[i],\n",
    "                         IID_,\n",
    "                         x_title_desc[i], MONTH, TREE_VERSION, MODE, list_prob[i_]])\n",
    "        print(\"Done writing csv data\")\n",
    "\n",
    "    def prepare_data(self, df_dataset):\n",
    "        # Trả về list các domain để dự đoán\n",
    "        x = []\n",
    "        for name, row in df_dataset.iterrows():\n",
    "            x.append(row['title_desc_preprocess'])\n",
    "        return x\n",
    "    \n",
    "    def run_test(self):\n",
    "        self.test()\n",
    "        \n",
    "    # predict cho từng domain để test\n",
    "    def main_predict(self, domain_title_desc):\n",
    "        self.load_model()\n",
    "        x_test = [domain_title_desc]\n",
    "        x_test_vec = self.feature_extraction(x_test)\n",
    "        y_pred, y_prob = self.evaluation(x_test_vec)\n",
    "        print('y_pred', y_pred)\n",
    "        print('y_prob', y_prob)"
   ]
  },
  {
   "cell_type": "code",
   "execution_count": 38,
   "metadata": {},
   "outputs": [
    {
     "name": "stdout",
     "output_type": "stream",
     "text": [
      "loading /home/polynote/notebooks/anhdt157/classify-use-ml/end-to-end-final-predict/model/model-each-month/vi-vectorizer-202001.pkl ...\n",
      "loading /home/polynote/notebooks/anhdt157/classify-use-ml/end-to-end-final-predict/model/model-each-month/vi-model-202001.pkl ...\n",
      "Writing data to csv file /home/polynote/notebooks/anhdt157/classify-use-ml/end-to-end-final-predict/result_predict/vi_predict_202001_only_predict.csv\n",
      "Done writing csv data\n"
     ]
    }
   ],
   "source": [
    "c = Classification()\n",
    "c.run_test()"
   ]
  },
  {
   "cell_type": "code",
   "execution_count": 39,
   "metadata": {},
   "outputs": [],
   "source": [
    "#====READT TEST FILE - ONLY PREDICT=====\n",
    "df_predict_result = pd.read_csv(OUTPUT_PREDICT_ONLY_PREDICT, delimiter='|')"
   ]
  },
  {
   "cell_type": "code",
   "execution_count": 40,
   "metadata": {},
   "outputs": [
    {
     "data": {
      "text/plain": [
       "123309"
      ]
     },
     "execution_count": 40,
     "metadata": {},
     "output_type": "execute_result"
    }
   ],
   "source": [
    "len(df_predict_result)"
   ]
  },
  {
   "cell_type": "code",
   "execution_count": 41,
   "metadata": {},
   "outputs": [
    {
     "data": {
      "text/html": [
       "<div>\n",
       "<style scoped>\n",
       "    .dataframe tbody tr th:only-of-type {\n",
       "        vertical-align: middle;\n",
       "    }\n",
       "\n",
       "    .dataframe tbody tr th {\n",
       "        vertical-align: top;\n",
       "    }\n",
       "\n",
       "    .dataframe thead th {\n",
       "        text-align: right;\n",
       "    }\n",
       "</style>\n",
       "<table border=\"1\" class=\"dataframe\">\n",
       "  <thead>\n",
       "    <tr style=\"text-align: right;\">\n",
       "      <th></th>\n",
       "      <th>domain_clean</th>\n",
       "      <th>IID</th>\n",
       "      <th>title_desc_preprocess</th>\n",
       "      <th>date</th>\n",
       "      <th>tree_version</th>\n",
       "      <th>lang</th>\n",
       "      <th>prob</th>\n",
       "    </tr>\n",
       "  </thead>\n",
       "  <tbody>\n",
       "    <tr>\n",
       "      <th>0</th>\n",
       "      <td>www.vinapas.com</td>\n",
       "      <td>A020199</td>\n",
       "      <td>trang_chủ_công_ty thhh thương_mại quốc_tế vina...</td>\n",
       "      <td>202001</td>\n",
       "      <td>8</td>\n",
       "      <td>vi</td>\n",
       "      <td>0.988618</td>\n",
       "    </tr>\n",
       "    <tr>\n",
       "      <th>1</th>\n",
       "      <td>baobithiennienky.com</td>\n",
       "      <td>A020199</td>\n",
       "      <td>công_ty_tnhh thiên_niên_kỷ tuấn anh chuyên sản...</td>\n",
       "      <td>202001</td>\n",
       "      <td>8</td>\n",
       "      <td>vi</td>\n",
       "      <td>0.992758</td>\n",
       "    </tr>\n",
       "    <tr>\n",
       "      <th>2</th>\n",
       "      <td>intuipe.com</td>\n",
       "      <td>A020199</td>\n",
       "      <td>công_ty_tnhh sx tm tổng_hợp ii sản_xuất in bao...</td>\n",
       "      <td>202001</td>\n",
       "      <td>8</td>\n",
       "      <td>vi</td>\n",
       "      <td>0.999828</td>\n",
       "    </tr>\n",
       "    <tr>\n",
       "      <th>3</th>\n",
       "      <td>baobithuanphat.bizz.vn</td>\n",
       "      <td>A020199</td>\n",
       "      <td>công_ty_tnhh đầu_tư bao_bì thuận_phát bao_bì t...</td>\n",
       "      <td>202001</td>\n",
       "      <td>8</td>\n",
       "      <td>vi</td>\n",
       "      <td>0.999986</td>\n",
       "    </tr>\n",
       "    <tr>\n",
       "      <th>4</th>\n",
       "      <td>trongdung.vn</td>\n",
       "      <td>A020199</td>\n",
       "      <td>cửa_hàng tạp_hóa_trọng dũng sản_phẩm_giá tốt l...</td>\n",
       "      <td>202001</td>\n",
       "      <td>8</td>\n",
       "      <td>vi</td>\n",
       "      <td>0.870306</td>\n",
       "    </tr>\n",
       "  </tbody>\n",
       "</table>\n",
       "</div>"
      ],
      "text/plain": [
       "             domain_clean      IID  \\\n",
       "0         www.vinapas.com  A020199   \n",
       "1    baobithiennienky.com  A020199   \n",
       "2             intuipe.com  A020199   \n",
       "3  baobithuanphat.bizz.vn  A020199   \n",
       "4            trongdung.vn  A020199   \n",
       "\n",
       "                               title_desc_preprocess    date  tree_version  \\\n",
       "0  trang_chủ_công_ty thhh thương_mại quốc_tế vina...  202001             8   \n",
       "1  công_ty_tnhh thiên_niên_kỷ tuấn anh chuyên sản...  202001             8   \n",
       "2  công_ty_tnhh sx tm tổng_hợp ii sản_xuất in bao...  202001             8   \n",
       "3  công_ty_tnhh đầu_tư bao_bì thuận_phát bao_bì t...  202001             8   \n",
       "4  cửa_hàng tạp_hóa_trọng dũng sản_phẩm_giá tốt l...  202001             8   \n",
       "\n",
       "  lang      prob  \n",
       "0   vi  0.988618  \n",
       "1   vi  0.992758  \n",
       "2   vi  0.999828  \n",
       "3   vi  0.999986  \n",
       "4   vi  0.870306  "
      ]
     },
     "execution_count": 41,
     "metadata": {},
     "output_type": "execute_result"
    }
   ],
   "source": [
    "df_predict_result.head(5)"
   ]
  },
  {
   "cell_type": "code",
   "execution_count": 42,
   "metadata": {},
   "outputs": [],
   "source": [
    "df_predict_result = df_predict_result.rename(columns={\"domain_clean\": \"domain\"})"
   ]
  },
  {
   "cell_type": "code",
   "execution_count": 43,
   "metadata": {},
   "outputs": [
    {
     "data": {
      "text/html": [
       "<div>\n",
       "<style scoped>\n",
       "    .dataframe tbody tr th:only-of-type {\n",
       "        vertical-align: middle;\n",
       "    }\n",
       "\n",
       "    .dataframe tbody tr th {\n",
       "        vertical-align: top;\n",
       "    }\n",
       "\n",
       "    .dataframe thead th {\n",
       "        text-align: right;\n",
       "    }\n",
       "</style>\n",
       "<table border=\"1\" class=\"dataframe\">\n",
       "  <thead>\n",
       "    <tr style=\"text-align: right;\">\n",
       "      <th></th>\n",
       "      <th>domain</th>\n",
       "      <th>IID</th>\n",
       "      <th>title_desc_preprocess</th>\n",
       "      <th>date</th>\n",
       "      <th>tree_version</th>\n",
       "      <th>lang</th>\n",
       "      <th>prob</th>\n",
       "    </tr>\n",
       "  </thead>\n",
       "  <tbody>\n",
       "    <tr>\n",
       "      <th>0</th>\n",
       "      <td>www.vinapas.com</td>\n",
       "      <td>A020199</td>\n",
       "      <td>trang_chủ_công_ty thhh thương_mại quốc_tế vina...</td>\n",
       "      <td>202001</td>\n",
       "      <td>8</td>\n",
       "      <td>vi</td>\n",
       "      <td>0.988618</td>\n",
       "    </tr>\n",
       "    <tr>\n",
       "      <th>1</th>\n",
       "      <td>baobithiennienky.com</td>\n",
       "      <td>A020199</td>\n",
       "      <td>công_ty_tnhh thiên_niên_kỷ tuấn anh chuyên sản...</td>\n",
       "      <td>202001</td>\n",
       "      <td>8</td>\n",
       "      <td>vi</td>\n",
       "      <td>0.992758</td>\n",
       "    </tr>\n",
       "    <tr>\n",
       "      <th>2</th>\n",
       "      <td>intuipe.com</td>\n",
       "      <td>A020199</td>\n",
       "      <td>công_ty_tnhh sx tm tổng_hợp ii sản_xuất in bao...</td>\n",
       "      <td>202001</td>\n",
       "      <td>8</td>\n",
       "      <td>vi</td>\n",
       "      <td>0.999828</td>\n",
       "    </tr>\n",
       "    <tr>\n",
       "      <th>3</th>\n",
       "      <td>baobithuanphat.bizz.vn</td>\n",
       "      <td>A020199</td>\n",
       "      <td>công_ty_tnhh đầu_tư bao_bì thuận_phát bao_bì t...</td>\n",
       "      <td>202001</td>\n",
       "      <td>8</td>\n",
       "      <td>vi</td>\n",
       "      <td>0.999986</td>\n",
       "    </tr>\n",
       "    <tr>\n",
       "      <th>4</th>\n",
       "      <td>trongdung.vn</td>\n",
       "      <td>A020199</td>\n",
       "      <td>cửa_hàng tạp_hóa_trọng dũng sản_phẩm_giá tốt l...</td>\n",
       "      <td>202001</td>\n",
       "      <td>8</td>\n",
       "      <td>vi</td>\n",
       "      <td>0.870306</td>\n",
       "    </tr>\n",
       "  </tbody>\n",
       "</table>\n",
       "</div>"
      ],
      "text/plain": [
       "                   domain      IID  \\\n",
       "0         www.vinapas.com  A020199   \n",
       "1    baobithiennienky.com  A020199   \n",
       "2             intuipe.com  A020199   \n",
       "3  baobithuanphat.bizz.vn  A020199   \n",
       "4            trongdung.vn  A020199   \n",
       "\n",
       "                               title_desc_preprocess    date  tree_version  \\\n",
       "0  trang_chủ_công_ty thhh thương_mại quốc_tế vina...  202001             8   \n",
       "1  công_ty_tnhh thiên_niên_kỷ tuấn anh chuyên sản...  202001             8   \n",
       "2  công_ty_tnhh sx tm tổng_hợp ii sản_xuất in bao...  202001             8   \n",
       "3  công_ty_tnhh đầu_tư bao_bì thuận_phát bao_bì t...  202001             8   \n",
       "4  cửa_hàng tạp_hóa_trọng dũng sản_phẩm_giá tốt l...  202001             8   \n",
       "\n",
       "  lang      prob  \n",
       "0   vi  0.988618  \n",
       "1   vi  0.992758  \n",
       "2   vi  0.999828  \n",
       "3   vi  0.999986  \n",
       "4   vi  0.870306  "
      ]
     },
     "execution_count": 43,
     "metadata": {},
     "output_type": "execute_result"
    }
   ],
   "source": [
    "df_predict_result.head(5)"
   ]
  },
  {
   "cell_type": "markdown",
   "metadata": {},
   "source": [
    "# END"
   ]
  },
  {
   "cell_type": "code",
   "execution_count": null,
   "metadata": {},
   "outputs": [],
   "source": []
  },
  {
   "cell_type": "code",
   "execution_count": null,
   "metadata": {},
   "outputs": [],
   "source": []
  },
  {
   "cell_type": "code",
   "execution_count": null,
   "metadata": {},
   "outputs": [],
   "source": []
  },
  {
   "cell_type": "code",
   "execution_count": null,
   "metadata": {},
   "outputs": [],
   "source": []
  }
 ],
 "metadata": {
  "kernelspec": {
   "display_name": "Python 3",
   "language": "python",
   "name": "python3"
  },
  "language_info": {
   "codemirror_mode": {
    "name": "ipython",
    "version": 3
   },
   "file_extension": ".py",
   "mimetype": "text/x-python",
   "name": "python",
   "nbconvert_exporter": "python",
   "pygments_lexer": "ipython3",
   "version": "3.6.8"
  }
 },
 "nbformat": 4,
 "nbformat_minor": 2
}
